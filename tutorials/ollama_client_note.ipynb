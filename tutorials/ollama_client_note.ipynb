{
 "cells": [
  {
   "cell_type": "markdown",
   "metadata": {},
   "source": [
    "# 🤗 Use Ollama in LightRAG\n",
    "\n",
    "# Quick Links\n",
    "\n",
    "Github repo: https://github.com/SylphAI-Inc/LightRAG\n",
    "\n",
    "Full Tutorials: https://lightrag.sylph.ai/index.html#\n",
    "\n",
    "Discord: https://discord.gg/ezzszrRZvT\n",
    "\n",
    "## 📖 Outline\n",
    "\n",
    "We will show you how to use Ollama llm and embedding models in LightRAG `Generator` and `Embedder`. \n",
    "In particular, we will test `llama3` and `jina/jina-embeddings-v2-base-e` for embeddings.\n",
    "For more models, refer to the [ollama model library](https://ollama.com/library).\n",
    "\n",
    "## ⛵ Quick Intro\n",
    "\n",
    "Ollama is an app that allows you to run transformer models locally with optimized performance.\n",
    "We integrated ollama as a model client [`OllamaClient`](). \n",
    "It uses [ollama python sdk](https://github.com/ollama/ollama-python) with its `Client` and `AsyncClient` to interact with the ollama API. \n",
    "For LLM, we use `generate` instead of `chat` as LightRAG handles the formatting of the prompt.\n",
    "For embeddings, we use `embeddings` to get the embeddings of the input text.\n",
    "As of right now, Ollama does not support batch embeddings yet. [2024-07-18]\n",
    "Here is their blog on plan to support batch embeddings: [link]( https://ollama.com/blog/embedding-models).\n",
    "\n",
    "\n",
    "### Prerequisites\n",
    "\n",
    "As the model is running locally, we need to first download the app following their [official instructions](https://github.com/ollama/ollama?tab=readme-ov-file).\n",
    "Then, we need to pull the models we want to use.\n",
    "\n",
    "```bash\n",
    "ollama pull ollama3\n",
    "ollama pull jina/jina-embeddings-v2-base-e\n",
    "```"
   ]
  }
 ],
 "metadata": {
  "kernelspec": {
   "display_name": "my-project-kernel",
   "language": "python",
   "name": "my-project-kernel"
  },
  "language_info": {
   "name": "python",
   "version": "3.12.4"
  }
 },
 "nbformat": 4,
 "nbformat_minor": 2
}
