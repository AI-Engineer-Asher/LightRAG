{
 "cells": [
  {
   "cell_type": "code",
   "execution_count": 4,
   "metadata": {},
   "outputs": [],
   "source": [
    "import re\n",
    "from lightrag.core import Component, Generator\n",
    "from lightrag.components.model_client import OpenAIClient\n",
    "from lightrag.components.model_client import GroqAPIClient\n",
    "from lightrag.utils import setup_env # make sure you have a .env file with OPENAI_API_KEY and GROQ_API_KEY"
   ]
  },
  {
   "cell_type": "code",
   "execution_count": 5,
   "metadata": {},
   "outputs": [],
   "source": [
    "template_doc = r\"\"\"<SYS> You are a doctor </SYS> User: {{input_str}}\"\"\""
   ]
  },
  {
   "cell_type": "markdown",
   "metadata": {},
   "source": [
    "Let's turn on the library log to help with debugging."
   ]
  },
  {
   "cell_type": "code",
   "execution_count": 6,
   "metadata": {},
   "outputs": [],
   "source": [
    "from lightrag.utils import enable_library_logging\n",
    "enable_library_logging()"
   ]
  },
  {
   "cell_type": "code",
   "execution_count": 7,
   "metadata": {},
   "outputs": [],
   "source": [
    "#Toy example\n",
    "\n",
    "class DocQA(Component):\n",
    "    def __init__(self):\n",
    "        super(DocQA, self).__init__()\n",
    "        self.doc = Generator(\n",
    "            template=template_doc,\n",
    "            model_client=OpenAIClient(),\n",
    "            model_kwargs={\"model\": \"gpt-3.5-turbo\"},\n",
    "        )\n",
    "\n",
    "    def call(self, query: str) -> str:\n",
    "        return self.doc(prompt_kwargs={\"input_str\": query}).data\n",
    "    "
   ]
  },
  {
   "cell_type": "code",
   "execution_count": 8,
   "metadata": {},
   "outputs": [
    {
     "name": "stdout",
     "output_type": "stream",
     "text": [
      "2024-06-10 10:05:19 - INFO - [prompt_builder.py:82:__init__] - Prompt has variables: ['input_str']\n"
     ]
    },
    {
     "data": {
      "text/plain": [
       "DocQA(\n",
       "  (doc): Generator(\n",
       "    model_kwargs={'model': 'gpt-3.5-turbo'}, model_type=ModelType.LLM\n",
       "    (prompt): Prompt(template: <SYS> You are a doctor </SYS> User: {{input_str}}, prompt_variables: ['input_str'])\n",
       "    (model_client): OpenAIClient()\n",
       "  )\n",
       ")"
      ]
     },
     "execution_count": 8,
     "metadata": {},
     "output_type": "execute_result"
    }
   ],
   "source": [
    "doc = DocQA()\n",
    "doc"
   ]
  },
  {
   "cell_type": "code",
   "execution_count": 9,
   "metadata": {},
   "outputs": [
    {
     "name": "stdout",
     "output_type": "stream",
     "text": [
      "2024-06-10 10:05:19 - INFO - [generator.py:194:call] - prompt_kwargs: {'input_str': 'What is the best treatment for headache?'}\n",
      "2024-06-10 10:05:19 - INFO - [generator.py:195:call] - model_kwargs: {}\n",
      "2024-06-10 10:05:19 - INFO - [openai_client.py:122:call] - api_kwargs: {'model': 'gpt-3.5-turbo', 'messages': [{'role': 'system', 'content': '<SYS> You are a doctor </SYS> User: What is the best treatment for headache?'}]}\n",
      "2024-06-10 10:05:22 - INFO - [_client.py:1026:_send_single_request] - HTTP Request: POST https://api.openai.com/v1/chat/completions \"HTTP/1.1 200 OK\"\n",
      "2024-06-10 10:05:22 - INFO - [generator.py:203:call] - output: GeneratorOutput(data='As a doctor, the best treatment for a headache depends on the underlying cause of the headache. In general, some common treatments for headaches include:\\n\\n1. Over-the-counter pain relievers such as acetaminophen, ibuprofen, or aspirin.\\n2. Getting enough rest and relaxation.\\n3. Applying a cold or warm compress to the head or neck.\\n4. Hydrating by drinking plenty of water.\\n5. Avoiding triggers such as certain foods, drinks, or environmental factors.\\n6. Practicing relaxation techniques such as deep breathing or meditation.\\n7. Prescription medications if the headache is severe or persistent.\\n\\nIt is important to consult with a healthcare professional for a proper diagnosis and treatment plan tailored to your specific needs.', error=None, raw_response='As a doctor, the best treatment for a headache depends on the underlying cause of the headache. In general, some common treatments for headaches include:\\n\\n1. Over-the-counter pain relievers such as acetaminophen, ibuprofen, or aspirin.\\n2. Getting enough rest and relaxation.\\n3. Applying a cold or warm compress to the head or neck.\\n4. Hydrating by drinking plenty of water.\\n5. Avoiding triggers such as certain foods, drinks, or environmental factors.\\n6. Practicing relaxation techniques such as deep breathing or meditation.\\n7. Prescription medications if the headache is severe or persistent.\\n\\nIt is important to consult with a healthcare professional for a proper diagnosis and treatment plan tailored to your specific needs.')\n",
      "As a doctor, the best treatment for a headache depends on the underlying cause of the headache. In general, some common treatments for headaches include:\n",
      "\n",
      "1. Over-the-counter pain relievers such as acetaminophen, ibuprofen, or aspirin.\n",
      "2. Getting enough rest and relaxation.\n",
      "3. Applying a cold or warm compress to the head or neck.\n",
      "4. Hydrating by drinking plenty of water.\n",
      "5. Avoiding triggers such as certain foods, drinks, or environmental factors.\n",
      "6. Practicing relaxation techniques such as deep breathing or meditation.\n",
      "7. Prescription medications if the headache is severe or persistent.\n",
      "\n",
      "It is important to consult with a healthcare professional for a proper diagnosis and treatment plan tailored to your specific needs.\n"
     ]
    }
   ],
   "source": [
    "print(doc(\"What is the best treatment for headache?\"))"
   ]
  },
  {
   "cell_type": "code",
   "execution_count": 10,
   "metadata": {},
   "outputs": [
    {
     "name": "stdout",
     "output_type": "stream",
     "text": [
      "('', DocQA(\n",
      "  (doc): Generator(\n",
      "    model_kwargs={'model': 'gpt-3.5-turbo'}, model_type=ModelType.LLM\n",
      "    (prompt): Prompt(template: <SYS> You are a doctor </SYS> User: {{input_str}}, prompt_variables: ['input_str'])\n",
      "    (model_client): OpenAIClient()\n",
      "  )\n",
      "))\n",
      "('doc', Generator(\n",
      "  model_kwargs={'model': 'gpt-3.5-turbo'}, model_type=ModelType.LLM\n",
      "  (prompt): Prompt(template: <SYS> You are a doctor </SYS> User: {{input_str}}, prompt_variables: ['input_str'])\n",
      "  (model_client): OpenAIClient()\n",
      "))\n",
      "('doc.prompt', Prompt(template: <SYS> You are a doctor </SYS> User: {{input_str}}, prompt_variables: ['input_str']))\n",
      "('doc.model_client', OpenAIClient())\n"
     ]
    }
   ],
   "source": [
    "# list other subcomponents\n",
    "\n",
    "for subcomponent in doc.named_components():\n",
    "    print(subcomponent)"
   ]
  },
  {
   "cell_type": "markdown",
   "metadata": {},
   "source": [
    "Let's add a parameter"
   ]
  },
  {
   "cell_type": "code",
   "execution_count": 11,
   "metadata": {},
   "outputs": [],
   "source": [
    "from lightrag.core.parameter import Parameter\n",
    "\n",
    "doc.register_parameter(\"demo\", param=Parameter(data=\"demo\"))"
   ]
  },
  {
   "cell_type": "code",
   "execution_count": 12,
   "metadata": {},
   "outputs": [
    {
     "name": "stdout",
     "output_type": "stream",
     "text": [
      "('demo', Parameter: demo)\n"
     ]
    }
   ],
   "source": [
    "# list all parameters\n",
    "for param in doc.named_parameters():\n",
    "    print(param)"
   ]
  },
  {
   "cell_type": "code",
   "execution_count": 13,
   "metadata": {},
   "outputs": [
    {
     "data": {
      "text/plain": [
       "{'type': 'DocQA',\n",
       " 'data': {'_components': {'doc': {'type': 'Generator',\n",
       "    'data': {'_components': {'model_client': {'type': 'OpenAIClient',\n",
       "       'data': {'_components': {},\n",
       "        '_parameters': {},\n",
       "        'training': False,\n",
       "        'sync_client': <openai.OpenAI at 0x12766e490>,\n",
       "        'async_client': None,\n",
       "        '_api_key': None}},\n",
       "      'prompt': {'type': 'Prompt',\n",
       "       'data': {'_components': {},\n",
       "        '_parameters': {},\n",
       "        'training': False,\n",
       "        '_template_string': '<SYS> You are a doctor </SYS> User: {{input_str}}',\n",
       "        'prompt_variables': ['input_str'],\n",
       "        'preset_prompt_kwargs': None}}},\n",
       "     '_parameters': {},\n",
       "     'training': False,\n",
       "     'template': '<SYS> You are a doctor </SYS> User: {{input_str}}',\n",
       "     'preset_prompt_kwargs': None,\n",
       "     'model_kwargs': {'model': 'gpt-3.5-turbo'},\n",
       "     'output_processors': None,\n",
       "     '_trainable_params': []}}},\n",
       "  '_parameters': {'demo': {'data': 'demo', 'requires_opt': True}},\n",
       "  'training': False}}"
      ]
     },
     "execution_count": 13,
     "metadata": {},
     "output_type": "execute_result"
    }
   ],
   "source": [
    "doc.to_dict()"
   ]
  },
  {
   "cell_type": "code",
   "execution_count": 14,
   "metadata": {},
   "outputs": [],
   "source": [
    "from lightrag.utils.serialization import save_json\n",
    "\n",
    "save_json(doc.to_dict(), \"doc.json\")"
   ]
  },
  {
   "cell_type": "code",
   "execution_count": 15,
   "metadata": {},
   "outputs": [
    {
     "data": {
      "text/plain": [
       "OrderedDict([('demo', Parameter: demo)])"
      ]
     },
     "execution_count": 15,
     "metadata": {},
     "output_type": "execute_result"
    }
   ],
   "source": [
    "doc.state_dict()"
   ]
  },
  {
   "cell_type": "code",
   "execution_count": 16,
   "metadata": {},
   "outputs": [
    {
     "name": "stdout",
     "output_type": "stream",
     "text": [
      "2024-06-10 10:05:22 - INFO - [generator.py:194:call] - prompt_kwargs: {'input_str': 'What is the best treatment for a cold?'}\n",
      "2024-06-10 10:05:22 - INFO - [generator.py:195:call] - model_kwargs: {}\n",
      "2024-06-10 10:05:22 - INFO - [openai_client.py:122:call] - api_kwargs: {'model': 'gpt-3.5-turbo', 'messages': [{'role': 'system', 'content': '<SYS> You are a doctor </SYS> User: What is the best treatment for a cold?'}]}\n",
      "2024-06-10 10:05:25 - INFO - [_client.py:1026:_send_single_request] - HTTP Request: POST https://api.openai.com/v1/chat/completions \"HTTP/1.1 200 OK\"\n",
      "2024-06-10 10:05:25 - INFO - [generator.py:203:call] - output: GeneratorOutput(data='The best treatment for a cold typically includes rest, staying hydrated, and using over-the-counter medications to help relieve symptoms such as fever, congestion, and sore throat. It is also important to practice good hygiene by washing your hands frequently and covering your nose and mouth when you cough or sneeze to prevent the spread of the virus. If your symptoms persist or worsen, it is recommended to consult with a healthcare provider.', error=None, raw_response='The best treatment for a cold typically includes rest, staying hydrated, and using over-the-counter medications to help relieve symptoms such as fever, congestion, and sore throat. It is also important to practice good hygiene by washing your hands frequently and covering your nose and mouth when you cough or sneeze to prevent the spread of the virus. If your symptoms persist or worsen, it is recommended to consult with a healthcare provider.')\n"
     ]
    },
    {
     "data": {
      "text/plain": [
       "'The best treatment for a cold typically includes rest, staying hydrated, and using over-the-counter medications to help relieve symptoms such as fever, congestion, and sore throat. It is also important to practice good hygiene by washing your hands frequently and covering your nose and mouth when you cough or sneeze to prevent the spread of the virus. If your symptoms persist or worsen, it is recommended to consult with a healthcare provider.'"
      ]
     },
     "execution_count": 16,
     "metadata": {},
     "output_type": "execute_result"
    }
   ],
   "source": [
    "doc.call(\"What is the best treatment for a cold?\")"
   ]
  },
  {
   "cell_type": "code",
   "execution_count": 17,
   "metadata": {},
   "outputs": [
    {
     "name": "stdout",
     "output_type": "stream",
     "text": [
      "2\n",
      "<class 'lightrag.core.component.FunComponent'>\n"
     ]
    }
   ],
   "source": [
    "from lightrag.core.component import FunComponent\n",
    "\n",
    "def add_one(x):\n",
    "    return x + 1\n",
    "\n",
    "fun_component = FunComponent(add_one)\n",
    "print(fun_component(1))  \n",
    "print(type(fun_component))  \n",
    "\n",
    "# output:\n",
    "# 2\n",
    "# <class 'core.component.FunComponent'>"
   ]
  },
  {
   "cell_type": "code",
   "execution_count": 18,
   "metadata": {},
   "outputs": [
    {
     "name": "stdout",
     "output_type": "stream",
     "text": [
      "2\n",
      "<class 'lightrag.core.component.AddOneComponent'>\n"
     ]
    }
   ],
   "source": [
    "from lightrag.core.component import fun_to_component \n",
    "\n",
    "fun_component = fun_to_component(add_one)\n",
    "print(fun_component(1))\n",
    "print(type(fun_component))\n",
    "\n",
    "# output:\n",
    "# 2\n",
    "# <class 'lightrag.core.component.AddOneComponent'>"
   ]
  },
  {
   "cell_type": "code",
   "execution_count": 19,
   "metadata": {},
   "outputs": [
    {
     "name": "stdout",
     "output_type": "stream",
     "text": [
      "2\n",
      "<class 'lightrag.core.component.AddOneComponent'>\n"
     ]
    }
   ],
   "source": [
    "# use it as a decorator\n",
    "@fun_to_component\n",
    "def add_one(x):\n",
    "    return x + 1\n",
    "\n",
    "print(add_one(1))\n",
    "print(type(add_one))\n",
    "\n",
    "# output:\n",
    "# 2\n",
    "# <class 'lightrag.core.component.AddOneComponent'>"
   ]
  },
  {
   "cell_type": "code",
   "execution_count": 20,
   "metadata": {},
   "outputs": [
    {
     "name": "stdout",
     "output_type": "stream",
     "text": [
      "2024-06-10 10:05:25 - INFO - [generator.py:194:call] - prompt_kwargs: {'input_str': 'What is the best treatment for headache?Please be concise and only list the top treatments.'}\n",
      "2024-06-10 10:05:25 - INFO - [generator.py:195:call] - model_kwargs: {}\n",
      "2024-06-10 10:05:25 - INFO - [openai_client.py:122:call] - api_kwargs: {'model': 'gpt-3.5-turbo', 'messages': [{'role': 'system', 'content': '<SYS> You are a doctor </SYS> User: What is the best treatment for headache?Please be concise and only list the top treatments.'}]}\n",
      "2024-06-10 10:05:26 - INFO - [_client.py:1026:_send_single_request] - HTTP Request: POST https://api.openai.com/v1/chat/completions \"HTTP/1.1 200 OK\"\n",
      "2024-06-10 10:05:26 - INFO - [generator.py:203:call] - output: GeneratorOutput(data='1. Over-the-counter pain relievers such as ibuprofen or acetaminophen\\n2. Rest and hydration\\n3. Relaxation techniques such as deep breathing or meditation', error=None, raw_response='1. Over-the-counter pain relievers such as ibuprofen or acetaminophen\\n2. Rest and hydration\\n3. Relaxation techniques such as deep breathing or meditation')\n",
      "1. Over-the-counter pain relievers such as ibuprofen or acetaminophen\n",
      "2. Rest and hydration\n",
      "3. Relaxation techniques such as deep breathing or meditation\n"
     ]
    }
   ],
   "source": [
    "from lightrag.core.component import Sequential\n",
    "\n",
    "@fun_to_component\n",
    "def enhance_query(query:str) -> str:\n",
    "    return query + \"Please be concise and only list the top treatments.\"\n",
    "\n",
    "seq = Sequential(enhance_query, doc)\n",
    "\n",
    "query = \"What is the best treatment for headache?\"\n",
    "print(seq(query))"
   ]
  },
  {
   "cell_type": "code",
   "execution_count": 23,
   "metadata": {},
   "outputs": [],
   "source": [
    "# sequential with just a function, will raise error\n",
    "# def enhance_query(query:str) -> str:\n",
    "#     return query + \"Please be concise and only list the top treatments.\"\n",
    "# seq2 = Sequential(enhance_query, doc)\n",
    "# print(seq2(query))\n",
    "# print(seq2)"
   ]
  },
  {
   "cell_type": "code",
   "execution_count": 21,
   "metadata": {},
   "outputs": [
    {
     "data": {
      "text/plain": [
       "Sequential(\n",
       "  (0): EnhanceQueryComponent()\n",
       "  (1): DocQA(\n",
       "    (doc): Generator(\n",
       "      model_kwargs={'model': 'gpt-3.5-turbo'}, model_type=ModelType.LLM\n",
       "      (prompt): Prompt(template: <SYS> You are a doctor </SYS> User: {{input_str}}, prompt_variables: ['input_str'])\n",
       "      (model_client): OpenAIClient()\n",
       "    )\n",
       "  )\n",
       ")"
      ]
     },
     "execution_count": 21,
     "metadata": {},
     "output_type": "execute_result"
    }
   ],
   "source": [
    "seq"
   ]
  },
  {
   "cell_type": "markdown",
   "metadata": {},
   "source": [
    "# TODO: LLM for single choices"
   ]
  }
 ],
 "metadata": {
  "kernelspec": {
   "display_name": ".venv",
   "language": "python",
   "name": "python3"
  },
  "language_info": {
   "codemirror_mode": {
    "name": "ipython",
    "version": 3
   },
   "file_extension": ".py",
   "mimetype": "text/x-python",
   "name": "python",
   "nbconvert_exporter": "python",
   "pygments_lexer": "ipython3",
   "version": "3.11.6"
  }
 },
 "nbformat": 4,
 "nbformat_minor": 2
}
