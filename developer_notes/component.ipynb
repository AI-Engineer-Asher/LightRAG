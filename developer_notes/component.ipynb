{
 "cells": [
  {
   "cell_type": "code",
   "execution_count": 48,
   "metadata": {},
   "outputs": [],
   "source": [
    "import re\n",
    "from lightrag.core import Component, Generator\n",
    "from lightrag.components.model_client import OpenAIClient\n",
    "from lightrag.components.model_client import GroqAPIClient\n",
    "from lightrag.utils import setup_env # make sure you have a .env file with OPENAI_API_KEY and GROQ_API_KEY"
   ]
  },
  {
   "cell_type": "code",
   "execution_count": 31,
   "metadata": {},
   "outputs": [],
   "source": [
    "template_doc = r\"\"\"<SYS> You are a doctor </SYS> User: {{input_str}}\"\"\""
   ]
  },
  {
   "cell_type": "markdown",
   "metadata": {},
   "source": [
    "Let's turn on the library log to help with debugging."
   ]
  },
  {
   "cell_type": "code",
   "execution_count": 32,
   "metadata": {},
   "outputs": [],
   "source": [
    "from lightrag.utils import enable_library_logging\n",
    "enable_library_logging()"
   ]
  },
  {
   "cell_type": "code",
   "execution_count": 33,
   "metadata": {},
   "outputs": [],
   "source": [
    "#Toy example\n",
    "\n",
    "class DocQA(Component):\n",
    "    def __init__(self):\n",
    "        super(DocQA, self).__init__()\n",
    "        self.doc = Generator(\n",
    "            template=template_doc,\n",
    "            model_client=OpenAIClient(),\n",
    "            model_kwargs={\"model\": \"gpt-3.5-turbo\"},\n",
    "        )\n",
    "\n",
    "    def call(self, query: str) -> str:\n",
    "        return self.doc(prompt_kwargs={\"input_str\": query}).data\n",
    "    "
   ]
  },
  {
   "cell_type": "code",
   "execution_count": 34,
   "metadata": {},
   "outputs": [
    {
     "name": "stdout",
     "output_type": "stream",
     "text": [
      "2024-06-09 23:12:34 - INFO - [prompt_builder.py:82:__init__] - Prompt has variables: ['input_str']\n"
     ]
    },
    {
     "data": {
      "text/plain": [
       "DocQA(\n",
       "  (doc): Generator(\n",
       "    model_kwargs={'model': 'gpt-3.5-turbo'}, model_type=ModelType.LLM\n",
       "    (prompt): Prompt(template: <SYS> You are a doctor </SYS> User: {{input_str}}, prompt_variables: ['input_str'])\n",
       "    (model_client): OpenAIClient()\n",
       "  )\n",
       ")"
      ]
     },
     "execution_count": 34,
     "metadata": {},
     "output_type": "execute_result"
    }
   ],
   "source": [
    "doc = DocQA()\n",
    "doc"
   ]
  },
  {
   "cell_type": "code",
   "execution_count": 35,
   "metadata": {},
   "outputs": [
    {
     "name": "stdout",
     "output_type": "stream",
     "text": [
      "2024-06-09 23:12:34 - INFO - [generator.py:196:call] - prompt_kwargs: {'input_str': 'What is the best treatment for headache?'}\n",
      "2024-06-09 23:12:34 - INFO - [generator.py:197:call] - model_kwargs: {}\n",
      "2024-06-09 23:12:34 - INFO - [openai_client.py:122:call] - api_kwargs: {'model': 'gpt-3.5-turbo', 'messages': [{'role': 'system', 'content': '<SYS> You are a doctor </SYS> User: What is the best treatment for headache?'}]}\n",
      "2024-06-09 23:12:36 - INFO - [_client.py:1026:_send_single_request] - HTTP Request: POST https://api.openai.com/v1/chat/completions \"HTTP/1.1 200 OK\"\n",
      "2024-06-09 23:12:36 - INFO - [generator.py:205:call] - output: GeneratorOutput(data=\"The best treatment for a headache varies depending on the cause of the headache. For tension headaches, over-the-counter pain relievers such as ibuprofen or acetaminophen may be helpful. If the headache is due to dehydration, drinking plenty of water and rest may help. For migraines, prescription medications such as triptans may be necessary. It's important to consult with a healthcare professional to determine the most appropriate treatment for your specific type of headache.\", error=None, raw_response=\"The best treatment for a headache varies depending on the cause of the headache. For tension headaches, over-the-counter pain relievers such as ibuprofen or acetaminophen may be helpful. If the headache is due to dehydration, drinking plenty of water and rest may help. For migraines, prescription medications such as triptans may be necessary. It's important to consult with a healthcare professional to determine the most appropriate treatment for your specific type of headache.\")\n",
      "The best treatment for a headache varies depending on the cause of the headache. For tension headaches, over-the-counter pain relievers such as ibuprofen or acetaminophen may be helpful. If the headache is due to dehydration, drinking plenty of water and rest may help. For migraines, prescription medications such as triptans may be necessary. It's important to consult with a healthcare professional to determine the most appropriate treatment for your specific type of headache.\n"
     ]
    }
   ],
   "source": [
    "print(doc(\"What is the best treatment for headache?\"))"
   ]
  },
  {
   "cell_type": "code",
   "execution_count": 36,
   "metadata": {},
   "outputs": [
    {
     "name": "stdout",
     "output_type": "stream",
     "text": [
      "('', DocQA(\n",
      "  (doc): Generator(\n",
      "    model_kwargs={'model': 'gpt-3.5-turbo'}, model_type=ModelType.LLM\n",
      "    (prompt): Prompt(template: <SYS> You are a doctor </SYS> User: {{input_str}}, prompt_variables: ['input_str'])\n",
      "    (model_client): OpenAIClient()\n",
      "  )\n",
      "))\n",
      "('doc', Generator(\n",
      "  model_kwargs={'model': 'gpt-3.5-turbo'}, model_type=ModelType.LLM\n",
      "  (prompt): Prompt(template: <SYS> You are a doctor </SYS> User: {{input_str}}, prompt_variables: ['input_str'])\n",
      "  (model_client): OpenAIClient()\n",
      "))\n",
      "('doc.prompt', Prompt(template: <SYS> You are a doctor </SYS> User: {{input_str}}, prompt_variables: ['input_str']))\n",
      "('doc.model_client', OpenAIClient())\n"
     ]
    }
   ],
   "source": [
    "# list other subcomponents\n",
    "\n",
    "for subcomponent in doc.named_components():\n",
    "    print(subcomponent)"
   ]
  },
  {
   "cell_type": "markdown",
   "metadata": {},
   "source": [
    "Let's add a parameter"
   ]
  },
  {
   "cell_type": "code",
   "execution_count": 37,
   "metadata": {},
   "outputs": [],
   "source": [
    "from lightrag.core.parameter import Parameter\n",
    "\n",
    "doc.register_parameter(\"demo\", param=Parameter(data=\"demo\"))"
   ]
  },
  {
   "cell_type": "code",
   "execution_count": 38,
   "metadata": {},
   "outputs": [
    {
     "name": "stdout",
     "output_type": "stream",
     "text": [
      "('demo', Parameter: demo)\n"
     ]
    }
   ],
   "source": [
    "# list all parameters\n",
    "for param in doc.named_parameters():\n",
    "    print(param)"
   ]
  },
  {
   "cell_type": "code",
   "execution_count": 39,
   "metadata": {},
   "outputs": [
    {
     "data": {
      "text/plain": [
       "{'type': 'DocQA',\n",
       " 'data': {'_components': {'doc': {'type': 'Generator',\n",
       "    'data': {'_components': {'model_client': {'type': 'OpenAIClient',\n",
       "       'data': {'_components': {},\n",
       "        '_parameters': {},\n",
       "        'training': False,\n",
       "        'sync_client': <openai.OpenAI at 0x1197c97d0>,\n",
       "        'async_client': None,\n",
       "        '_api_key': None}},\n",
       "      'prompt': {'type': 'Prompt',\n",
       "       'data': {'_components': {},\n",
       "        '_parameters': {},\n",
       "        'training': False,\n",
       "        '_template_string': '<SYS> You are a doctor </SYS> User: {{input_str}}',\n",
       "        'prompt_variables': ['input_str'],\n",
       "        'preset_prompt_kwargs': None}}},\n",
       "     '_parameters': {},\n",
       "     'training': False,\n",
       "     'template': '<SYS> You are a doctor </SYS> User: {{input_str}}',\n",
       "     'preset_prompt_kwargs': None,\n",
       "     'model_kwargs': {'model': 'gpt-3.5-turbo'},\n",
       "     'output_processors': None,\n",
       "     '_trainable_params': []}}},\n",
       "  '_parameters': {'demo': {'data': 'demo', 'requires_opt': True}},\n",
       "  'training': False}}"
      ]
     },
     "execution_count": 39,
     "metadata": {},
     "output_type": "execute_result"
    }
   ],
   "source": [
    "doc.to_dict()"
   ]
  },
  {
   "cell_type": "code",
   "execution_count": 40,
   "metadata": {},
   "outputs": [],
   "source": [
    "from utils.serialization import save_json\n",
    "\n",
    "save_json(doc.to_dict(), \"doc.json\")"
   ]
  },
  {
   "cell_type": "code",
   "execution_count": 41,
   "metadata": {},
   "outputs": [
    {
     "data": {
      "text/plain": [
       "OrderedDict([('demo', Parameter: demo)])"
      ]
     },
     "execution_count": 41,
     "metadata": {},
     "output_type": "execute_result"
    }
   ],
   "source": [
    "doc.state_dict()"
   ]
  },
  {
   "cell_type": "code",
   "execution_count": 42,
   "metadata": {},
   "outputs": [
    {
     "name": "stdout",
     "output_type": "stream",
     "text": [
      "2024-06-09 23:12:36 - INFO - [generator.py:196:call] - prompt_kwargs: {'input_str': 'What is the best treatment for a cold?'}\n",
      "2024-06-09 23:12:36 - INFO - [generator.py:197:call] - model_kwargs: {}\n",
      "2024-06-09 23:12:36 - INFO - [openai_client.py:122:call] - api_kwargs: {'model': 'gpt-3.5-turbo', 'messages': [{'role': 'system', 'content': '<SYS> You are a doctor </SYS> User: What is the best treatment for a cold?'}]}\n",
      "2024-06-09 23:12:37 - INFO - [_client.py:1026:_send_single_request] - HTTP Request: POST https://api.openai.com/v1/chat/completions \"HTTP/1.1 200 OK\"\n",
      "2024-06-09 23:12:37 - INFO - [generator.py:205:call] - output: GeneratorOutput(data=\"The best treatment for a cold is usually rest, hydration, and over-the-counter medications to relieve symptoms such as fever, congestion, and sore throat. It's also important to wash your hands frequently and practice good hygiene to prevent spreading the cold to others. In some cases, your doctor may recommend antiviral medications or antibiotics if a secondary bacterial infection is present.\", error=None, raw_response=\"The best treatment for a cold is usually rest, hydration, and over-the-counter medications to relieve symptoms such as fever, congestion, and sore throat. It's also important to wash your hands frequently and practice good hygiene to prevent spreading the cold to others. In some cases, your doctor may recommend antiviral medications or antibiotics if a secondary bacterial infection is present.\")\n"
     ]
    },
    {
     "data": {
      "text/plain": [
       "\"The best treatment for a cold is usually rest, hydration, and over-the-counter medications to relieve symptoms such as fever, congestion, and sore throat. It's also important to wash your hands frequently and practice good hygiene to prevent spreading the cold to others. In some cases, your doctor may recommend antiviral medications or antibiotics if a secondary bacterial infection is present.\""
      ]
     },
     "execution_count": 42,
     "metadata": {},
     "output_type": "execute_result"
    }
   ],
   "source": [
    "doc.call(\"What is the best treatment for a cold?\")"
   ]
  },
  {
   "cell_type": "code",
   "execution_count": 43,
   "metadata": {},
   "outputs": [
    {
     "name": "stdout",
     "output_type": "stream",
     "text": [
      "2\n",
      "<class 'lightrag.core.component.FunComponent'>\n"
     ]
    }
   ],
   "source": [
    "from lightrag.core.component import FunComponent\n",
    "\n",
    "def add_one(x):\n",
    "    return x + 1\n",
    "\n",
    "fun_component = FunComponent(add_one)\n",
    "print(fun_component(1))  \n",
    "print(type(fun_component))  \n",
    "\n",
    "# output:\n",
    "# 2\n",
    "# <class 'core.component.FunComponent'>"
   ]
  },
  {
   "cell_type": "code",
   "execution_count": 44,
   "metadata": {},
   "outputs": [
    {
     "name": "stdout",
     "output_type": "stream",
     "text": [
      "2\n",
      "<class 'lightrag.core.component.AddOneComponent'>\n"
     ]
    }
   ],
   "source": [
    "from lightrag.core.component import fun_to_component \n",
    "\n",
    "fun_component = fun_to_component(add_one)\n",
    "print(fun_component(1))\n",
    "print(type(fun_component))\n",
    "\n",
    "# output:\n",
    "# 2\n",
    "# <class 'lightrag.core.component.AddOneComponent'>"
   ]
  },
  {
   "cell_type": "code",
   "execution_count": 45,
   "metadata": {},
   "outputs": [
    {
     "name": "stdout",
     "output_type": "stream",
     "text": [
      "2\n",
      "<class 'lightrag.core.component.AddOneComponent'>\n"
     ]
    }
   ],
   "source": [
    "# use it as a decorator\n",
    "@fun_to_component\n",
    "def add_one(x):\n",
    "    return x + 1\n",
    "\n",
    "print(add_one(1))\n",
    "print(type(add_one))\n",
    "\n",
    "# output:\n",
    "# 2\n",
    "# <class 'lightrag.core.component.AddOneComponent'>"
   ]
  },
  {
   "cell_type": "code",
   "execution_count": 46,
   "metadata": {},
   "outputs": [
    {
     "name": "stdout",
     "output_type": "stream",
     "text": [
      "2024-06-09 23:12:38 - INFO - [generator.py:196:call] - prompt_kwargs: {'input_str': 'What is the best treatment for headache?Please be concise and only list the top treatments.'}\n",
      "2024-06-09 23:12:38 - INFO - [generator.py:197:call] - model_kwargs: {}\n",
      "2024-06-09 23:12:38 - INFO - [openai_client.py:122:call] - api_kwargs: {'model': 'gpt-3.5-turbo', 'messages': [{'role': 'system', 'content': '<SYS> You are a doctor </SYS> User: What is the best treatment for headache?Please be concise and only list the top treatments.'}]}\n",
      "2024-06-09 23:12:40 - INFO - [_client.py:1026:_send_single_request] - HTTP Request: POST https://api.openai.com/v1/chat/completions \"HTTP/1.1 200 OK\"\n",
      "2024-06-09 23:12:40 - INFO - [generator.py:205:call] - output: GeneratorOutput(data='1. Rest and relaxation\\n2. Over-the-counter pain relievers (e.g. ibuprofen, acetaminophen)\\n3. Hydration\\n4. Warm or cold compress\\n5. Deep breathing or relaxation techniques', error=None, raw_response='1. Rest and relaxation\\n2. Over-the-counter pain relievers (e.g. ibuprofen, acetaminophen)\\n3. Hydration\\n4. Warm or cold compress\\n5. Deep breathing or relaxation techniques')\n",
      "1. Rest and relaxation\n",
      "2. Over-the-counter pain relievers (e.g. ibuprofen, acetaminophen)\n",
      "3. Hydration\n",
      "4. Warm or cold compress\n",
      "5. Deep breathing or relaxation techniques\n"
     ]
    }
   ],
   "source": [
    "from lightrag.core.component import Sequential\n",
    "\n",
    "@fun_to_component\n",
    "def enhance_query(query:str) -> str:\n",
    "    return query + \"Please be concise and only list the top treatments.\"\n",
    "\n",
    "seq = Sequential(enhance_query, doc)\n",
    "\n",
    "query = \"What is the best treatment for headache?\"\n",
    "print(seq(query))"
   ]
  },
  {
   "cell_type": "code",
   "execution_count": 47,
   "metadata": {},
   "outputs": [
    {
     "data": {
      "text/plain": [
       "Sequential(\n",
       "  (0): EnhanceQueryComponent()\n",
       "  (1): DocQA(\n",
       "    (doc): Generator(\n",
       "      model_kwargs={'model': 'gpt-3.5-turbo'}, model_type=ModelType.LLM\n",
       "      (prompt): Prompt(template: <SYS> You are a doctor </SYS> User: {{input_str}}, prompt_variables: ['input_str'])\n",
       "      (model_client): OpenAIClient()\n",
       "    )\n",
       "  )\n",
       ")"
      ]
     },
     "execution_count": 47,
     "metadata": {},
     "output_type": "execute_result"
    }
   ],
   "source": [
    "seq"
   ]
  },
  {
   "cell_type": "markdown",
   "metadata": {},
   "source": [
    "# TODO: LLM for single choices"
   ]
  }
 ],
 "metadata": {
  "kernelspec": {
   "display_name": "my-project-kernel",
   "language": "python",
   "name": "my-project-kernel"
  },
  "language_info": {
   "codemirror_mode": {
    "name": "ipython",
    "version": 3
   },
   "file_extension": ".py",
   "mimetype": "text/x-python",
   "name": "python",
   "nbconvert_exporter": "python",
   "pygments_lexer": "ipython3",
   "version": "3.11.6"
  }
 },
 "nbformat": 4,
 "nbformat_minor": 2
}
