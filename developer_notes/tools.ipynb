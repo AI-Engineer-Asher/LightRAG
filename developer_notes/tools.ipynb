{
 "cells": [
  {
   "cell_type": "code",
   "execution_count": 27,
   "metadata": {},
   "outputs": [
    {
     "name": "stdout",
     "output_type": "stream",
     "text": [
      "response: ChatCompletion(id='chatcmpl-9e2lZetnCX7GZnscApud6eseKKLlQ', choices=[Choice(finish_reason='tool_calls', index=0, logprobs=None, message=ChatCompletionMessage(content=None, role='assistant', function_call=None, tool_calls=[ChatCompletionMessageToolCall(id='call_rYuJw6IYXK0rAwgL5oG0lB8r', function=Function(arguments='{\"location\": \"San Francisco, CA\", \"unit\": \"celsius\"}', name='get_current_weather'), type='function'), ChatCompletionMessageToolCall(id='call_r4LiJjHWVEPv2L4GSedxQMq7', function=Function(arguments='{\"location\": \"Tokyo, Japan\", \"unit\": \"celsius\"}', name='get_current_weather'), type='function'), ChatCompletionMessageToolCall(id='call_2LnmgGhUzy3LSDjqXIy9vLPb', function=Function(arguments='{\"location\": \"Paris, France\", \"unit\": \"celsius\"}', name='get_current_weather'), type='function')]))], created=1719330781, model='gpt-4o-2024-05-13', object='chat.completion', service_tier=None, system_fingerprint='fp_5e6c71d4a8', usage=CompletionUsage(completion_tokens=83, prompt_tokens=88, total_tokens=171))\n",
      "tool_calls: [ChatCompletionMessageToolCall(id='call_rYuJw6IYXK0rAwgL5oG0lB8r', function=Function(arguments='{\"location\": \"San Francisco, CA\", \"unit\": \"celsius\"}', name='get_current_weather'), type='function'), ChatCompletionMessageToolCall(id='call_r4LiJjHWVEPv2L4GSedxQMq7', function=Function(arguments='{\"location\": \"Tokyo, Japan\", \"unit\": \"celsius\"}', name='get_current_weather'), type='function'), ChatCompletionMessageToolCall(id='call_2LnmgGhUzy3LSDjqXIy9vLPb', function=Function(arguments='{\"location\": \"Paris, France\", \"unit\": \"celsius\"}', name='get_current_weather'), type='function')]\n",
      "ChatCompletion(id='chatcmpl-9e2lbUry9oh4BSVBTvYBmVHkiUt6H', choices=[Choice(finish_reason='stop', index=0, logprobs=None, message=ChatCompletionMessage(content='Here are the current temperatures:\\n\\n- **San Francisco:** 22°C \\n- **Tokyo:** 10°C\\n- **Paris:** 22°C', role='assistant', function_call=None, tool_calls=None))], created=1719330783, model='gpt-4o-2024-05-13', object='chat.completion', service_tier=None, system_fingerprint='fp_3e7d703517', usage=CompletionUsage(completion_tokens=30, prompt_tokens=176, total_tokens=206))\n"
     ]
    }
   ],
   "source": [
    "# first check the openai's function call apis\n",
    "\n",
    "from openai import OpenAI\n",
    "from openai.types import FunctionDefinition\n",
    "from lightrag.utils import setup_env\n",
    "import json\n",
    "\n",
    "client = OpenAI()\n",
    "\n",
    "# Example dummy function hard coded to return the same weather\n",
    "# In production, this could be your backend API or an external API\n",
    "def get_current_weather(location, unit=\"fahrenheit\"):\n",
    "    \"\"\"Get the current weather in a given location\"\"\"\n",
    "    if \"tokyo\" in location.lower():\n",
    "        return json.dumps({\"location\": \"Tokyo\", \"temperature\": \"10\", \"unit\": unit})\n",
    "    elif \"san francisco\" in location.lower():\n",
    "        return json.dumps({\"location\": \"San Francisco\", \"temperature\": \"72\", \"unit\": unit})\n",
    "    elif \"paris\" in location.lower():\n",
    "        return json.dumps({\"location\": \"Paris\", \"temperature\": \"22\", \"unit\": unit})\n",
    "    else:\n",
    "        return json.dumps({\"location\": location, \"temperature\": \"unknown\"})\n",
    "\n",
    "def run_conversation():\n",
    "    # Step 1: send the conversation and available functions to the model\n",
    "    messages = [{\"role\": \"user\", \"content\": \"What's the weather like in San Francisco, Tokyo, and Paris in celsius?\"}]\n",
    "    tools = [\n",
    "        {\n",
    "            \"type\": \"function\",\n",
    "            \"function\": {\n",
    "                \"name\": \"get_current_weather\",\n",
    "                \"description\": \"Get the current weather in a given location\",\n",
    "                \"parameters\": {\n",
    "                    \"type\": \"object\",\n",
    "                    \"properties\": {\n",
    "                        \"location\": {\n",
    "                            \"type\": \"string\",\n",
    "                            \"description\": \"The city and state, e.g. San Francisco, CA\",\n",
    "                        },\n",
    "                        \"unit\": {\"type\": \"string\", \"enum\": [\"celsius\", \"fahrenheit\"]},\n",
    "                    },\n",
    "                    \"required\": [\"location\"],\n",
    "                },\n",
    "            },\n",
    "        }\n",
    "    ]\n",
    "    response = client.chat.completions.create(\n",
    "        model=\"gpt-4o\",\n",
    "        messages=messages,\n",
    "        tools=tools,\n",
    "        tool_choice=\"auto\",  # auto is default, but we'll be explicit\n",
    "    )\n",
    "    print(f\"response: {response}\")\n",
    "    response_message = response.choices[0].message\n",
    "    tool_calls = response_message.tool_calls\n",
    "\n",
    "    print(f\"tool_calls: {tool_calls}\")\n",
    "    # Step 2: check if the model wanted to call a function\n",
    "    if tool_calls:\n",
    "        # Step 3: call the function\n",
    "        # Note: the JSON response may not always be valid; be sure to handle errors\n",
    "        available_functions = {\n",
    "            \"get_current_weather\": get_current_weather,\n",
    "        }  # only one function in this example, but you can have multiple\n",
    "        messages.append(response_message)  # extend conversation with assistant's reply\n",
    "        # Step 4: send the info for each function call and function response to the model\n",
    "        for tool_call in tool_calls:\n",
    "            function_name = tool_call.function.name\n",
    "            function_to_call = available_functions[function_name]\n",
    "            function_args = json.loads(tool_call.function.arguments)# use json.loads to convert a string to a dictionary\n",
    "            # function_response = function_to_call(\n",
    "            #     location=function_args.get(\"location\"),\n",
    "            #     unit=function_args.get(\"unit\"),\n",
    "            # ) \n",
    "            # you have to exactly know the arguments, this does not make sense. How would i know its arguments. **function_args (makes more sense)\n",
    "            function_response = function_to_call(**function_args)\n",
    "            messages.append(\n",
    "                {\n",
    "                    \"tool_call_id\": tool_call.id,\n",
    "                    \"role\": \"tool\",\n",
    "                    \"name\": function_name,\n",
    "                    \"content\": function_response,\n",
    "                }\n",
    "            )  # extend conversation with function response\n",
    "        second_response = client.chat.completions.create(\n",
    "            model=\"gpt-4o\",\n",
    "            messages=messages,\n",
    "        )  # get a new response from the model where it can see the function response\n",
    "        return second_response\n",
    "print(run_conversation())"
   ]
  },
  {
   "cell_type": "code",
   "execution_count": null,
   "metadata": {},
   "outputs": [],
   "source": [
    "# Function(arguments='{\"location\": \"Tokyo, Japan\", \"unit\": \"celsius\"}', name='get_current_weather'"
   ]
  },
  {
   "cell_type": "markdown",
   "metadata": {},
   "source": [
    "There are two important pieces. Getting function schema is not difficult and can be standarized.\n",
    "\n",
    "The second piece is how to call the function, and how to execute it. The how to call the function depends on how we execute it.\n",
    "\n",
    "How to execute a function:\n",
    "1. Eval (LLM will output the code to call the function (in string format))-> Language generation.\n",
    "2. We manage a function map, and we ask LLm to output either the code string or a structure with the function name and the arguments. We can use the function map to call the function. If its code string, we will have to parse the function call into the name and the arguments. If its a structure, we will have to convert it to data structure that can be used to call the function.\n",
    "\n",
    "There are just so many different ways to do the actual function call, and different LLM might react differetntly in accuracy to each output format."
   ]
  },
  {
   "cell_type": "code",
   "execution_count": null,
   "metadata": {},
   "outputs": [],
   "source": []
  },
  {
   "cell_type": "markdown",
   "metadata": {},
   "source": [
    "Function(arguments='{\"location\": \"Paris, France\"}', name='get_current_weather'), type='function')"
   ]
  },
  {
   "cell_type": "code",
   "execution_count": 2,
   "metadata": {},
   "outputs": [],
   "source": [
    "def get_current_weather(location: str, unit: str = \"fahrenheit\"):\n",
    "        \"\"\"Get the current weather in a given location\"\"\"\n",
    "        if \"tokyo\" in location.lower():\n",
    "            return json.dumps({\"location\": \"Tokyo\", \"temperature\": \"10\", \"unit\": unit})\n",
    "        elif \"san francisco\" in location.lower():\n",
    "            return json.dumps(\n",
    "                {\"location\": \"San Francisco\", \"temperature\": \"72\", \"unit\": unit}\n",
    "            )\n",
    "        elif \"paris\" in location.lower():\n",
    "            return json.dumps({\"location\": \"Paris\", \"temperature\": \"22\", \"unit\": unit})\n",
    "        else:\n",
    "            return json.dumps({\"location\": location, \"temperature\": \"unknown\"})\n",
    "\n"
   ]
  },
  {
   "cell_type": "code",
   "execution_count": 3,
   "metadata": {},
   "outputs": [
    {
     "name": "stdout",
     "output_type": "stream",
     "text": [
      "name: location, parameter: location: str    <class 'str'>\n",
      "name: unit, parameter: unit: str = 'fahrenheit'    <class 'str'>\n",
      "FunctionTool(metadata=ToolMetadata(name='get_current_weather', description=\"get_current_weather(location: str, unit: str = 'fahrenheit')\\nGet the current weather in a given location\", parameters={'type': 'object', 'properties': {'location': {'type': 'str'}, 'unit': {'type': 'str', 'default': 'fahrenheit'}}, 'required': ['location']}), fn=<function get_current_weather at 0x1323cdb20>, async_fn=None)\n"
     ]
    }
   ],
   "source": [
    "from lightrag.core.tool_helper import FunctionTool\n",
    "\n",
    "tool = FunctionTool.from_defaults(fn=get_current_weather)\n",
    "print(tool)"
   ]
  },
  {
   "cell_type": "code",
   "execution_count": 4,
   "metadata": {},
   "outputs": [
    {
     "name": "stdout",
     "output_type": "stream",
     "text": [
      "{\n",
      "    \"name\": \"get_current_weather\",\n",
      "    \"description\": \"get_current_weather(location: str, unit: str = 'fahrenheit')\\nGet the current weather in a given location\",\n",
      "    \"parameters\": {\n",
      "        \"type\": \"object\",\n",
      "        \"properties\": {\n",
      "            \"location\": {\n",
      "                \"type\": \"str\"\n",
      "            },\n",
      "            \"unit\": {\n",
      "                \"type\": \"str\",\n",
      "                \"default\": \"fahrenheit\"\n",
      "            }\n",
      "        },\n",
      "        \"required\": [\n",
      "            \"location\"\n",
      "        ]\n",
      "    }\n",
      "}\n"
     ]
    }
   ],
   "source": [
    "print(tool.metadata.to_json())"
   ]
  },
  {
   "cell_type": "code",
   "execution_count": 5,
   "metadata": {},
   "outputs": [],
   "source": [
    "# v2\n",
    "\n",
    "from lightrag.core.base_data_class import DataClass\n",
    "from dataclasses import dataclass, field\n",
    "\n",
    "@dataclass\n",
    "class Weather(DataClass):\n",
    "    location: str = field(metadata={\"description\": \"The city and state, e.g. San Francisco, CA\"})\n",
    "    unit: str = field(metadata={\"enum\": [\"celsius\", \"fahrenheit\"]})\n",
    "\n",
    "def get_current_weather_2(weather: Weather):\n",
    "    \"\"\"Get the current weather in a given location\"\"\"\n",
    "    if \"tokyo\" in weather.location.lower():\n",
    "        return json.dumps({\"location\": \"Tokyo\", \"temperature\": \"10\", \"unit\": weather.unit})\n",
    "    elif \"san francisco\" in weather.location.lower():\n",
    "        return json.dumps(\n",
    "            {\"location\": \"San Francisco\", \"temperature\": \"72\", \"unit\": weather.unit}\n",
    "        )\n",
    "    elif \"paris\" in weather.location.lower():\n",
    "        return json.dumps({\"location\": \"Paris\", \"temperature\": \"22\", \"unit\": weather.unit})\n",
    "    else:\n",
    "        return json.dumps({\"location\": weather.location, \"temperature\": \"unknown\"})"
   ]
  },
  {
   "cell_type": "code",
   "execution_count": 7,
   "metadata": {},
   "outputs": [
    {
     "name": "stdout",
     "output_type": "stream",
     "text": [
      "name: weather, parameter: weather: __main__.Weather    <class '__main__.Weather'>\n",
      "type_hints[name]: <class '__main__.Weather'>\n",
      "name: location, parameter: location: str    <class 'str'>\n",
      "name: unit, parameter: unit: str    <class 'str'>\n",
      "{\n",
      "    \"name\": \"get_current_weather_2\",\n",
      "    \"description\": \"get_current_weather_2(weather: __main__.Weather)\\nGet the current weather in a given location\",\n",
      "    \"parameters\": {\n",
      "        \"type\": \"object\",\n",
      "        \"properties\": {\n",
      "            \"weather\": {\n",
      "                \"type\": \"Weather\",\n",
      "                \"description\": \"The city and state, e.g. San Francisco, CA\",\n",
      "                \"enum\": [\n",
      "                    \"celsius\",\n",
      "                    \"fahrenheit\"\n",
      "                ]\n",
      "            }\n",
      "        },\n",
      "        \"required\": [\n",
      "            \"weather\"\n",
      "        ],\n",
      "        \"definitions\": {\n",
      "            \"weather\": {\n",
      "                \"type\": \"object\",\n",
      "                \"properties\": {\n",
      "                    \"location\": {\n",
      "                        \"type\": \"str\"\n",
      "                    },\n",
      "                    \"unit\": {\n",
      "                        \"type\": \"str\"\n",
      "                    }\n",
      "                },\n",
      "                \"required\": [\n",
      "                    \"location\",\n",
      "                    \"unit\"\n",
      "                ]\n",
      "            }\n",
      "        }\n",
      "    }\n",
      "}\n"
     ]
    }
   ],
   "source": [
    "# Create a tool from the class\n",
    "\n",
    "tool_2 = FunctionTool.from_defaults(fn=get_current_weather_2)\n",
    "\n",
    "print(tool_2.metadata.to_json())\n",
    "\n"
   ]
  },
  {
   "cell_type": "markdown",
   "metadata": {},
   "source": [
    "Llamaindex\n",
    "\n"
   ]
  },
  {
   "cell_type": "code",
   "execution_count": null,
   "metadata": {},
   "outputs": [],
   "source": [
    "lightrag_fn_schema =\n",
    "{\n",
    "        \"type\": \"object\",\n",
    "        \"properties\": {\n",
    "            \"weather\": {\n",
    "                \"type\": \"Weather\",\n",
    "                \"desc\": \"The city and state, e.g. San Francisco, CA\",\n",
    "                \"enum\": [\n",
    "                    \"celsius\",\n",
    "                    \"fahrenheit\"\n",
    "                ]\n",
    "            }\n",
    "        },\n",
    "        \"required\": [\n",
    "            \"weather\"\n",
    "        ],\n",
    "        \"definitions\": {\n",
    "            \"weather\": {\n",
    "                \"type\": \"object\",\n",
    "                \"properties\": {\n",
    "                    \"location\": {\n",
    "                        \"type\": \"str\"\n",
    "                    },\n",
    "                    \"unit\": {\n",
    "                        \"type\": \"str\"\n",
    "                    }\n",
    "                },\n",
    "                \"required\": [\n",
    "                    \"location\",\n",
    "                    \"unit\"\n",
    "                ]\n",
    "            }\n",
    "        }\n",
    "}"
   ]
  },
  {
   "cell_type": "code",
   "execution_count": null,
   "metadata": {},
   "outputs": [],
   "source": [
    "    llama_fn_schema = {\n",
    "        \"type\": \"object\",\n",
    "        \"properties\": {\"weather\": {\"$ref\": \"#/definitions/Weather\"}},\n",
    "        \"required\": [\"weather\"],\n",
    "        \"definitions\": {\n",
    "            \"Weather\": {\n",
    "                \"title\": \"Weather\",\n",
    "                \"type\": \"object\",\n",
    "                \"properties\": {\n",
    "                    \"location\": {\n",
    "                        \"title\": \"Location\",\n",
    "                        \"desc\": \"The city and state, e.g. San Francisco, CA\",\n",
    "                        \"type\": \"string\",\n",
    "                    },\n",
    "                    \"unit\": {\n",
    "                        \"title\": \"Unit\",\n",
    "                        \"enum\": [\"celsius\", \"fahrenheit\"],\n",
    "                        \"type\": \"string\",\n",
    "                    },\n",
    "                },\n",
    "                \"required\": [\"location\", \"unit\"],\n",
    "                \"additionalProperties\": false,\n",
    "            }\n",
    "        },\n",
    "    }"
   ]
  },
  {
   "cell_type": "code",
   "execution_count": 22,
   "metadata": {},
   "outputs": [],
   "source": [
    "# level 1, call function with default python data types\n",
    "# such as str, int, float, list, dict, etc.\n",
    "\n",
    "def _get_current_weather(location: str, unit: str = \"fahrenheit\"):\n",
    "    \"\"\"Get the current weather in a given location\"\"\"\n",
    "    if \"tokyo\" in location.lower():\n",
    "        return json.dumps({\"location\": \"Tokyo\", \"temperature\": \"10\", \"unit\": unit})\n",
    "    elif \"san francisco\" in location.lower():\n",
    "        return json.dumps(\n",
    "            {\"location\": \"San Francisco\", \"temperature\": \"72\", \"unit\": unit}\n",
    "        )\n",
    "    elif \"paris\" in location.lower():\n",
    "        return json.dumps({\"location\": \"Paris\", \"temperature\": \"22\", \"unit\": unit})\n",
    "    else:\n",
    "        return json.dumps({\"location\": location, \"temperature\": \"unknown\"})"
   ]
  },
  {
   "cell_type": "code",
   "execution_count": 24,
   "metadata": {},
   "outputs": [
    {
     "name": "stdout",
     "output_type": "stream",
     "text": [
      "FunctionTool(metadata=ToolMetadata(name='_get_current_weather', description=\"_get_current_weather(location: str, unit: str = 'fahrenheit')\\nGet the current weather in a given location\", parameters={'type': 'object', 'properties': {'location': {'type': 'str'}, 'unit': {'type': 'str', 'default': 'fahrenheit'}}, 'required': ['location']}), fn=<function _get_current_weather at 0x10806ff60>, async_fn=None)\n"
     ]
    }
   ],
   "source": [
    "# prepare function tool \n",
    "weather_tool = FunctionTool.from_defaults(fn=_get_current_weather)\n",
    "print(weather_tool)"
   ]
  },
  {
   "cell_type": "code",
   "execution_count": 31,
   "metadata": {},
   "outputs": [
    {
     "data": {
      "text/plain": [
       "Generator(\n",
       "  model_kwargs={'model': 'gpt-3.5-turbo', 'temperature': 0.3, 'stream': False}, \n",
       "  (prompt): Prompt(\n",
       "    template: <SYS>You have these tools available:\n",
       "        <TOOLS>\n",
       "        {% for tool in tools %}\n",
       "        {{ loop.index }}. ToolName: {{ tool.metadata.name }}\n",
       "            Tool Description: {{ tool.metadata.description }}\n",
       "            Tool Parameters: {{ tool.metadata.fn_schema_str }}   \n",
       "        __________\n",
       "        {% endfor %}\n",
       "        </TOOLS>\n",
       "        {{output_format_str}}\n",
       "        </SYS>\n",
       "        User: {{input_str}}\n",
       "        You:\n",
       "        , prompt_kwargs: {'output_format_str': 'Your output should be formatted as a standard YAML instance with the following schema:\\n```\\nname: The name of the function (str) (required)\\nargs: The arguments of the function (Dict) (required)\\n```\\n\\n-Make sure to always enclose the YAML output in triple backticks (```). Please do not add anything other than valid YAML output!\\n-Follow the YAML formatting conventions with an indent of 2 spaces.\\n-Quote the string values properly.\\n'}, prompt_variables: ['input_str', 'output_format_str', 'tools']\n",
       "  )\n",
       "  (model_client): OpenAIClient()\n",
       "  (output_processors): YamlOutputParser(\n",
       "    data_class_for_yaml=<class '__main__.Function'>\n",
       "    (yaml_output_format_prompt): Prompt(\n",
       "      template: Your output should be formatted as a standard YAML instance with the following schema:\n",
       "      ```\n",
       "      {{schema}}\n",
       "      ```\n",
       "      {% if example %}\n",
       "      Here is an example:\n",
       "      ```\n",
       "      {{example}}\n",
       "      ```\n",
       "      {% endif %}\n",
       "      \n",
       "      -Make sure to always enclose the YAML output in triple backticks (```). Please do not add anything other than valid YAML output!\n",
       "      -Follow the YAML formatting conventions with an indent of 2 spaces.\n",
       "      -Quote the string values properly.\n",
       "      , prompt_variables: ['example', 'schema']\n",
       "    )\n",
       "    (output_processors): YamlParser()\n",
       "  )\n",
       ")"
      ]
     },
     "execution_count": 31,
     "metadata": {},
     "output_type": "execute_result"
    }
   ],
   "source": [
    "# prepare a minimal function calling template \n",
    "template = r\"\"\"<SYS>You have these tools available:\n",
    "    <TOOLS>\n",
    "    {% for tool in tools %}\n",
    "    {{ loop.index }}. ToolName: {{ tool.metadata.name }}\n",
    "        Tool Description: {{ tool.metadata.description }}\n",
    "        Tool Parameters: {{ tool.metadata.fn_schema_str }}   \n",
    "    __________\n",
    "    {% endfor %}\n",
    "    </TOOLS>\n",
    "    {{output_format_str}}\n",
    "    </SYS>\n",
    "    User: {{input_str}}\n",
    "    You:\n",
    "    \"\"\"\n",
    "\n",
    "multiple_function_call_template = r\"\"\"<SYS>You can answer user query with these tools:\n",
    "    <TOOLS>\n",
    "    {% for tool in tools %}\n",
    "    {{ loop.index }}. ToolName: {{ tool.metadata.name }}\n",
    "        Tool Description: {{ tool.metadata.description }}\n",
    "        Tool Parameters: {{ tool.metadata.fn_schema_str }}   \n",
    "    __________\n",
    "    {% endfor %}\n",
    "    </TOOLS>\n",
    "    You can call multiple tools by return a list of the following format:\n",
    "    {{output_format_str}}\n",
    "    </SYS>\n",
    "    User: {{input_str}}\n",
    "    You:\n",
    "    \"\"\"\n",
    "\n",
    "from typing import Dict, Any\n",
    "from lightrag.core.generator import Generator\n",
    "from lightrag.core.types import ModelClientType\n",
    "from lightrag.components.output_parsers import YamlOutputParser\n",
    "\n",
    "model_kwargs = {\"model\": \"gpt-3.5-turbo\", \"temperature\": 0.3, \"stream\": False}\n",
    "\n",
    "@dataclass\n",
    "class Function(DataClass):\n",
    "    name: str = field(metadata={\"desc\": \"The name of the function\"})\n",
    "    args: Dict[str, Any] = field(metadata={\"desc\": \"The arguments of the function\"})\n",
    "\n",
    "generator = Generator(\n",
    "    model_client=ModelClientType.OPENAI(),\n",
    "    model_kwargs=model_kwargs,\n",
    "    template=template,\n",
    "    prompt_kwargs={\n",
    "        # \"tools\": [weather_tool],\n",
    "        \"output_format_str\": YamlOutputParser(Function).format_instructions(),\n",
    "        # \"output_format_str\": Function.to_yaml_signature(),\n",
    "    },\n",
    "    output_processors=YamlOutputParser(Function),\n",
    ")\n",
    "generator"
   ]
  },
  {
   "cell_type": "code",
   "execution_count": 27,
   "metadata": {},
   "outputs": [
    {
     "name": "stdout",
     "output_type": "stream",
     "text": [
      "Prompt:\n",
      "<SYS>You have these tools available:\n",
      "    <TOOLS>\n",
      "    1. ToolName: _get_current_weather\n",
      "        Tool Description: _get_current_weather(location: str, unit: str = 'fahrenheit')\n",
      "Get the current weather in a given location\n",
      "        Tool Parameters: {\"type\": \"object\", \"properties\": {\"location\": {\"type\": \"str\"}, \"unit\": {\"type\": \"str\", \"default\": \"fahrenheit\"}}, \"required\": [\"location\"]}   \n",
      "    __________\n",
      "    </TOOLS>\n",
      "    Your output should be formatted as a standard YAML instance with the following schema:\n",
      "```\n",
      "name: The name of the function (str) (required)\n",
      "args: The arguments of the function (Dict) (required)\n",
      "```\n",
      "\n",
      "-Make sure to always enclose the YAML output in triple backticks (```). Please do not add anything other than valid YAML output!\n",
      "-Follow the YAML formatting conventions with an indent of 2 spaces.\n",
      "-Quote the string values properly.\n",
      "\n",
      "    </SYS>\n",
      "    User: What's the weather like in San Francisco, Tokyo, and Paris in celsius?\n",
      "    You:\n",
      "    \n"
     ]
    }
   ],
   "source": [
    "# check the prompt\n",
    "\n",
    "input_str = \"What's the weather like in San Francisco, Tokyo, and Paris in celsius?\"\n",
    "\n",
    "generator.print_prompt(input_str=input_str, tools=[weather_tool])"
   ]
  },
  {
   "cell_type": "code",
   "execution_count": 28,
   "metadata": {},
   "outputs": [
    {
     "name": "stdout",
     "output_type": "stream",
     "text": [
      "Function(name='_get_current_weather', args={'location': 'San Francisco', 'unit': 'celsius'})\n"
     ]
    }
   ],
   "source": [
    "prompt_kwargs = {\n",
    "    \"input_str\": input_str,\n",
    "    \"tools\": [weather_tool],\n",
    "}\n",
    "output = generator(prompt_kwargs=prompt_kwargs)\n",
    "structured_output = Function.from_dict(output.data)\n",
    "print(structured_output)"
   ]
  },
  {
   "cell_type": "code",
   "execution_count": 39,
   "metadata": {},
   "outputs": [
    {
     "name": "stdout",
     "output_type": "stream",
     "text": [
      "{\"location\": \"Paris\", \"temperature\": \"22\", \"unit\": \"celsius\"}\n"
     ]
    }
   ],
   "source": [
    "# call the function\n",
    "\n",
    "function_map = {\n",
    "    \"_get_current_weather\": weather_tool\n",
    "}\n",
    "\n",
    "function_name = structured_output.name\n",
    "function_args = structured_output.args\n",
    "function_to_call = function_map[function_name]\n",
    "function_response = function_to_call(**function_args)\n",
    "print(function_response)"
   ]
  },
  {
   "cell_type": "markdown",
   "metadata": {},
   "source": [
    "# multiple function calls"
   ]
  },
  {
   "cell_type": "code",
   "execution_count": 32,
   "metadata": {},
   "outputs": [
    {
     "data": {
      "text/plain": [
       "Generator(\n",
       "  model_kwargs={'model': 'gpt-3.5-turbo', 'temperature': 0.3, 'stream': False}, \n",
       "  (prompt): Prompt(\n",
       "    template: <SYS>You can answer user query with these tools:\n",
       "        <TOOLS>\n",
       "        {% for tool in tools %}\n",
       "        {{ loop.index }}. ToolName: {{ tool.metadata.name }}\n",
       "            Tool Description: {{ tool.metadata.description }}\n",
       "            Tool Parameters: {{ tool.metadata.fn_schema_str }}   \n",
       "        __________\n",
       "        {% endfor %}\n",
       "        </TOOLS>\n",
       "        You can call multiple tools by return a list of the following format:\n",
       "        {{output_format_str}}\n",
       "        </SYS>\n",
       "        User: {{input_str}}\n",
       "        You:\n",
       "        , prompt_kwargs: {'output_format_str': 'Your output should be formatted as a standard YAML instance with the following schema:\\n```\\nname: The name of the function (str) (required)\\nargs: The arguments of the function (Dict) (required)\\n```\\n\\n-Make sure to always enclose the YAML output in triple backticks (```). Please do not add anything other than valid YAML output!\\n-Follow the YAML formatting conventions with an indent of 2 spaces.\\n-Quote the string values properly.\\n'}, prompt_variables: ['input_str', 'output_format_str', 'tools']\n",
       "  )\n",
       "  (model_client): OpenAIClient()\n",
       "  (output_processors): YamlOutputParser(\n",
       "    data_class_for_yaml=<class '__main__.Function'>\n",
       "    (yaml_output_format_prompt): Prompt(\n",
       "      template: Your output should be formatted as a standard YAML instance with the following schema:\n",
       "      ```\n",
       "      {{schema}}\n",
       "      ```\n",
       "      {% if example %}\n",
       "      Here is an example:\n",
       "      ```\n",
       "      {{example}}\n",
       "      ```\n",
       "      {% endif %}\n",
       "      \n",
       "      -Make sure to always enclose the YAML output in triple backticks (```). Please do not add anything other than valid YAML output!\n",
       "      -Follow the YAML formatting conventions with an indent of 2 spaces.\n",
       "      -Quote the string values properly.\n",
       "      , prompt_variables: ['example', 'schema']\n",
       "    )\n",
       "    (output_processors): YamlParser()\n",
       "  )\n",
       ")"
      ]
     },
     "execution_count": 32,
     "metadata": {},
     "output_type": "execute_result"
    }
   ],
   "source": [
    "generator = Generator(\n",
    "    model_client=ModelClientType.OPENAI(),\n",
    "    model_kwargs=model_kwargs,\n",
    "    template=multiple_function_call_template,\n",
    "    prompt_kwargs={\n",
    "        # \"tools\": [weather_tool],\n",
    "        \"output_format_str\": YamlOutputParser(Function).format_instructions(),\n",
    "        # \"output_format_str\": Function.to_yaml_signature(),\n",
    "    },\n",
    "    output_processors=YamlOutputParser(Function),\n",
    ")\n",
    "generator"
   ]
  },
  {
   "cell_type": "code",
   "execution_count": 34,
   "metadata": {},
   "outputs": [
    {
     "name": "stdout",
     "output_type": "stream",
     "text": [
      "GeneratorOutput(data=[{'name': '_get_current_weather', 'args': {'location': 'San Francisco', 'unit': 'celsius'}}, {'name': '_get_current_weather', 'args': {'location': 'Tokyo', 'unit': 'celsius'}}, {'name': '_get_current_weather', 'args': {'location': 'Paris', 'unit': 'celsius'}}], error=None, usage=None, raw_response='```yaml\\n- name: _get_current_weather\\n  args:\\n    location: \"San Francisco\"\\n    unit: \"celsius\"\\n- name: _get_current_weather\\n  args:\\n    location: \"Tokyo\"\\n    unit: \"celsius\"\\n- name: _get_current_weather\\n  args:\\n    location: \"Paris\"\\n    unit: \"celsius\"\\n```')\n",
      "[Function(name='_get_current_weather', args={'location': 'San Francisco', 'unit': 'celsius'}), Function(name='_get_current_weather', args={'location': 'Tokyo', 'unit': 'celsius'}), Function(name='_get_current_weather', args={'location': 'Paris', 'unit': 'celsius'})]\n"
     ]
    }
   ],
   "source": [
    "# run the query\n",
    "\n",
    "output = generator(prompt_kwargs=prompt_kwargs)\n",
    "list_structured_output = [Function.from_dict(item) for item in output.data]\n",
    "print(output)\n",
    "print(list_structured_output)"
   ]
  },
  {
   "cell_type": "code",
   "execution_count": 35,
   "metadata": {},
   "outputs": [
    {
     "name": "stdout",
     "output_type": "stream",
     "text": [
      "{\"location\": \"San Francisco\", \"temperature\": \"72\", \"unit\": \"celsius\"}\n",
      "{\"location\": \"Tokyo\", \"temperature\": \"10\", \"unit\": \"celsius\"}\n",
      "{\"location\": \"Paris\", \"temperature\": \"22\", \"unit\": \"celsius\"}\n"
     ]
    }
   ],
   "source": [
    "for structured_output in list_structured_output:\n",
    "    function_name = structured_output.name\n",
    "    function_args = structured_output.args\n",
    "    function_to_call = function_map[function_name]\n",
    "    function_response = function_to_call(**function_args)\n",
    "    print(function_response)"
   ]
  },
  {
   "cell_type": "markdown",
   "metadata": {},
   "source": []
  },
  {
   "cell_type": "code",
   "execution_count": 16,
   "metadata": {},
   "outputs": [
    {
     "name": "stdout",
     "output_type": "stream",
     "text": [
      "Person(name='John Doe', age=30, address=Address(street='123 Main St', city='Anytown', zipcode='12345'))\n",
      "{'name': 'John Doe', 'age': 30, 'address': {'street': '123 Main St', 'city': 'Anytown', 'zipcode': '12345'}}\n"
     ]
    }
   ],
   "source": [
    "from dataclasses import dataclass, field\n",
    "from typing import Any, Dict\n",
    "\n",
    "@dataclass\n",
    "class Address:\n",
    "    street: str\n",
    "    city: str\n",
    "    zipcode: str\n",
    "\n",
    "@dataclass\n",
    "class Person:\n",
    "    name: str\n",
    "    age: int\n",
    "    address: Address\n",
    "\n",
    "# Example instance of the nested dataclasses\n",
    "person = Person(name=\"John Doe\", age=30, address=Address(street=\"123 Main St\", city=\"Anytown\", zipcode=\"12345\"))\n",
    "print(person)\n",
    "\n",
    "def to_dict(obj: Any) -> Dict[str, Any]:\n",
    "    if hasattr(obj, \"__dataclass_fields__\"):\n",
    "        return {key: to_dict(value) for key, value in obj.__dict__.items()}\n",
    "    elif isinstance(obj, list):\n",
    "        return [to_dict(item) for item in obj]\n",
    "    elif isinstance(obj, dict):\n",
    "        return {key: to_dict(value) for key, value in obj.items()}\n",
    "    else:\n",
    "        return obj\n",
    "\n",
    "# Convert the person instance to a dictionary\n",
    "person_dict = to_dict(person)\n",
    "print(person_dict)"
   ]
  },
  {
   "cell_type": "code",
   "execution_count": 18,
   "metadata": {},
   "outputs": [
    {
     "name": "stdout",
     "output_type": "stream",
     "text": [
      "Person(name='John Doe', age=30, addresses=[Address(street='123 Main St', city='Anytown', zipcode='12345'), Address(street='456 Elm St', city='Othertown', zipcode='67890')])\n"
     ]
    }
   ],
   "source": [
    "from typing import List\n",
    "@dataclass\n",
    "class Address:\n",
    "    street: str\n",
    "    city: str\n",
    "    zipcode: str\n",
    "\n",
    "@dataclass\n",
    "class Person:\n",
    "    name: str\n",
    "    age: int\n",
    "    addresses: List[Address]\n",
    "\n",
    "# Example instance of the nested dataclasses\n",
    "person = Person(name=\"John Doe\", age=30, addresses=[Address(street=\"123 Main St\", city=\"Anytown\", zipcode=\"12345\"), Address(street=\"456 Elm St\", city=\"Othertown\", zipcode=\"67890\")])\n",
    "print(person)"
   ]
  },
  {
   "cell_type": "code",
   "execution_count": 19,
   "metadata": {},
   "outputs": [
    {
     "name": "stdout",
     "output_type": "stream",
     "text": [
      "{'name': 'John Doe', 'age': 30, 'addresses': [{'street': '123 Main St', 'city': 'Anytown', 'zipcode': '12345'}, {'street': '456 Elm St', 'city': 'Othertown', 'zipcode': '67890'}]}\n"
     ]
    }
   ],
   "source": [
    "# Convert the person instance to a dictionary\n",
    "person_dict = to_dict(person)\n",
    "print(person_dict)"
   ]
  },
  {
   "cell_type": "code",
   "execution_count": 21,
   "metadata": {},
   "outputs": [
    {
     "data": {
      "text/plain": [
       "{'data': [{'question': 'What is the capital of France?'}]}"
      ]
     },
     "execution_count": 21,
     "metadata": {},
     "output_type": "execute_result"
    }
   ],
   "source": [
    "from typing import List, Dict, Optional\n",
    "def dataclass_obj_to_dict(\n",
    "    obj: Any, exclude: Optional[Dict[str, List[str]]] = None, parent_key: str = \"\"\n",
    ") -> Dict[str, Any]:\n",
    "    r\"\"\"Convert a dataclass object to a dictionary.\n",
    "\n",
    "    Supports nested dataclasses, lists, and dictionaries.\n",
    "    Allow exclude keys for each dataclass object.\n",
    "    Example:\n",
    "\n",
    "    .. code-block:: python\n",
    "\n",
    "       from dataclasses import dataclass\n",
    "       from typing import List\n",
    "\n",
    "       @dataclass\n",
    "       class TrecData:\n",
    "           question: str\n",
    "           label: int\n",
    "\n",
    "       @dataclass\n",
    "       class TrecDataList:\n",
    "\n",
    "           data: List[TrecData]\n",
    "           name: str\n",
    "\n",
    "       trec_data = TrecData(question=\"What is the capital of France?\", label=0)\n",
    "       trec_data_list = TrecDataList(data=[trec_data], name=\"trec_data_list\")\n",
    "\n",
    "       dataclass_obj_to_dict(trec_data_list, exclude={\"TrecData\": [\"label\"], \"TrecDataList\": [\"name\"]})\n",
    "\n",
    "       # Output:\n",
    "       # {'data': [{'question': 'What is the capital of France?'}], 'name': 'trec_data_list'}\n",
    "\n",
    "    \"\"\"\n",
    "    if exclude is None:\n",
    "        exclude = {}\n",
    "\n",
    "    obj_class_name = obj.__class__.__name__\n",
    "    current_exclude = exclude.get(obj_class_name, [])\n",
    "\n",
    "    if hasattr(obj, \"__dataclass_fields__\"):\n",
    "        return {\n",
    "            key: dataclass_obj_to_dict(value, exclude, parent_key=key)\n",
    "            for key, value in obj.__dict__.items()\n",
    "            if key not in current_exclude\n",
    "        }\n",
    "    elif isinstance(obj, list):\n",
    "        return [dataclass_obj_to_dict(item, exclude, parent_key) for item in obj]\n",
    "    elif isinstance(obj, dict):\n",
    "        return {\n",
    "            key: dataclass_obj_to_dict(value, exclude, parent_key)\n",
    "            for key, value in obj.items()\n",
    "        }\n",
    "    else:\n",
    "        return obj\n",
    "\n",
    "from dataclasses import dataclass\n",
    "from typing import List\n",
    "\n",
    "@dataclass\n",
    "class TrecData:\n",
    "    question: str\n",
    "    label: int\n",
    "\n",
    "@dataclass\n",
    "class TrecDataList:\n",
    "\n",
    "    data: List[TrecData]\n",
    "    name: str\n",
    "\n",
    "trec_data = TrecData(question=\"What is the capital of France?\", label=0)\n",
    "trec_data_list = TrecDataList(data=[trec_data], name=\"trec_data_list\")\n",
    "\n",
    "dataclass_obj_to_dict(trec_data_list, exclude={\"TrecData\": [\"label\"], \"TrecDataList\": [\"name\"]})"
   ]
  },
  {
   "cell_type": "code",
   "execution_count": 23,
   "metadata": {},
   "outputs": [],
   "source": [
    "from typing import Type\n",
    "def dataclass_obj_from_dict(cls: Type[Any], data: Dict[str, Any]) -> Any:\n",
    "    if hasattr(cls, \"__dataclass_fields__\"):\n",
    "        fieldtypes = {f.name: f.type for f in cls.__dataclass_fields__.values()}\n",
    "        return cls(**{key: dataclass_obj_from_dict(fieldtypes[key], value) for key, value in data.items()})\n",
    "    elif isinstance(data, list):\n",
    "        return [dataclass_obj_from_dict(cls.__args__[0], item) for item in data]\n",
    "    elif isinstance(data, dict):\n",
    "        return {key: dataclass_obj_from_dict(cls.__args__[1], value) for key, value in data.items()}\n",
    "    else:\n",
    "        return data"
   ]
  },
  {
   "cell_type": "code",
   "execution_count": 24,
   "metadata": {},
   "outputs": [
    {
     "data": {
      "text/plain": [
       "TrecDataList(data=[TrecData(question='What is the capital of France?', label=0)], name='trec_data_list')"
      ]
     },
     "execution_count": 24,
     "metadata": {},
     "output_type": "execute_result"
    }
   ],
   "source": [
    "dataclass_obj_from_dict(TrecDataList, dataclass_obj_to_dict(trec_data_list))"
   ]
  },
  {
   "cell_type": "code",
   "execution_count": 25,
   "metadata": {},
   "outputs": [
    {
     "ename": "TypeError",
     "evalue": "TrecData.__init__() missing 1 required positional argument: 'label'",
     "output_type": "error",
     "traceback": [
      "\u001b[0;31m---------------------------------------------------------------------------\u001b[0m",
      "\u001b[0;31mTypeError\u001b[0m                                 Traceback (most recent call last)",
      "Cell \u001b[0;32mIn[25], line 1\u001b[0m\n\u001b[0;32m----> 1\u001b[0m \u001b[43mdataclass_obj_from_dict\u001b[49m\u001b[43m(\u001b[49m\u001b[43mTrecDataList\u001b[49m\u001b[43m,\u001b[49m\u001b[43m \u001b[49m\u001b[43mdataclass_obj_to_dict\u001b[49m\u001b[43m(\u001b[49m\u001b[43mtrec_data_list\u001b[49m\u001b[43m,\u001b[49m\u001b[43m \u001b[49m\u001b[43mexclude\u001b[49m\u001b[38;5;241;43m=\u001b[39;49m\u001b[43m{\u001b[49m\u001b[38;5;124;43m\"\u001b[39;49m\u001b[38;5;124;43mTrecData\u001b[39;49m\u001b[38;5;124;43m\"\u001b[39;49m\u001b[43m:\u001b[49m\u001b[43m \u001b[49m\u001b[43m[\u001b[49m\u001b[38;5;124;43m\"\u001b[39;49m\u001b[38;5;124;43mlabel\u001b[39;49m\u001b[38;5;124;43m\"\u001b[39;49m\u001b[43m]\u001b[49m\u001b[43m,\u001b[49m\u001b[43m \u001b[49m\u001b[38;5;124;43m\"\u001b[39;49m\u001b[38;5;124;43mTrecDataList\u001b[39;49m\u001b[38;5;124;43m\"\u001b[39;49m\u001b[43m:\u001b[49m\u001b[43m \u001b[49m\u001b[43m[\u001b[49m\u001b[38;5;124;43m\"\u001b[39;49m\u001b[38;5;124;43mname\u001b[39;49m\u001b[38;5;124;43m\"\u001b[39;49m\u001b[43m]\u001b[49m\u001b[43m}\u001b[49m\u001b[43m)\u001b[49m\u001b[43m)\u001b[49m\n",
      "Cell \u001b[0;32mIn[23], line 5\u001b[0m, in \u001b[0;36mdataclass_obj_from_dict\u001b[0;34m(cls, data)\u001b[0m\n\u001b[1;32m      3\u001b[0m \u001b[38;5;28;01mif\u001b[39;00m \u001b[38;5;28mhasattr\u001b[39m(\u001b[38;5;28mcls\u001b[39m, \u001b[38;5;124m\"\u001b[39m\u001b[38;5;124m__dataclass_fields__\u001b[39m\u001b[38;5;124m\"\u001b[39m):\n\u001b[1;32m      4\u001b[0m     fieldtypes \u001b[38;5;241m=\u001b[39m {f\u001b[38;5;241m.\u001b[39mname: f\u001b[38;5;241m.\u001b[39mtype \u001b[38;5;28;01mfor\u001b[39;00m f \u001b[38;5;129;01min\u001b[39;00m \u001b[38;5;28mcls\u001b[39m\u001b[38;5;241m.\u001b[39m__dataclass_fields__\u001b[38;5;241m.\u001b[39mvalues()}\n\u001b[0;32m----> 5\u001b[0m     \u001b[38;5;28;01mreturn\u001b[39;00m \u001b[38;5;28mcls\u001b[39m(\u001b[38;5;241m*\u001b[39m\u001b[38;5;241m*\u001b[39m\u001b[43m{\u001b[49m\u001b[43mkey\u001b[49m\u001b[43m:\u001b[49m\u001b[43m \u001b[49m\u001b[43mdataclass_obj_from_dict\u001b[49m\u001b[43m(\u001b[49m\u001b[43mfieldtypes\u001b[49m\u001b[43m[\u001b[49m\u001b[43mkey\u001b[49m\u001b[43m]\u001b[49m\u001b[43m,\u001b[49m\u001b[43m \u001b[49m\u001b[43mvalue\u001b[49m\u001b[43m)\u001b[49m\u001b[43m \u001b[49m\u001b[38;5;28;43;01mfor\u001b[39;49;00m\u001b[43m \u001b[49m\u001b[43mkey\u001b[49m\u001b[43m,\u001b[49m\u001b[43m \u001b[49m\u001b[43mvalue\u001b[49m\u001b[43m \u001b[49m\u001b[38;5;129;43;01min\u001b[39;49;00m\u001b[43m \u001b[49m\u001b[43mdata\u001b[49m\u001b[38;5;241;43m.\u001b[39;49m\u001b[43mitems\u001b[49m\u001b[43m(\u001b[49m\u001b[43m)\u001b[49m\u001b[43m}\u001b[49m)\n\u001b[1;32m      6\u001b[0m \u001b[38;5;28;01melif\u001b[39;00m \u001b[38;5;28misinstance\u001b[39m(data, \u001b[38;5;28mlist\u001b[39m):\n\u001b[1;32m      7\u001b[0m     \u001b[38;5;28;01mreturn\u001b[39;00m [dataclass_obj_from_dict(\u001b[38;5;28mcls\u001b[39m\u001b[38;5;241m.\u001b[39m__args__[\u001b[38;5;241m0\u001b[39m], item) \u001b[38;5;28;01mfor\u001b[39;00m item \u001b[38;5;129;01min\u001b[39;00m data]\n",
      "Cell \u001b[0;32mIn[23], line 5\u001b[0m, in \u001b[0;36m<dictcomp>\u001b[0;34m(.0)\u001b[0m\n\u001b[1;32m      3\u001b[0m \u001b[38;5;28;01mif\u001b[39;00m \u001b[38;5;28mhasattr\u001b[39m(\u001b[38;5;28mcls\u001b[39m, \u001b[38;5;124m\"\u001b[39m\u001b[38;5;124m__dataclass_fields__\u001b[39m\u001b[38;5;124m\"\u001b[39m):\n\u001b[1;32m      4\u001b[0m     fieldtypes \u001b[38;5;241m=\u001b[39m {f\u001b[38;5;241m.\u001b[39mname: f\u001b[38;5;241m.\u001b[39mtype \u001b[38;5;28;01mfor\u001b[39;00m f \u001b[38;5;129;01min\u001b[39;00m \u001b[38;5;28mcls\u001b[39m\u001b[38;5;241m.\u001b[39m__dataclass_fields__\u001b[38;5;241m.\u001b[39mvalues()}\n\u001b[0;32m----> 5\u001b[0m     \u001b[38;5;28;01mreturn\u001b[39;00m \u001b[38;5;28mcls\u001b[39m(\u001b[38;5;241m*\u001b[39m\u001b[38;5;241m*\u001b[39m{key: \u001b[43mdataclass_obj_from_dict\u001b[49m\u001b[43m(\u001b[49m\u001b[43mfieldtypes\u001b[49m\u001b[43m[\u001b[49m\u001b[43mkey\u001b[49m\u001b[43m]\u001b[49m\u001b[43m,\u001b[49m\u001b[43m \u001b[49m\u001b[43mvalue\u001b[49m\u001b[43m)\u001b[49m \u001b[38;5;28;01mfor\u001b[39;00m key, value \u001b[38;5;129;01min\u001b[39;00m data\u001b[38;5;241m.\u001b[39mitems()})\n\u001b[1;32m      6\u001b[0m \u001b[38;5;28;01melif\u001b[39;00m \u001b[38;5;28misinstance\u001b[39m(data, \u001b[38;5;28mlist\u001b[39m):\n\u001b[1;32m      7\u001b[0m     \u001b[38;5;28;01mreturn\u001b[39;00m [dataclass_obj_from_dict(\u001b[38;5;28mcls\u001b[39m\u001b[38;5;241m.\u001b[39m__args__[\u001b[38;5;241m0\u001b[39m], item) \u001b[38;5;28;01mfor\u001b[39;00m item \u001b[38;5;129;01min\u001b[39;00m data]\n",
      "Cell \u001b[0;32mIn[23], line 7\u001b[0m, in \u001b[0;36mdataclass_obj_from_dict\u001b[0;34m(cls, data)\u001b[0m\n\u001b[1;32m      5\u001b[0m     \u001b[38;5;28;01mreturn\u001b[39;00m \u001b[38;5;28mcls\u001b[39m(\u001b[38;5;241m*\u001b[39m\u001b[38;5;241m*\u001b[39m{key: dataclass_obj_from_dict(fieldtypes[key], value) \u001b[38;5;28;01mfor\u001b[39;00m key, value \u001b[38;5;129;01min\u001b[39;00m data\u001b[38;5;241m.\u001b[39mitems()})\n\u001b[1;32m      6\u001b[0m \u001b[38;5;28;01melif\u001b[39;00m \u001b[38;5;28misinstance\u001b[39m(data, \u001b[38;5;28mlist\u001b[39m):\n\u001b[0;32m----> 7\u001b[0m     \u001b[38;5;28;01mreturn\u001b[39;00m \u001b[43m[\u001b[49m\u001b[43mdataclass_obj_from_dict\u001b[49m\u001b[43m(\u001b[49m\u001b[38;5;28;43mcls\u001b[39;49m\u001b[38;5;241;43m.\u001b[39;49m\u001b[43m__args__\u001b[49m\u001b[43m[\u001b[49m\u001b[38;5;241;43m0\u001b[39;49m\u001b[43m]\u001b[49m\u001b[43m,\u001b[49m\u001b[43m \u001b[49m\u001b[43mitem\u001b[49m\u001b[43m)\u001b[49m\u001b[43m \u001b[49m\u001b[38;5;28;43;01mfor\u001b[39;49;00m\u001b[43m \u001b[49m\u001b[43mitem\u001b[49m\u001b[43m \u001b[49m\u001b[38;5;129;43;01min\u001b[39;49;00m\u001b[43m \u001b[49m\u001b[43mdata\u001b[49m\u001b[43m]\u001b[49m\n\u001b[1;32m      8\u001b[0m \u001b[38;5;28;01melif\u001b[39;00m \u001b[38;5;28misinstance\u001b[39m(data, \u001b[38;5;28mdict\u001b[39m):\n\u001b[1;32m      9\u001b[0m     \u001b[38;5;28;01mreturn\u001b[39;00m {key: dataclass_obj_from_dict(\u001b[38;5;28mcls\u001b[39m\u001b[38;5;241m.\u001b[39m__args__[\u001b[38;5;241m1\u001b[39m], value) \u001b[38;5;28;01mfor\u001b[39;00m key, value \u001b[38;5;129;01min\u001b[39;00m data\u001b[38;5;241m.\u001b[39mitems()}\n",
      "Cell \u001b[0;32mIn[23], line 7\u001b[0m, in \u001b[0;36m<listcomp>\u001b[0;34m(.0)\u001b[0m\n\u001b[1;32m      5\u001b[0m     \u001b[38;5;28;01mreturn\u001b[39;00m \u001b[38;5;28mcls\u001b[39m(\u001b[38;5;241m*\u001b[39m\u001b[38;5;241m*\u001b[39m{key: dataclass_obj_from_dict(fieldtypes[key], value) \u001b[38;5;28;01mfor\u001b[39;00m key, value \u001b[38;5;129;01min\u001b[39;00m data\u001b[38;5;241m.\u001b[39mitems()})\n\u001b[1;32m      6\u001b[0m \u001b[38;5;28;01melif\u001b[39;00m \u001b[38;5;28misinstance\u001b[39m(data, \u001b[38;5;28mlist\u001b[39m):\n\u001b[0;32m----> 7\u001b[0m     \u001b[38;5;28;01mreturn\u001b[39;00m [\u001b[43mdataclass_obj_from_dict\u001b[49m\u001b[43m(\u001b[49m\u001b[38;5;28;43mcls\u001b[39;49m\u001b[38;5;241;43m.\u001b[39;49m\u001b[43m__args__\u001b[49m\u001b[43m[\u001b[49m\u001b[38;5;241;43m0\u001b[39;49m\u001b[43m]\u001b[49m\u001b[43m,\u001b[49m\u001b[43m \u001b[49m\u001b[43mitem\u001b[49m\u001b[43m)\u001b[49m \u001b[38;5;28;01mfor\u001b[39;00m item \u001b[38;5;129;01min\u001b[39;00m data]\n\u001b[1;32m      8\u001b[0m \u001b[38;5;28;01melif\u001b[39;00m \u001b[38;5;28misinstance\u001b[39m(data, \u001b[38;5;28mdict\u001b[39m):\n\u001b[1;32m      9\u001b[0m     \u001b[38;5;28;01mreturn\u001b[39;00m {key: dataclass_obj_from_dict(\u001b[38;5;28mcls\u001b[39m\u001b[38;5;241m.\u001b[39m__args__[\u001b[38;5;241m1\u001b[39m], value) \u001b[38;5;28;01mfor\u001b[39;00m key, value \u001b[38;5;129;01min\u001b[39;00m data\u001b[38;5;241m.\u001b[39mitems()}\n",
      "Cell \u001b[0;32mIn[23], line 5\u001b[0m, in \u001b[0;36mdataclass_obj_from_dict\u001b[0;34m(cls, data)\u001b[0m\n\u001b[1;32m      3\u001b[0m \u001b[38;5;28;01mif\u001b[39;00m \u001b[38;5;28mhasattr\u001b[39m(\u001b[38;5;28mcls\u001b[39m, \u001b[38;5;124m\"\u001b[39m\u001b[38;5;124m__dataclass_fields__\u001b[39m\u001b[38;5;124m\"\u001b[39m):\n\u001b[1;32m      4\u001b[0m     fieldtypes \u001b[38;5;241m=\u001b[39m {f\u001b[38;5;241m.\u001b[39mname: f\u001b[38;5;241m.\u001b[39mtype \u001b[38;5;28;01mfor\u001b[39;00m f \u001b[38;5;129;01min\u001b[39;00m \u001b[38;5;28mcls\u001b[39m\u001b[38;5;241m.\u001b[39m__dataclass_fields__\u001b[38;5;241m.\u001b[39mvalues()}\n\u001b[0;32m----> 5\u001b[0m     \u001b[38;5;28;01mreturn\u001b[39;00m \u001b[38;5;28;43mcls\u001b[39;49m\u001b[43m(\u001b[49m\u001b[38;5;241;43m*\u001b[39;49m\u001b[38;5;241;43m*\u001b[39;49m\u001b[43m{\u001b[49m\u001b[43mkey\u001b[49m\u001b[43m:\u001b[49m\u001b[43m \u001b[49m\u001b[43mdataclass_obj_from_dict\u001b[49m\u001b[43m(\u001b[49m\u001b[43mfieldtypes\u001b[49m\u001b[43m[\u001b[49m\u001b[43mkey\u001b[49m\u001b[43m]\u001b[49m\u001b[43m,\u001b[49m\u001b[43m \u001b[49m\u001b[43mvalue\u001b[49m\u001b[43m)\u001b[49m\u001b[43m \u001b[49m\u001b[38;5;28;43;01mfor\u001b[39;49;00m\u001b[43m \u001b[49m\u001b[43mkey\u001b[49m\u001b[43m,\u001b[49m\u001b[43m \u001b[49m\u001b[43mvalue\u001b[49m\u001b[43m \u001b[49m\u001b[38;5;129;43;01min\u001b[39;49;00m\u001b[43m \u001b[49m\u001b[43mdata\u001b[49m\u001b[38;5;241;43m.\u001b[39;49m\u001b[43mitems\u001b[49m\u001b[43m(\u001b[49m\u001b[43m)\u001b[49m\u001b[43m}\u001b[49m\u001b[43m)\u001b[49m\n\u001b[1;32m      6\u001b[0m \u001b[38;5;28;01melif\u001b[39;00m \u001b[38;5;28misinstance\u001b[39m(data, \u001b[38;5;28mlist\u001b[39m):\n\u001b[1;32m      7\u001b[0m     \u001b[38;5;28;01mreturn\u001b[39;00m [dataclass_obj_from_dict(\u001b[38;5;28mcls\u001b[39m\u001b[38;5;241m.\u001b[39m__args__[\u001b[38;5;241m0\u001b[39m], item) \u001b[38;5;28;01mfor\u001b[39;00m item \u001b[38;5;129;01min\u001b[39;00m data]\n",
      "\u001b[0;31mTypeError\u001b[0m: TrecData.__init__() missing 1 required positional argument: 'label'"
     ]
    }
   ],
   "source": [
    "dataclass_obj_from_dict(TrecDataList, dataclass_obj_to_dict(trec_data_list, exclude={\"TrecData\": [\"label\"], \"TrecDataList\": [\"name\"]}))"
   ]
  }
 ],
 "metadata": {
  "kernelspec": {
   "display_name": "lightrag-project",
   "language": "python",
   "name": "light-rag-project"
  },
  "language_info": {
   "codemirror_mode": {
    "name": "ipython",
    "version": 3
   },
   "file_extension": ".py",
   "mimetype": "text/x-python",
   "name": "python",
   "nbconvert_exporter": "python",
   "pygments_lexer": "ipython3",
   "version": "3.11.6"
  }
 },
 "nbformat": 4,
 "nbformat_minor": 2
}
