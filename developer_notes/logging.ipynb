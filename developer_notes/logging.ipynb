{
 "cells": [
  {
   "cell_type": "code",
   "execution_count": 1,
   "metadata": {},
   "outputs": [],
   "source": [
    "from lightrag.utils.logger import enable_library_logging\n",
    "        \n",
    "enable_library_logging(level=\"DEBUG\", enable_console=True, enable_file=False)"
   ]
  },
  {
   "cell_type": "code",
   "execution_count": 4,
   "metadata": {},
   "outputs": [
    {
     "data": {
      "text/plain": [
       "{'embedder': {'component_name': 'Embedder',\n",
       "  'component_config': {'model_client': {'component_name': 'OpenAIClient',\n",
       "    'component_config': {}},\n",
       "   'model_kwargs': {'model': 'text-embedding-3-small',\n",
       "    'dimensions': 256,\n",
       "    'encoding_format': 'float'}}},\n",
       " 'document_splitter': {'component_name': 'DocumentSplitter',\n",
       "  'component_config': {'split_by': 'word',\n",
       "   'split_length': 400,\n",
       "   'split_overlap': 200}},\n",
       " 'to_embeddings': {'component_name': 'ToEmbeddings',\n",
       "  'component_config': {'vectorizer': {'component_name': 'Embedder',\n",
       "    'component_config': {'model_client': {'component_name': 'OpenAIClient',\n",
       "      'component_config': {}},\n",
       "     'model_kwargs': {'model': 'text-embedding-3-small',\n",
       "      'dimensions': 256,\n",
       "      'encoding_format': 'float'}}},\n",
       "   'batch_size': 100}}}"
      ]
     },
     "execution_count": 4,
     "metadata": {},
     "output_type": "execute_result"
    }
   ],
   "source": [
    "# import default config\n",
    "\n",
    "from lightrag.utils.serialization import load_json \n",
    "\n",
    "config = load_json(\"default_config.json\")\n",
    "config"
   ]
  },
  {
   "cell_type": "code",
   "execution_count": null,
   "metadata": {},
   "outputs": [],
   "source": [
    "from lightrag.core import Generator\n",
    "from lightrag.components.model_client import GroqAPIClient\n",
    "from lightrag.components.model_client import ModelClient"
   ]
  }
 ],
 "metadata": {
  "kernelspec": {
   "display_name": "lightrag-project",
   "language": "python",
   "name": "light-rag-project"
  },
  "language_info": {
   "codemirror_mode": {
    "name": "ipython",
    "version": 3
   },
   "file_extension": ".py",
   "mimetype": "text/x-python",
   "name": "python",
   "nbconvert_exporter": "python",
   "pygments_lexer": "ipython3",
   "version": "3.11.6"
  }
 },
 "nbformat": 4,
 "nbformat_minor": 2
}
