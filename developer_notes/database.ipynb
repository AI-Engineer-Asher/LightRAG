{
 "cells": [
  {
   "cell_type": "markdown",
   "metadata": {},
   "source": [
    "# Data and Data storage\n",
    "\n"
   ]
  },
  {
   "cell_type": "code",
   "execution_count": 1,
   "metadata": {},
   "outputs": [],
   "source": [
    "# setup data needed for the notes\n",
    "query_1 = \"What are the benefits of renewable energy?\" # gt is [0, 3]\n",
    "query_2 = \"How do solar panels impact the environment?\" # gt is [1, 2]\n",
    "\n",
    "org_documents =[\n",
    "    {\n",
    "        \"title\": \"The Impact of Renewable Energy on the Economy\",\n",
    "        \"content\": \"Renewable energy technologies not only help in reducing greenhouse gas emissions but also contribute significantly to the economy by creating jobs in the manufacturing and installation sectors. The growth in renewable energy usage boosts local economies through increased investment in technology and infrastructure.\"\n",
    "    },\n",
    "    {\n",
    "        \"title\": \"Understanding Solar Panels\",\n",
    "        \"content\": \"Solar panels convert sunlight into electricity by allowing photons, or light particles, to knock electrons free from atoms, generating a flow of electricity. Solar panels are a type of renewable energy technology that has been found to have a significant positive effect on the environment by reducing the reliance on fossil fuels.\"\n",
    "    },\n",
    "    {\n",
    "        \"title\": \"Pros and Cons of Solar Energy\",\n",
    "        \"content\": \"While solar energy offers substantial environmental benefits, such as reducing carbon footprints and pollution, it also has downsides. The production of solar panels can lead to hazardous waste, and large solar farms require significant land, which can disrupt local ecosystems.\"\n",
    "    },\n",
    "    {\n",
    "        \"title\":  \"Renewable Energy and Its Effects\",\n",
    "        \"content\": \"Renewable energy sources like wind, solar, and hydro power play a crucial role in combating climate change. They do not produce greenhouse gases during operation, making them essential for sustainable development. However, the initial setup and material sourcing for these technologies can still have environmental impacts.\"\n",
    "    }\n",
    "]\n",
    "\n",
    "turns = [\n",
    "    {\n",
    "        \"user\": \"What are the benefits of renewable energy?\",\n",
    "        \"system\": \"I can see you are interested in renewable energy. Renewable energy technologies not only help in reducing greenhouse gas emissions but also contribute significantly to the economy by creating jobs in the manufacturing and installation sectors. The growth in renewable energy usage boosts local economies through increased investment in technology and infrastructure.\",\n",
    "        \"user_time\": \"2021-09-01T12:00:00Z\",\n",
    "        \"system_time\": \"2021-09-01T12:00:01Z\"\n",
    "    },\n",
    "    {\n",
    "        \"user\": \"How do solar panels impact the environment?\",\n",
    "        \"system\": \"Solar panels convert sunlight into electricity by allowing photons, or light particles, to knock electrons free from atoms, generating a flow of electricity. Solar panels are a type of renewable energy technology that has been found to have a significant positive effect on the environment by reducing the reliance on fossil fuels.\",\n",
    "        \"user_time\": \"2021-09-01T12:00:02Z\",\n",
    "        \"system_time\": \"2021-09-01T12:00:03Z\"\n",
    "    }\n",
    "]"
   ]
  },
  {
   "cell_type": "markdown",
   "metadata": {},
   "source": [
    "## Create Document and DialogTurn objects\n"
   ]
  },
  {
   "cell_type": "code",
   "execution_count": 2,
   "metadata": {},
   "outputs": [
    {
     "name": "stdout",
     "output_type": "stream",
     "text": [
      "[Document(id=864d2eb7-1c67-4e7c-bebf-762b217d088f, text='Renewable energy technologies not only help in reducing greenhouse gas emissions but also contribute...', meta_data={'title': 'The Impact of Renewable Energy on the Economy'}, vector=[], parent_doc_id=None, order=None, score=None), Document(id=007a8715-ab8a-4a87-b085-ab289c7abd7a, text='Solar panels convert sunlight into electricity by allowing photons, or light particles, to knock ele...', meta_data={'title': 'Understanding Solar Panels'}, vector=[], parent_doc_id=None, order=None, score=None), Document(id=5d99864b-5ac1-4346-8542-1a13aba0c6e4, text='While solar energy offers substantial environmental benefits, such as reducing carbon footprints and...', meta_data={'title': 'Pros and Cons of Solar Energy'}, vector=[], parent_doc_id=None, order=None, score=None), Document(id=1bdc9c7f-7ea0-462d-a1bc-105ead1308a8, text='Renewable energy sources like wind, solar, and hydro power play a crucial role in combating climate ...', meta_data={'title': 'Renewable Energy and Its Effects'}, vector=[], parent_doc_id=None, order=None, score=None)]\n"
     ]
    }
   ],
   "source": [
    "# create Document objects\n",
    "from lightrag.core.types import Document\n",
    "\n",
    "# we will save the content to text and title in the meta_data\n",
    "documents  = [Document(text=doc['content'], meta_data={'title': doc['title']}) for doc in org_documents]\n",
    "print(documents)"
   ]
  },
  {
   "cell_type": "code",
   "execution_count": 3,
   "metadata": {},
   "outputs": [
    {
     "name": "stdout",
     "output_type": "stream",
     "text": [
      "[DialogTurn(id='28f59f32-7ec3-4677-9d48-d7672c7b841c', user_id=None, session_id=None, order=None, user_query=UserQuery(query_str='What are the benefits of renewable energy?', metadata=None), assistant_response=AssistantResponse(response_str='I can see you are interested in renewable energy. Renewable energy technologies not only help in reducing greenhouse gas emissions but also contribute significantly to the economy by creating jobs in the manufacturing and installation sectors. The growth in renewable energy usage boosts local economies through increased investment in technology and infrastructure.', metadata=None), user_query_timestamp='2021-09-01T12:00:00Z', assistant_response_timestamp='2021-09-01T12:00:01Z', metadata=None, vector=None), DialogTurn(id='c6c423b1-2c89-4ef6-93d0-453fd7264696', user_id=None, session_id=None, order=None, user_query=UserQuery(query_str='How do solar panels impact the environment?', metadata=None), assistant_response=AssistantResponse(response_str='Solar panels convert sunlight into electricity by allowing photons, or light particles, to knock electrons free from atoms, generating a flow of electricity. Solar panels are a type of renewable energy technology that has been found to have a significant positive effect on the environment by reducing the reliance on fossil fuels.', metadata=None), user_query_timestamp='2021-09-01T12:00:02Z', assistant_response_timestamp='2021-09-01T12:00:03Z', metadata=None, vector=None)]\n"
     ]
    }
   ],
   "source": [
    "# create DialogTurn objects\n",
    "\n",
    "from lightrag.core.types import DialogTurn, UserQuery, AssistantResponse\n",
    "\n",
    "dialog_turns = [\n",
    "    DialogTurn(\n",
    "        user_query=UserQuery(query_str=turn[\"user\"]),\n",
    "        assistant_response=AssistantResponse(response_str=turn[\"system\"]),\n",
    "        user_query_timestamp=turn[\"user_time\"],\n",
    "        assistant_response_timestamp=turn[\"system_time\"],\n",
    "    )\n",
    "    for turn in turns\n",
    "]\n",
    "print(dialog_turns)"
   ]
  },
  {
   "cell_type": "markdown",
   "metadata": {},
   "source": [
    "## Demonstrating the data pipleine creation and application\n",
    "\n"
   ]
  },
  {
   "cell_type": "code",
   "execution_count": 4,
   "metadata": {},
   "outputs": [
    {
     "name": "stdout",
     "output_type": "stream",
     "text": [
      "Sequential(\n",
      "  (0): DocumentSplitter(split_by=word, split_length=50, split_overlap=10)\n",
      "  (1): ToEmbeddings(\n",
      "    batch_size=2\n",
      "    (embedder): Embedder(\n",
      "      model_kwargs={'model': 'text-embedding-3-small', 'dimensions': 256, 'encoding_format': 'float'}, \n",
      "      (model_client): OpenAIClient()\n",
      "    )\n",
      "    (batch_embedder): BatchEmbedder(\n",
      "      (embedder): Embedder(\n",
      "        model_kwargs={'model': 'text-embedding-3-small', 'dimensions': 256, 'encoding_format': 'float'}, \n",
      "        (model_client): OpenAIClient()\n",
      "      )\n",
      "    )\n",
      "  )\n",
      ")\n"
     ]
    }
   ],
   "source": [
    "# prepare the data pipeline\n",
    "\n",
    "from lightrag.core.embedder import Embedder \n",
    "from lightrag.core.types import ModelClientType\n",
    "from lightrag.components.data_process import DocumentSplitter, ToEmbeddings\n",
    "from lightrag.core.component import Sequential\n",
    "\n",
    "\n",
    "model_kwargs = {\n",
    "    \"model\": \"text-embedding-3-small\",\n",
    "    \"dimensions\": 256,\n",
    "    \"encoding_format\": \"float\",\n",
    "}\n",
    "\n",
    "splitter_config = {\n",
    "    \"split_by\": \"word\",\n",
    "    \"split_length\": 50,\n",
    "    \"split_overlap\": 10\n",
    "}\n",
    "\n",
    "splitter = DocumentSplitter(**splitter_config)\n",
    "embedder = Embedder(model_client =ModelClientType.OPENAI(), model_kwargs=model_kwargs)\n",
    "embedder_transformer = ToEmbeddings(embedder, batch_size=2)\n",
    "data_transformer = Sequential(splitter, embedder_transformer)\n",
    "print(data_transformer)"
   ]
  },
  {
   "cell_type": "code",
   "execution_count": 5,
   "metadata": {},
   "outputs": [],
   "source": [
    "# prepare mapping functions to map the data to Document object for the pipeline\n",
    "\n",
    "from typing import Dict\n",
    "# mapping function for org_documents\n",
    "def map_to_document(doc: Dict) -> Document:\n",
    "    return Document(text=doc['content'], meta_data={'title': doc['title']})\n",
    "\n",
    "def map_dialogturn_to_document(turn: DialogTurn) -> Document:\n",
    "    # it can be important to keep the original data's id\n",
    "    return Document(id=turn.id, text=turn.user_query.query_str + ' ' + turn.assistant_response.response_str)"
   ]
  },
  {
   "cell_type": "code",
   "execution_count": 6,
   "metadata": {},
   "outputs": [
    {
     "name": "stdout",
     "output_type": "stream",
     "text": [
      "[Document(id=28f59f32-7ec3-4677-9d48-d7672c7b841c, text='What are the benefits of renewable energy? I can see you are interested in renewable energy. Renewab...', meta_data=None, vector=[], parent_doc_id=None, order=None, score=None), Document(id=c6c423b1-2c89-4ef6-93d0-453fd7264696, text='How do solar panels impact the environment? Solar panels convert sunlight into electricity by allowi...', meta_data=None, vector=[], parent_doc_id=None, order=None, score=None)]\n"
     ]
    },
    {
     "name": "stderr",
     "output_type": "stream",
     "text": [
      "Splitting documents: 100%|██████████| 2/2 [00:00<00:00, 740.78it/s]\n",
      "Batch embedding documents: 100%|██████████| 2/2 [00:00<00:00,  3.22it/s]\n",
      "Adding embeddings to documents from batch: 2it [00:00, 5845.72it/s]"
     ]
    },
    {
     "name": "stdout",
     "output_type": "stream",
     "text": [
      "[Document(id=ba2db344-c31c-4a23-9ac6-33454e719be6, text='What are the benefits of renewable energy? I can see you are interested in renewable energy. Renewab...', meta_data=None, vector='len: 256', parent_doc_id=28f59f32-7ec3-4677-9d48-d7672c7b841c, order=0, score=None), Document(id=c6b375bd-e43f-445d-9706-63f0873af524, text='and installation sectors. The growth in renewable energy usage boosts local economies through increa...', meta_data=None, vector='len: 256', parent_doc_id=28f59f32-7ec3-4677-9d48-d7672c7b841c, order=1, score=None), Document(id=61d3dd92-23fb-4364-ab5c-6d383425b3d2, text='How do solar panels impact the environment? Solar panels convert sunlight into electricity by allowi...', meta_data=None, vector='len: 256', parent_doc_id=c6c423b1-2c89-4ef6-93d0-453fd7264696, order=0, score=None), Document(id=44f62c0c-c638-44b0-9be6-d5b8b92bbbd0, text='has been found to have a significant positive effect on the environment by reducing the reliance on ...', meta_data=None, vector='len: 256', parent_doc_id=c6c423b1-2c89-4ef6-93d0-453fd7264696, order=1, score=None)]\n"
     ]
    },
    {
     "name": "stderr",
     "output_type": "stream",
     "text": [
      "\n"
     ]
    }
   ],
   "source": [
    "# apply data transformation to the dialog_turns\n",
    "\n",
    "dialog_turns_as_documents = [map_dialogturn_to_document(turn) for turn in dialog_turns]\n",
    "print(dialog_turns_as_documents)\n",
    "\n",
    "# apply data transformation to the documents\n",
    "output = data_transformer(dialog_turns_as_documents)\n",
    "print(output)"
   ]
  },
  {
   "cell_type": "code",
   "execution_count": 7,
   "metadata": {},
   "outputs": [
    {
     "name": "stderr",
     "output_type": "stream",
     "text": [
      "Splitting documents: 100%|██████████| 4/4 [00:00<00:00, 3968.12it/s]\n",
      "Batch embedding documents: 100%|██████████| 3/3 [00:00<00:00,  5.80it/s]\n",
      "Adding embeddings to documents from batch: 3it [00:00, 9546.97it/s]"
     ]
    },
    {
     "name": "stdout",
     "output_type": "stream",
     "text": [
      "[Document(id=25379585-a84c-4ec4-9045-2dcd5aee0c2f, text='Renewable energy technologies not only help in reducing greenhouse gas emissions but also contribute...', meta_data={'title': 'The Impact of Renewable Energy on the Economy'}, vector='len: 256', parent_doc_id=de5e15e3-d63d-4ebe-9e8f-24e6a63bb583, order=0, score=None), Document(id=f6b6351b-67b8-4689-957b-6f7fe3421605, text='Solar panels convert sunlight into electricity by allowing photons, or light particles, to knock ele...', meta_data={'title': 'Understanding Solar Panels'}, vector='len: 256', parent_doc_id=3458c575-5d72-455f-ac46-a4e4ff7c4938, order=0, score=None), Document(id=98aad464-29c3-4d47-81bc-aff69ab3df49, text='positive effect on the environment by reducing the reliance on fossil fuels.', meta_data={'title': 'Understanding Solar Panels'}, vector='len: 256', parent_doc_id=3458c575-5d72-455f-ac46-a4e4ff7c4938, order=1, score=None), Document(id=6975f2a0-44c7-454e-9485-8983d4039e70, text='While solar energy offers substantial environmental benefits, such as reducing carbon footprints and...', meta_data={'title': 'Pros and Cons of Solar Energy'}, vector='len: 256', parent_doc_id=4ee9f22e-8ffb-4efb-a2a2-4179f3c6be1f, order=0, score=None), Document(id=1c5865d3-7f40-41b3-aacc-75870ccc9c9f, text='Renewable energy sources like wind, solar, and hydro power play a crucial role in combating climate ...', meta_data={'title': 'Renewable Energy and Its Effects'}, vector='len: 256', parent_doc_id=d311321b-9429-463a-b883-c575529e5294, order=0, score=None)]\n"
     ]
    },
    {
     "name": "stderr",
     "output_type": "stream",
     "text": [
      "\n"
     ]
    }
   ],
   "source": [
    "# apply data transformation to the documents\n",
    "org_documents_as_documents = [map_to_document(doc) for doc in org_documents]\n",
    "\n",
    "# apply data transformation to the documents\n",
    "output = data_transformer(org_documents_as_documents)\n",
    "print(output)"
   ]
  },
  {
   "cell_type": "markdown",
   "metadata": {},
   "source": [
    "## Use LocalDB to help with the in-memory CRUD, and more importantly to keep track of data pipeline and its transformed data and with data storage and restore"
   ]
  },
  {
   "cell_type": "code",
   "execution_count": 7,
   "metadata": {},
   "outputs": [
    {
     "name": "stdout",
     "output_type": "stream",
     "text": [
      "LocalDB(name='dialog_turns', items=[], transformed_items={}, transformer_setups={}, mapper_setups={})\n",
      "LocalDB(name='dialog_turns', items=[DialogTurn(id='28f59f32-7ec3-4677-9d48-d7672c7b841c', user_id=None, session_id=None, order=None, user_query=UserQuery(query_str='What are the benefits of renewable energy?', metadata=None), assistant_response=AssistantResponse(response_str='I can see you are interested in renewable energy. Renewable energy technologies not only help in reducing greenhouse gas emissions but also contribute significantly to the economy by creating jobs in the manufacturing and installation sectors. The growth in renewable energy usage boosts local economies through increased investment in technology and infrastructure.', metadata=None), user_query_timestamp='2021-09-01T12:00:00Z', assistant_response_timestamp='2021-09-01T12:00:01Z', metadata=None, vector=None), DialogTurn(id='c6c423b1-2c89-4ef6-93d0-453fd7264696', user_id=None, session_id=None, order=None, user_query=UserQuery(query_str='How do solar panels impact the environment?', metadata=None), assistant_response=AssistantResponse(response_str='Solar panels convert sunlight into electricity by allowing photons, or light particles, to knock electrons free from atoms, generating a flow of electricity. Solar panels are a type of renewable energy technology that has been found to have a significant positive effect on the environment by reducing the reliance on fossil fuels.', metadata=None), user_query_timestamp='2021-09-01T12:00:02Z', assistant_response_timestamp='2021-09-01T12:00:03Z', metadata=None, vector=None)], transformed_items={}, transformer_setups={}, mapper_setups={})\n"
     ]
    }
   ],
   "source": [
    "# create a db for the dialog_turns\n",
    "from lightrag.core.db import LocalDB\n",
    "\n",
    "dialog_turn_db = LocalDB('dialog_turns')\n",
    "print(dialog_turn_db)\n",
    "\n",
    "dialog_turn_db.load(dialog_turns)\n",
    "print(dialog_turn_db)"
   ]
  },
  {
   "cell_type": "code",
   "execution_count": 8,
   "metadata": {},
   "outputs": [
    {
     "name": "stderr",
     "output_type": "stream",
     "text": [
      "Splitting documents: 100%|██████████| 2/2 [00:00<00:00, 2652.94it/s]\n",
      "Batch embedding documents: 100%|██████████| 2/2 [00:00<00:00,  4.18it/s]\n",
      "Adding embeddings to documents from batch: 2it [00:00, 57456.22it/s]"
     ]
    },
    {
     "name": "stdout",
     "output_type": "stream",
     "text": [
      "[Document(id=d77e0863-83f1-4a56-afc6-ec49cf1151d7, text='What are the benefits of renewable energy? I can see you are interested in renewable energy. Renewab...', meta_data=None, vector='len: 256', parent_doc_id=28f59f32-7ec3-4677-9d48-d7672c7b841c, order=0, score=None), Document(id=cc1926a4-f20b-4314-8205-fb9f2c3ff327, text='and installation sectors. The growth in renewable energy usage boosts local economies through increa...', meta_data=None, vector='len: 256', parent_doc_id=28f59f32-7ec3-4677-9d48-d7672c7b841c, order=1, score=None), Document(id=a15ea431-64d5-4776-8e23-9bbfaf01f65e, text='How do solar panels impact the environment? Solar panels convert sunlight into electricity by allowi...', meta_data=None, vector='len: 256', parent_doc_id=c6c423b1-2c89-4ef6-93d0-453fd7264696, order=0, score=None), Document(id=f0cd2864-e0aa-42e0-9ff4-8712bf870ed9, text='has been found to have a significant positive effect on the environment by reducing the reliance on ...', meta_data=None, vector='len: 256', parent_doc_id=c6c423b1-2c89-4ef6-93d0-453fd7264696, order=1, score=None)]\n",
      "Sequential(\n",
      "  (0): DocumentSplitter(split_by=word, split_length=50, split_overlap=10)\n",
      "  (1): ToEmbeddings(\n",
      "    batch_size=2\n",
      "    (embedder): Embedder(\n",
      "      model_kwargs={'model': 'text-embedding-3-small', 'dimensions': 256, 'encoding_format': 'float'}, \n",
      "      (model_client): OpenAIClient()\n",
      "    )\n",
      "    (batch_embedder): BatchEmbedder(\n",
      "      (embedder): Embedder(\n",
      "        model_kwargs={'model': 'text-embedding-3-small', 'dimensions': 256, 'encoding_format': 'float'}, \n",
      "        (model_client): OpenAIClient()\n",
      "      )\n",
      "    )\n",
      "  )\n",
      ")\n",
      "<function map_dialogturn_to_document at 0x164926020>\n"
     ]
    },
    {
     "name": "stderr",
     "output_type": "stream",
     "text": [
      "\n"
     ]
    }
   ],
   "source": [
    "# apply data transformation to the dialog_turn_db\n",
    "\n",
    "key = \"split_and_embed\"\n",
    "dialog_turn_db.transform(data_transformer, map_fn=map_dialogturn_to_document, key=key)\n",
    "print(dialog_turn_db.transformed_items[key])\n",
    "print(dialog_turn_db.transformer_setups[key])\n",
    "print(dialog_turn_db.mapper_setups[key])"
   ]
  },
  {
   "cell_type": "code",
   "execution_count": 9,
   "metadata": {},
   "outputs": [
    {
     "name": "stdout",
     "output_type": "stream",
     "text": [
      "LocalDB(name='dialog_turns', items=[DialogTurn(id='28f59f32-7ec3-4677-9d48-d7672c7b841c', user_id=None, session_id=None, order=None, user_query=UserQuery(query_str='What are the benefits of renewable energy?', metadata=None), assistant_response=AssistantResponse(response_str='I can see you are interested in renewable energy. Renewable energy technologies not only help in reducing greenhouse gas emissions but also contribute significantly to the economy by creating jobs in the manufacturing and installation sectors. The growth in renewable energy usage boosts local economies through increased investment in technology and infrastructure.', metadata=None), user_query_timestamp='2021-09-01T12:00:00Z', assistant_response_timestamp='2021-09-01T12:00:01Z', metadata=None, vector=None), DialogTurn(id='c6c423b1-2c89-4ef6-93d0-453fd7264696', user_id=None, session_id=None, order=None, user_query=UserQuery(query_str='How do solar panels impact the environment?', metadata=None), assistant_response=AssistantResponse(response_str='Solar panels convert sunlight into electricity by allowing photons, or light particles, to knock electrons free from atoms, generating a flow of electricity. Solar panels are a type of renewable energy technology that has been found to have a significant positive effect on the environment by reducing the reliance on fossil fuels.', metadata=None), user_query_timestamp='2021-09-01T12:00:02Z', assistant_response_timestamp='2021-09-01T12:00:03Z', metadata=None, vector=None)], transformed_items={'split_and_embed': [Document(id=d77e0863-83f1-4a56-afc6-ec49cf1151d7, text='What are the benefits of renewable energy? I can see you are interested in renewable energy. Renewab...', meta_data=None, vector='len: 256', parent_doc_id=28f59f32-7ec3-4677-9d48-d7672c7b841c, order=0, score=None), Document(id=cc1926a4-f20b-4314-8205-fb9f2c3ff327, text='and installation sectors. The growth in renewable energy usage boosts local economies through increa...', meta_data=None, vector='len: 256', parent_doc_id=28f59f32-7ec3-4677-9d48-d7672c7b841c, order=1, score=None), Document(id=a15ea431-64d5-4776-8e23-9bbfaf01f65e, text='How do solar panels impact the environment? Solar panels convert sunlight into electricity by allowi...', meta_data=None, vector='len: 256', parent_doc_id=c6c423b1-2c89-4ef6-93d0-453fd7264696, order=0, score=None), Document(id=f0cd2864-e0aa-42e0-9ff4-8712bf870ed9, text='has been found to have a significant positive effect on the environment by reducing the reliance on ...', meta_data=None, vector='len: 256', parent_doc_id=c6c423b1-2c89-4ef6-93d0-453fd7264696, order=1, score=None)]}, transformer_setups={'split_and_embed': Sequential(\n",
      "  (0): DocumentSplitter(split_by=word, split_length=50, split_overlap=10)\n",
      "  (1): ToEmbeddings(\n",
      "    batch_size=2\n",
      "    (embedder): Embedder(\n",
      "      model_kwargs={'model': 'text-embedding-3-small', 'dimensions': 256, 'encoding_format': 'float'}, \n",
      "      (model_client): OpenAIClient()\n",
      "    )\n",
      "    (batch_embedder): BatchEmbedder(\n",
      "      (embedder): Embedder(\n",
      "        model_kwargs={'model': 'text-embedding-3-small', 'dimensions': 256, 'encoding_format': 'float'}, \n",
      "        (model_client): OpenAIClient()\n",
      "      )\n",
      "    )\n",
      "  )\n",
      ")}, mapper_setups={'split_and_embed': <function map_dialogturn_to_document at 0x164926020>})\n"
     ]
    }
   ],
   "source": [
    "# save the state of the dialog_turn_db\n",
    "dialog_turn_db.save_state('dialog_turn_db_state.pkl')\n",
    "\n",
    "print(dialog_turn_db)"
   ]
  },
  {
   "cell_type": "code",
   "execution_count": 10,
   "metadata": {},
   "outputs": [
    {
     "name": "stdout",
     "output_type": "stream",
     "text": [
      "LocalDB(name='dialog_turns', items=[DialogTurn(id='28f59f32-7ec3-4677-9d48-d7672c7b841c', user_id=None, session_id=None, order=None, user_query=UserQuery(query_str='What are the benefits of renewable energy?', metadata=None), assistant_response=AssistantResponse(response_str='I can see you are interested in renewable energy. Renewable energy technologies not only help in reducing greenhouse gas emissions but also contribute significantly to the economy by creating jobs in the manufacturing and installation sectors. The growth in renewable energy usage boosts local economies through increased investment in technology and infrastructure.', metadata=None), user_query_timestamp='2021-09-01T12:00:00Z', assistant_response_timestamp='2021-09-01T12:00:01Z', metadata=None, vector=None), DialogTurn(id='c6c423b1-2c89-4ef6-93d0-453fd7264696', user_id=None, session_id=None, order=None, user_query=UserQuery(query_str='How do solar panels impact the environment?', metadata=None), assistant_response=AssistantResponse(response_str='Solar panels convert sunlight into electricity by allowing photons, or light particles, to knock electrons free from atoms, generating a flow of electricity. Solar panels are a type of renewable energy technology that has been found to have a significant positive effect on the environment by reducing the reliance on fossil fuels.', metadata=None), user_query_timestamp='2021-09-01T12:00:02Z', assistant_response_timestamp='2021-09-01T12:00:03Z', metadata=None, vector=None)], transformed_items={'split_and_embed': [Document(id=d77e0863-83f1-4a56-afc6-ec49cf1151d7, text='What are the benefits of renewable energy? I can see you are interested in renewable energy. Renewab...', meta_data=None, vector='len: 256', parent_doc_id=28f59f32-7ec3-4677-9d48-d7672c7b841c, order=0, score=None), Document(id=cc1926a4-f20b-4314-8205-fb9f2c3ff327, text='and installation sectors. The growth in renewable energy usage boosts local economies through increa...', meta_data=None, vector='len: 256', parent_doc_id=28f59f32-7ec3-4677-9d48-d7672c7b841c, order=1, score=None), Document(id=a15ea431-64d5-4776-8e23-9bbfaf01f65e, text='How do solar panels impact the environment? Solar panels convert sunlight into electricity by allowi...', meta_data=None, vector='len: 256', parent_doc_id=c6c423b1-2c89-4ef6-93d0-453fd7264696, order=0, score=None), Document(id=f0cd2864-e0aa-42e0-9ff4-8712bf870ed9, text='has been found to have a significant positive effect on the environment by reducing the reliance on ...', meta_data=None, vector='len: 256', parent_doc_id=c6c423b1-2c89-4ef6-93d0-453fd7264696, order=1, score=None)]}, transformer_setups={'split_and_embed': Sequential(\n",
      "  (0): DocumentSplitter(split_by=word, split_length=50, split_overlap=10)\n",
      "  (1): ToEmbeddings(\n",
      "    batch_size=2\n",
      "    (embedder): Embedder(\n",
      "      model_kwargs={'model': 'text-embedding-3-small', 'dimensions': 256, 'encoding_format': 'float'}, \n",
      "      (model_client): OpenAIClient()\n",
      "    )\n",
      "    (batch_embedder): BatchEmbedder(\n",
      "      (embedder): Embedder(\n",
      "        model_kwargs={'model': 'text-embedding-3-small', 'dimensions': 256, 'encoding_format': 'float'}, \n",
      "        (model_client): OpenAIClient()\n",
      "      )\n",
      "    )\n",
      "  )\n",
      ")}, mapper_setups={'split_and_embed': <function map_dialogturn_to_document at 0x164926020>})\n"
     ]
    }
   ],
   "source": [
    "# restore the state of the restored_dialog_turn_db\n",
    "restored_dialog_turn_db = LocalDB.load_state('dialog_turn_db_state.pkl')\n",
    "print(restored_dialog_turn_db)\n"
   ]
  },
  {
   "cell_type": "code",
   "execution_count": 11,
   "metadata": {},
   "outputs": [
    {
     "name": "stdout",
     "output_type": "stream",
     "text": [
      "True\n"
     ]
    }
   ],
   "source": [
    "# check if the restored_dialog_turn_db is the same as the dialog_turn_db\n",
    "\n",
    "print(str(dialog_turn_db.__dict__) == str(restored_dialog_turn_db.__dict__))"
   ]
  },
  {
   "cell_type": "markdown",
   "metadata": {},
   "source": [
    "# CRUD operations\n",
    "\n",
    "We will use a real user conversation by adding a generator"
   ]
  },
  {
   "cell_type": "code",
   "execution_count": 12,
   "metadata": {},
   "outputs": [
    {
     "name": "stdout",
     "output_type": "stream",
     "text": [
      "Generator(\n",
      "  model_kwargs={'model': 'gpt-3.5-turbo'}, \n",
      "  (prompt): Prompt(\n",
      "    template: \n",
      "    {% if task_desc_str or output_format_str or tools_str or examples_str or chat_history_str or context_str or steps_str %}\n",
      "    <SYS>\n",
      "    {% endif %}\n",
      "    {# task desc #}\n",
      "    {% if task_desc_str %}\n",
      "    {{task_desc_str}}\n",
      "    {% endif %}\n",
      "    {# output format #}\n",
      "    {% if output_format_str %}\n",
      "    <OUTPUT_FORMAT>\n",
      "    {{output_format_str}}\n",
      "    </OUTPUT_FORMAT>\n",
      "    {% endif %}\n",
      "    {# tools #}\n",
      "    {% if tools_str %}\n",
      "    <TOOLS>\n",
      "    {{tools_str}}\n",
      "    </TOOLS>\n",
      "    {% endif %}\n",
      "    {# example #}\n",
      "    {% if examples_str %}\n",
      "    <EXAMPLES>\n",
      "    {{examples_str}}\n",
      "    </EXAMPLES>\n",
      "    {% endif %}\n",
      "    {# chat history #}\n",
      "    {% if chat_history_str %}\n",
      "    <CHAT_HISTORY>\n",
      "    {{chat_history_str}}\n",
      "    </CHAT_HISTORY>\n",
      "    {% endif %}\n",
      "    {#contex#}\n",
      "    {% if context_str %}\n",
      "    <CONTEXT>\n",
      "    {{context_str}}\n",
      "    </CONTEXT>\n",
      "    {% endif %}\n",
      "    {# steps #}\n",
      "    {% if steps_str %}\n",
      "    <STEPS>\n",
      "    {{steps_str}}\n",
      "    </STEPS>\n",
      "    {% endif %}\n",
      "    {% if task_desc_str or output_format_str or tools_str or examples_str or chat_history_str or context_str or steps_str %}\n",
      "    </SYS>\n",
      "    {% endif %}\n",
      "    {% if input_str %}\n",
      "    <User>\n",
      "    {{input_str}}\n",
      "    </User>\n",
      "    {% endif %}\n",
      "    You:\n",
      "    , prompt_variables: ['steps_str', 'tools_str', 'context_str', 'task_desc_str', 'chat_history_str', 'output_format_str', 'examples_str', 'input_str']\n",
      "  )\n",
      "  (model_client): OpenAIClient()\n",
      ")\n"
     ]
    }
   ],
   "source": [
    "# prepare the generator for the dialog turns \n",
    "\n",
    "from lightrag.core import Generator\n",
    "\n",
    "llm_kwargs = {\n",
    "    \"model\": \"gpt-3.5-turbo\"\n",
    "}\n",
    "\n",
    "# we will use the default prompt, and using input_str and chat_history_str for the final prompt\n",
    "generator = Generator(model_client = ModelClientType.OPENAI(), model_kwargs=llm_kwargs)\n",
    "print(generator)\n",
    "\n"
   ]
  },
  {
   "cell_type": "code",
   "execution_count": 13,
   "metadata": {},
   "outputs": [
    {
     "name": "stdout",
     "output_type": "stream",
     "text": [
      "Prompt:\n",
      "\n",
      "<SYS>\n",
      "<CHAT_HISTORY>\n",
      "id: \"28f59f32-7ec3-4677-9d48-d7672c7b841c\"\n",
      "user_id: null\n",
      "session_id: null\n",
      "order: null\n",
      "user_query: \n",
      "  metadata: null\n",
      "  query_str: What are the benefits of renewable energy?\n",
      "assistant_response: \n",
      "  metadata: null\n",
      "  response_str: I can see you are interested in renewable energy. Renewable energy technologies\n",
      "    not only help in reducing greenhouse gas emissions but also contribute significantly\n",
      "    to the economy by creating jobs in the manufacturing and installation sectors. The\n",
      "    growth in renewable energy usage boosts local economies through increased investment\n",
      "    in technology and infrastructure\n",
      "user_query_timestamp: \"2021-09-01T12:00:00Z\"\n",
      "assistant_response_timestamp: \"2021-09-01T12:00:01Z\"\n",
      "metadata: null\n",
      "vector: null\n",
      "_________\n",
      "id: \"c6c423b1-2c89-4ef6-93d0-453fd7264696\"\n",
      "user_id: null\n",
      "session_id: null\n",
      "order: null\n",
      "user_query: \n",
      "  metadata: null\n",
      "  query_str: How do solar panels impact the environment?\n",
      "assistant_response: \n",
      "  metadata: null\n",
      "  response_str: Solar panels convert sunlight into electricity by allowing photons,\n",
      "    or light particles, to knock electrons free from atoms, generating a flow of electricity.\n",
      "    Solar panels are a type of renewable energy technology that has been found to have\n",
      "    a significant positive effect on the environment by reducing the reliance on fossil\n",
      "    fuels\n",
      "user_query_timestamp: \"2021-09-01T12:00:02Z\"\n",
      "assistant_response_timestamp: \"2021-09-01T12:00:03Z\"\n",
      "metadata: null\n",
      "vector: null\n",
      "</CHAT_HISTORY>\n",
      "</SYS>\n",
      "<User>\n",
      "What are the benefits of renewable energy? Did I ask this before?\n",
      "</User>\n",
      "You:\n",
      "\n",
      "None\n"
     ]
    }
   ],
   "source": [
    "# lets see how the prompt will be if we pass the input_str and chat_history_str\n",
    "input_str = \"What are the benefits of renewable energy? Did I ask this before?\" \n",
    "\n",
    "def format_chat_history_str(turns: list) -> str:\n",
    "    chat_history_str = []\n",
    "    for turn in turns:\n",
    "        chat_history_str.append(turn.to_yaml()) # format as yaml\n",
    "    # join with newline\n",
    "    chat_history_str = '\\n_________\\n'.join(chat_history_str)\n",
    "    return chat_history_str\n",
    "\n",
    "chat_history_str = format_chat_history_str(dialog_turns)\n",
    "print(generator.print_prompt(input_str=input_str, chat_history_str=chat_history_str))"
   ]
  },
  {
   "cell_type": "code",
   "execution_count": 14,
   "metadata": {},
   "outputs": [
    {
     "name": "stdout",
     "output_type": "stream",
     "text": [
      "Prompt:\n",
      "\n",
      "<SYS>\n",
      "<CHAT_HISTORY>\n",
      "user_query: \n",
      "  metadata: null\n",
      "  query_str: What are the benefits of renewable energy?\n",
      "assistant_response: \n",
      "  metadata: null\n",
      "  response_str: I can see you are interested in renewable energy. Renewable energy technologies\n",
      "    not only help in reducing greenhouse gas emissions but also contribute significantly\n",
      "    to the economy by creating jobs in the manufacturing and installation sectors. The\n",
      "    growth in renewable energy usage boosts local economies through increased investment\n",
      "    in technology and infrastructure\n",
      "</CHAT_HISTORY>\n",
      "</SYS>\n",
      "<User>\n",
      "What are the benefits of renewable energy? Did I ask this before?\n",
      "</User>\n",
      "You:\n",
      "\n",
      "None\n"
     ]
    }
   ],
   "source": [
    "# as we have quite a bit of empty fields, lets exclude them \n",
    "from typing import List\n",
    "\n",
    "input_str = \"What are the benefits of renewable energy? Did I ask this before?\" \n",
    "\n",
    "def format_chat_history_str(turns: List[DialogTurn]) -> str:\n",
    "    chat_history_str = []\n",
    "    for turn in turns:\n",
    "        chat_history_str.append(\n",
    "                    turn.to_yaml(\n",
    "                        exclude=[\n",
    "                            \"id\",\n",
    "                            \"user_id\",\n",
    "                            \"session_id\",\n",
    "                            \"user_query_timestamp\",\n",
    "                            \"assistant_response_timestamp\",\n",
    "                            \"order\",\n",
    "                            \"metadata\",\n",
    "                            \"vector\",\n",
    "                        ],\n",
    "                    )\n",
    "                )  \n",
    "    chat_history_str = '\\n_________\\n'.join(chat_history_str)\n",
    "    return chat_history_str\n",
    "\n",
    "chat_history_str = format_chat_history_str(dialog_turn_db.items[0:1])\n",
    "print(generator.print_prompt(input_str=input_str, chat_history_str=chat_history_str))"
   ]
  },
  {
   "cell_type": "code",
   "execution_count": 15,
   "metadata": {},
   "outputs": [
    {
     "name": "stdout",
     "output_type": "stream",
     "text": [
      "2 4\n"
     ]
    }
   ],
   "source": [
    "print(dialog_turn_db.length, len(dialog_turn_db.transformed_items[key]))"
   ]
  },
  {
   "cell_type": "code",
   "execution_count": 16,
   "metadata": {},
   "outputs": [
    {
     "name": "stdout",
     "output_type": "stream",
     "text": [
      "GeneratorOutput(data='Yes, you asked about the benefits of renewable energy before. Renewable energy technologies help in reducing greenhouse gas emissions and contribute significantly to the economy by creating jobs in the manufacturing and installation sectors. The growth in renewable energy usage also boosts local economies through increased investment in technology and infrastructure.', error=None, usage=None, raw_response='Yes, you asked about the benefits of renewable energy before. Renewable energy technologies help in reducing greenhouse gas emissions and contribute significantly to the economy by creating jobs in the manufacturing and installation sectors. The growth in renewable energy usage also boosts local economies through increased investment in technology and infrastructure.')\n"
     ]
    }
   ],
   "source": [
    "prompt_kwargs = {\"input_str\": input_str, \"chat_history_str\": chat_history_str}\n",
    "\n",
    "response = generator(prompt_kwargs=prompt_kwargs)\n",
    "print(response)"
   ]
  },
  {
   "cell_type": "code",
   "execution_count": 17,
   "metadata": {},
   "outputs": [
    {
     "name": "stderr",
     "output_type": "stream",
     "text": [
      "Splitting documents: 100%|██████████| 1/1 [00:00<00:00, 1477.39it/s]\n",
      "Batch embedding documents: 100%|██████████| 1/1 [00:00<00:00,  3.74it/s]\n",
      "Adding embeddings to documents from batch: 1it [00:00, 23831.27it/s]\n"
     ]
    }
   ],
   "source": [
    "# create a turn from the last dialog\n",
    "\n",
    "new_turn = DialogTurn(\n",
    "    user_query=UserQuery(query_str=input_str),\n",
    "    assistant_response=AssistantResponse(response_str=response.data),\n",
    ")\n",
    "dialog_turn_db.add(new_turn, apply_transformer=True)"
   ]
  },
  {
   "cell_type": "code",
   "execution_count": 18,
   "metadata": {},
   "outputs": [
    {
     "name": "stdout",
     "output_type": "stream",
     "text": [
      "3 6\n"
     ]
    }
   ],
   "source": [
    "print(dialog_turn_db.length, len(dialog_turn_db.transformed_items[key]))"
   ]
  },
  {
   "cell_type": "code",
   "execution_count": 20,
   "metadata": {},
   "outputs": [
    {
     "name": "stdout",
     "output_type": "stream",
     "text": [
      "[Document(id=64987b2b-b6c6-4eb4-9122-02448e3fd394, text='What are the benefits of renewable energy? I can see you are interested in renewable energy. Renewab...', meta_data=None, vector='len: 256', parent_doc_id=f2eddc77-4667-43f5-87e0-fd11f12958b3, order=0, score=None), Document(id=9a424d4c-4bd0-48ce-aba9-7a4f86892556, text='and installation sectors. The growth in renewable energy usage boosts local economies through increa...', meta_data=None, vector='len: 256', parent_doc_id=f2eddc77-4667-43f5-87e0-fd11f12958b3, order=1, score=None), Document(id=45efa517-8e52-4780-bdbd-2329ffa8d4b6, text='How do solar panels impact the environment? Solar panels convert sunlight into electricity by allowi...', meta_data=None, vector='len: 256', parent_doc_id=b2dbdf2f-f513-493d-aaa8-c77c98ac260f, order=0, score=None), Document(id=bc0ff7f6-27cc-4e24-8c3e-9435ed755e20, text='has been found to have a significant positive effect on the environment by reducing the reliance on ...', meta_data=None, vector='len: 256', parent_doc_id=b2dbdf2f-f513-493d-aaa8-c77c98ac260f, order=1, score=None), Document(id=8e8ed957-9da6-4344-89d6-9361759db8d9, text='What are the benefits of renewable energy? Did I ask this before? Yes, you did ask about the benefit...', meta_data=None, vector='len: 256', parent_doc_id=45bc5469-0b82-4161-b1a9-aefce25c9029, order=0, score=None), Document(id=d54a9567-30b6-41a2-a344-25d22a327176, text='economy by creating jobs in the manufacturing and installation sectors. The growth in renewable ener...', meta_data=None, vector='len: 256', parent_doc_id=45bc5469-0b82-4161-b1a9-aefce25c9029, order=1, score=None)]\n",
      "45bc5469-0b82-4161-b1a9-aefce25c9029\n",
      "Document(id=8e8ed957-9da6-4344-89d6-9361759db8d9, text='What are the benefits of renewable energy? Did I ask this before? Yes, you did ask about the benefit...', meta_data=None, vector='len: 256', parent_doc_id=45bc5469-0b82-4161-b1a9-aefce25c9029, order=0, score=None)\n",
      "What are the benefits of renewable energy? Did I ask this before? Yes, you did ask about the benefits of renewable energy before. Renewable energy technologies not only help in reducing greenhouse gas emissions but also contribute significantly to the economy by creating jobs in the manufacturing and installation sectors. \n",
      "Document(id=d54a9567-30b6-41a2-a344-25d22a327176, text='economy by creating jobs in the manufacturing and installation sectors. The growth in renewable ener...', meta_data=None, vector='len: 256', parent_doc_id=45bc5469-0b82-4161-b1a9-aefce25c9029, order=1, score=None)\n",
      "economy by creating jobs in the manufacturing and installation sectors. The growth in renewable energy usage boosts local economies through increased investment in technology and infrastructure.\n"
     ]
    }
   ],
   "source": [
    "print(dialog_turn_db.transformed_items[key])\n",
    "\n",
    "# we will find them by comparing the id of new_turn to the parent_doc_id in the transformed_items\n",
    "new_turn_id = new_turn.id\n",
    "print(new_turn_id)\n",
    "for item in dialog_turn_db.transformed_items[key]:\n",
    "    if item.parent_doc_id == new_turn_id:\n",
    "        print(item)\n",
    "        print(item.text)"
   ]
  },
  {
   "cell_type": "markdown",
   "metadata": {},
   "source": [
    "When the conversation history is getting too long for the promp, we will use a retriever to get the most relevant part of the conversation to chat with user."
   ]
  },
  {
   "cell_type": "code",
   "execution_count": 23,
   "metadata": {},
   "outputs": [],
   "source": [
    "from lightrag.components.retriever.faiss_retriever import FAISSRetriever\n",
    "\n",
    "retriever = FAISSRetriever(top_k=3, embedder=embedder)"
   ]
  },
  {
   "cell_type": "code",
   "execution_count": 24,
   "metadata": {},
   "outputs": [
    {
     "data": {
      "text/plain": [
       "[Document(id=d77e0863-83f1-4a56-afc6-ec49cf1151d7, text='What are the benefits of renewable energy? I can see you are interested in renewable energy. Renewab...', meta_data=None, vector='len: 256', parent_doc_id=28f59f32-7ec3-4677-9d48-d7672c7b841c, order=0, score=None),\n",
       " Document(id=cc1926a4-f20b-4314-8205-fb9f2c3ff327, text='and installation sectors. The growth in renewable energy usage boosts local economies through increa...', meta_data=None, vector='len: 256', parent_doc_id=28f59f32-7ec3-4677-9d48-d7672c7b841c, order=1, score=None),\n",
       " Document(id=a15ea431-64d5-4776-8e23-9bbfaf01f65e, text='How do solar panels impact the environment? Solar panels convert sunlight into electricity by allowi...', meta_data=None, vector='len: 256', parent_doc_id=c6c423b1-2c89-4ef6-93d0-453fd7264696, order=0, score=None),\n",
       " Document(id=f0cd2864-e0aa-42e0-9ff4-8712bf870ed9, text='has been found to have a significant positive effect on the environment by reducing the reliance on ...', meta_data=None, vector='len: 256', parent_doc_id=c6c423b1-2c89-4ef6-93d0-453fd7264696, order=1, score=None),\n",
       " Document(id=f9331121-ba57-4710-8e69-cfa78451ebe5, text='What are the benefits of renewable energy? Did I ask this before? Yes, you asked about the benefits ...', meta_data=None, vector='len: 256', parent_doc_id=2ec3d54e-4579-4ff5-acb9-65abfad58a20, order=0, score=None),\n",
       " Document(id=bb49444a-81b9-421f-9157-c5211508abae, text='in the manufacturing and installation sectors. The growth in renewable energy usage also boosts loca...', meta_data=None, vector='len: 256', parent_doc_id=2ec3d54e-4579-4ff5-acb9-65abfad58a20, order=1, score=None)]"
      ]
     },
     "execution_count": 24,
     "metadata": {},
     "output_type": "execute_result"
    }
   ],
   "source": [
    "dialog_turn_db.transformed_items[key]"
   ]
  },
  {
   "cell_type": "code",
   "execution_count": 25,
   "metadata": {},
   "outputs": [
    {
     "name": "stdout",
     "output_type": "stream",
     "text": [
      "[[0.038091756, 0.08130312, 0.10887385, 0.09140143, 0.02799345, 0.016509559, -0.060777724, 0.07463354, 0.0887242, 0.083369754, 0.03921901, 0.04715675, -0.09553469, 0.05082032, 0.06218679, -0.016533043, -0.0772638, 0.027077556, 0.09825888, 0.07082906, 0.024470784, 0.075244136, 0.0071099135, 0.053262703, 0.009652103, 0.0072566913, -0.064394325, -0.02148826, 0.030036595, -0.013421356, 0.018329604, -0.021781815, -0.121085756, -0.07472748, 0.0879727, 0.012693338, -0.045747682, -0.13132498, 0.015159205, 0.018482253, 0.038467508, -0.07731077, -0.07660624, -0.06664883, -0.062233757, -0.017448938, -0.076935016, -0.023578376, 0.07200328, 0.09407865, 0.023472695, -0.056080837, -0.0056039738, -0.13677336, -0.027547246, -0.06434736, -0.007996451, 0.04652267, -0.109625354, -0.014912617, 0.12681596, -0.0016101517, 0.07120481, 0.14006118, -0.09468925, 0.07740471, -0.040087935, 0.01868187, -0.09346806, -0.005096123, 0.044620432, -0.034850907, 0.054906614, -0.034991812, 0.0056979116, -0.057771716, 0.02735937, -0.08848936, -0.0262556, 0.05758384, -0.0069161667, -0.008448526, -0.053403612, -0.053262703, -0.044949215, -0.014936103, 0.058617156, -0.03830312, -0.10840416, 0.07763955, -0.05373239, 0.007967096, 0.051196072, 0.0141846, 0.023637086, -0.022685967, 0.014372475, 0.06209285, 0.013902787, 0.10530422, 0.005557005, -0.0056509427, -0.018693613, 0.08524851, 0.090039335, -0.01460732, 0.07585473, 0.05392027, 0.04673403, -0.0024511882, -0.072426006, 0.067118526, 0.030670675, 0.06932606, 0.038091756, -0.049833976, -0.10633753, -0.038326602, 0.01106117, -0.1100011, -0.10812235, -0.027664667, 0.07787439, 0.05847625, 0.048565816, -0.014689515, -0.07176844, 0.019586021, -0.030975973, 0.058992907, -0.024329877, 0.08318188, 0.09360897, -0.11216167, -0.07857893, -0.05584599, 0.017167123, -0.016216004, -0.03752813, 0.07716986, 0.059509564, 0.0030764614, 0.029942658, 0.011067041, -0.019715184, -0.09309231, 0.017777719, -0.050726384, 0.023566633, 0.06284435, 0.035978157, 0.023425726, -0.11141017, 0.047767345, 0.019139817, -0.05932169, -0.049787007, -0.020631079, -0.051900607, -0.03731677, -0.09478319, 0.14851558, -0.066930644, -0.046076465, 0.028557075, 0.011806801, -0.04201366, -0.049364287, -0.12456146, -0.023367016, -0.047039326, -0.095393784, 0.11535556, 0.07355326, 0.0058153337, 0.056644462, -0.060355004, 0.049176414, 0.12991591, -0.06430039, -0.078344084, 0.12737958, -0.10023158, -0.05457783, 0.047555987, -0.06218679, -0.06791699, 0.01053277, -0.06932606, 0.09468925, -0.0228621, 0.036213003, 0.014125889, 0.001522085, 0.09158931, -0.02963736, -0.006399509, 0.05542327, -0.051994544, -0.06420645, 0.03943037, -0.07637139, 0.044479523, -0.003138108, -0.046170402, -0.025175316, -0.1211797, 0.03318351, 0.023167398, 0.000117513926, -0.027288916, 0.108216286, 0.0019785638, 0.16692738, 0.058570188, 0.08759695, -0.03132824, 0.051524855, -0.027382854, -0.03339487, -0.13217041, -0.08181978, 0.038044788, -4.7427555e-05, 0.031046426, 0.024963956, 0.031469148, 0.009299837, 0.12503114, 0.025151832, -0.095675595, -0.006663709, -0.0351562, -0.096192256, -0.04884763, -0.04022884, 0.045160573, -0.010908521, -0.0057125892, -0.026279086, 0.06932606, 0.08120918, 0.036377393, -0.04786128, 0.08938177, 0.056644462, -0.0039101588, -0.07825015, 0.10859204, -0.022592029, -0.031375207, 0.0064229937, 0.08346369, 0.022310216, 0.057724748, -0.031727474], [-0.07055026, 0.026867468, 0.21271624, 0.018239768, 0.08731927, 0.06647382, 0.036155272, 0.037313353, -0.015564602, 0.04734233, 0.056977563, 0.061331946, -0.07166202, 0.035692044, 0.1093228, 0.07068924, -0.010619598, -0.024319692, -0.0052316287, 0.09213689, 0.06939218, -0.022536246, 0.01539089, -0.023474293, -0.01207878, -0.021343425, -0.031129204, 0.06286061, 0.08227004, 0.015275083, 0.024481822, -0.059015784, -0.030272225, -0.03379279, 0.09042293, 0.00027486318, -0.05748712, -0.006630011, 0.05049231, -0.0058367257, 0.05957166, -0.09417511, -0.10450519, -0.070364974, -0.0736076, -0.02746967, -0.084539875, -0.09158101, 0.075228915, 0.04271001, 0.09783464, -0.07193996, 0.082594305, -0.25403655, -0.00582804, 0.00036117635, 0.09829787, 0.0754142, -0.048685703, -0.039536867, 0.2264279, 0.04067179, 0.08759721, 0.051372454, 0.028396135, 0.06929954, 0.0070237583, 0.027678125, -0.056190066, 0.0057064416, -0.0041951467, -0.06286061, 0.030967074, -0.0049971174, 0.0650378, 0.02100758, -0.032982133, -0.025222994, 0.008355551, 0.039166283, -0.031245012, -0.09653759, 0.012970502, -0.025848357, -0.004858148, 0.020243248, -0.010770149, -0.01467288, -0.093758196, 0.12794474, -0.002374065, 0.04919526, 0.11515953, 0.00019687369, -0.079398, 0.03694277, 0.024991378, -0.08583693, 0.08162151, 0.1107125, 0.012414623, -0.015622506, 0.052993763, -0.018343996, -0.014545491, -0.018668259, -0.034904547, 0.029438406, -0.027214892, 0.0061320364, -0.018008152, 0.073468626, 0.050538633, 0.042547878, 0.09292438, -0.035136163, -0.045813665, -0.01724382, 0.0036334777, -0.08477149, -0.0046525886, -0.030550165, -0.0043225354, 0.083752386, 0.0540592, 0.048083503, -0.12359035, 0.091858946, -0.05767241, 0.0037753426, -0.0033844903, 0.06749293, 0.14888284, -0.08384503, -0.038934667, -0.050584957, -0.04528095, -0.05808932, 0.010567484, -0.01136077, 0.024528146, 0.030642811, 0.018529288, 0.06401869, -0.07356127, -0.020254828, 0.03525197, -0.05063128, 0.08810677, 0.026936954, -0.038934667, -0.037938718, -0.16240922, 0.03555307, -0.030457517, -0.020034794, -0.08648545, -0.018031314, -0.016479487, 0.050816573, -0.047064394, 0.11553011, -0.015263502, -0.053595968, -0.07314437, 0.022547828, -0.10885957, -0.030017447, -0.12729621, -0.015634088, 0.016873233, -0.08847735, 0.06999439, -0.00050159363, -0.04268685, 0.115808055, -0.07745243, 0.035877336, 0.14174905, -0.015564602, 0.021204455, 0.05165039, -0.024180721, -0.05952534, 0.003940369, 0.0118240025, -0.056977563, 0.041806705, -0.00503186, 0.10144785, -0.00719168, -0.0034452896, 0.06096136, 0.066705436, 0.06684441, 0.028002387, -0.033306397, 0.07119879, -0.035761528, -0.052252594, -0.016201546, -0.0566533, 0.04604528, 0.02042854, -0.080139175, -0.03773026, -0.12192272, -0.04027804, 0.086902365, -0.0151824355, 0.019756854, 0.016792167, -0.003624792, 0.10450519, -0.004171985, 0.05938637, -0.046763293, 0.04574418, -0.033260074, -0.047851887, 0.009890008, -0.038332466, -0.011673451, -0.006821094, 0.09542584, 0.083196506, -0.048268795, -0.028558265, 0.09079351, -0.044632424, -0.037359677, 0.010602227, 0.04831512, -0.048963644, -0.08111196, 0.025593579, 0.031499792, 0.001268822, -0.06337017, 0.0018500336, 0.039629515, 0.10385666, 0.0050839735, -0.08356709, 0.018772485, 0.039305255, 0.014128583, 0.02777077, 0.124516815, 0.005179515, -0.07842521, 0.067214996, 0.08731927, 0.06457457, 0.047365494, -0.031152366], [0.012501691, 0.03512784, -0.054888576, 0.17217948, 0.1059566, -0.001747106, -0.025109507, -0.06677473, 0.08379741, -0.04228076, 0.04601641, 0.037908353, -0.073184766, -0.008012543, 0.058666676, -0.07946745, -0.053317904, -0.017914137, 0.040752538, 0.04236566, 0.10909794, -0.009753017, 0.043023646, 0.048987947, -0.097890995, 0.017287992, -0.08566523, 0.03332369, 0.15715198, 0.019707672, -0.0070043425, -0.03493681, -0.06949157, 0.008856248, 0.0062614577, 0.07182635, -0.06214762, -0.08795756, 0.01346744, -0.0014844431, 0.048605893, -0.011281237, -0.017033288, -0.056374345, -0.08226919, -0.025173184, -0.027104683, -0.07921275, 0.07191125, 0.046907872, 0.06367584, -0.023347808, 0.046907872, -0.017839849, -0.070849985, 0.011482877, -0.05883648, 0.085877486, -0.16012351, 0.018550895, 0.12225762, -0.014104199, -0.027104683, 0.07874579, -0.09491946, 0.11419201, -0.028569227, 0.036231555, -0.010920407, 0.06452485, 0.08630199, 0.001623734, 0.120729394, -0.044360835, -0.01909214, 0.039330445, 0.08494357, -0.07887314, 0.081802234, 0.059643038, 0.06838785, 0.053402808, -0.098570205, 0.031561993, -0.10171155, 0.038842265, 0.049964312, -0.019760737, -0.017744334, 0.030479504, 0.02869658, 0.012735168, -0.046695616, 0.04043416, 0.00908442, 0.049709607, -0.07225086, -0.0017510856, -0.0048818146, 0.05909118, 0.06724169, -0.022053067, -0.013106611, 0.022647375, 0.028484326, -0.084816225, -0.02150121, 0.09194791, -0.06847276, 0.028526777, -0.024281722, -0.023602512, -0.033578396, 0.054209366, 0.014794021, -0.015377716, -0.001715268, 0.049370002, 0.03553112, -0.06961892, -0.053020753, 0.008044382, 0.07106224, 0.076071404, 0.11818236, -0.11147518, 0.033705745, -0.056204543, -0.020843226, 0.014443804, 0.07038303, 0.08260879, 0.027147135, -0.06575592, -0.11003186, -0.122767024, 0.027062234, -0.026680177, 0.064737104, 0.032304876, 0.03495804, 0.09610807, -0.09466475, 0.07314232, -0.053317904, -0.06898216, 0.05900628, -0.028293299, 0.0086174635, 0.05739316, 0.06885481, 0.008357454, -0.022965753, 0.106975414, 0.16547228, -0.026701404, 0.10723012, 0.06384564, -0.013265801, 0.0022180418, -0.042641588, 0.037038114, -0.026298122, -0.11274869, -0.026531601, -0.020758325, 0.026043419, 0.032708157, -0.06274193, -0.00826194, -0.101371944, -0.019017851, -0.017670047, 0.04847854, 0.03468211, 0.022201644, -0.07853354, 0.022647375, 0.10400388, 0.034830686, -0.004788954, 0.102730356, -0.05132273, -0.038163055, 0.018508445, 0.006314521, -0.033833098, 0.014634831, -0.097890995, -0.027380612, -0.03162567, 0.006675351, -0.10009842, 0.047841784, 0.021097928, -0.01724554, 0.064567305, 0.121069, -0.16793442, -0.010713461, 0.015452004, -0.09678728, -0.024324171, 0.03359962, 0.017447181, -0.06571347, -0.023857215, -0.04699277, 0.10510759, -0.075392194, -0.0077047767, 0.13371927, 0.0045979265, 0.023347808, 0.027423063, 0.05391221, -0.02564014, 0.071699, -0.02941824, -0.041261945, 0.0023201886, 0.0049003866, 0.09704199, 0.038205504, -0.0013942356, 0.07254801, -0.051110476, 0.09143851, 0.107484825, -0.05293585, -0.13923784, -0.045209847, 0.010909794, 0.024069468, -0.08821227, -0.07165655, -0.027232036, 0.02222287, -0.070680186, -0.053233005, 0.021819588, 0.050940674, 0.05739316, 0.04775688, -0.049285103, 0.10706031, 0.036019303, -0.018317418, 0.1355871, -0.034830686, 0.0010148337, 0.04605886, -0.014985048, 0.055695135, 0.11894647, -0.08065607], [0.0017780039, -0.013017899, 0.14972664, 0.106694095, 0.07758058, -0.0257308, -0.03227441, 0.0765824, 0.07636058, 0.06249701, 0.02778261, -0.044197086, -0.17390472, -0.006307928, 0.08600964, 0.027602384, 0.025217848, -0.045749806, 0.050324786, 0.040010285, 0.06410518, -0.07336605, 0.0118187, 0.017107654, -0.007389287, 0.031747594, -0.010356093, -0.063217916, 0.09094507, -0.074197866, 0.08046421, -0.06560245, 0.038124837, 0.01569357, 0.020823093, 0.065657906, -0.052903414, -0.010993817, -0.016303567, 0.004599242, -0.0074724685, -0.023082856, 0.036294848, -0.06282973, -0.054234315, -0.03557394, -0.0004639966, -0.05711794, 0.080076024, 0.10203593, 0.011070067, -0.11196225, -0.0007356361, -0.21593909, 0.009870867, -0.03879029, 0.026091253, 0.065047905, -0.05204387, 0.06532518, 0.0803533, 0.033050768, 0.09449414, 0.10181411, -0.054539315, 0.064604275, 0.036294848, 0.08955871, -0.057727937, 0.04203437, 0.03626712, 0.02584171, 0.012068245, 0.003677314, 0.01104234, -0.046553895, 0.10209139, -0.028073745, -0.0015596525, 0.025592165, -0.006928323, 0.018993102, -0.09416142, -0.079521485, -0.053152956, -0.027616248, 0.058060665, 0.005410261, -0.14817391, 0.014057668, 0.02801829, -0.035047125, -0.036599845, 0.047524344, 0.04142437, 0.049548425, -0.030693961, 0.014293348, 0.10386592, 0.102867745, 0.04172937, -0.027727155, 0.062607914, 0.010536319, 0.037098933, 0.02456626, 0.07896694, 0.0029841352, 0.0233324, -0.002332547, 0.08966962, -0.009614391, -0.009787686, 0.1196704, -0.09155507, -0.023263084, -0.08595418, 0.046110258, 0.038346656, -0.015471753, -0.02417808, -0.008747918, 0.025411937, 0.011888018, 0.060112473, -0.14595574, -0.09016871, -0.037792113, -0.045167536, -0.148063, -0.0103699565, 0.117784955, 0.053984772, 0.0014054201, -0.057561573, -0.11146317, -0.043725725, -0.09970685, 0.029002605, 0.014265621, 0.055038404, 0.025120802, -0.04735798, 0.122997664, -0.115234055, -0.12920855, 0.023179902, 0.020337868, 0.109688625, 0.065158814, 0.0057949754, -0.011014612, -0.04724707, 0.09016871, 0.016955156, -0.048910704, 0.010175866, 0.030444417, -0.031886227, -0.04486254, -0.076249674, 0.045943897, -0.09759959, -0.065047905, 0.09161052, 0.07630513, -0.07497423, -0.0051260577, -0.17312835, -0.017287882, -0.05165569, -0.0150974365, 0.085177824, 0.015457889, -0.029168967, 0.10891227, -0.061498832, 0.03568485, 0.04677571, 0.0029581408, 0.049187973, 0.117784955, 0.037792113, 0.058726113, -0.060777925, 0.000779393, -0.03479758, 0.05817157, -0.0018109299, 0.0469698, -0.07064879, 0.08972508, 0.025606029, 0.012428697, -0.026216025, -0.017925605, -0.004425947, 0.10497501, -0.031830773, 0.029584875, 0.04428027, -0.06870789, -0.0029616067, -0.068874255, -0.11140771, -0.04416936, -0.011201771, -0.017842425, 0.07885603, -0.06465973, 0.0013335028, 0.02847579, -0.073144235, 0.08955871, 0.14296122, 0.08273783, 0.051045693, -0.035352122, 0.012054381, -0.05661885, -0.024898985, -0.054234315, 0.16004114, -0.01437653, -0.038346656, 0.052071597, -0.07774694, 0.010376887, 0.0585043, -0.12066858, -0.05722885, 0.016955156, -0.037986204, 0.013087218, -0.024094898, -0.04766298, 0.0237899, -0.021488545, 0.03526894, 0.022472858, -0.041673914, -0.0141616445, 0.0042075957, -0.04347618, -0.09033507, 0.07663786, -0.021225138, 0.0133506255, -0.010272911, 0.047163893, -0.036017574, 0.07364333, -0.025439665, -0.06948425, -0.00879644, -0.056591123], [0.07047577, 0.042158775, 0.117397055, 0.032281846, -0.004228781, 0.015143845, -0.059308507, 0.027566256, 0.044481378, 0.018721594, 0.07338489, -0.053818714, -0.048422765, 0.046006322, 0.02737857, -0.05724397, -0.13832395, -0.008041135, 0.05663399, 0.05325566, -0.008780145, 0.07263415, -0.039718866, 0.10951428, -0.012035309, 0.0076540345, -0.04307374, -0.07216494, -0.024844822, -0.0005132016, 0.00875082, -0.03434638, -0.1174909, -0.062639914, 0.12584288, -0.021231882, -0.06024693, -0.13428871, 0.07188341, -0.009742032, -0.014897509, -0.084458314, -0.09407718, -0.065924406, -0.08319144, -0.022674711, -0.10960812, -0.024516372, 0.042932976, 0.13663478, 0.026674751, -0.044035625, 0.03981271, -0.07807702, 0.016833011, -0.0656898, -0.011571962, 0.019812513, -0.103039145, -0.06498598, 0.15803088, 0.008598326, -0.0004299896, 0.13297492, -0.11354951, 0.06395371, -0.023906395, -0.012352029, -0.06381295, -0.0024736314, 0.0087977415, -0.002283014, 0.018721594, -0.022569139, -0.06686283, -0.055695567, 0.07094499, -0.05255184, -0.0056804083, 0.05222339, -0.016539752, -0.03249299, -0.026369762, -0.0991916, -0.029490028, -0.017008966, 0.030733442, -0.09290414, -0.106699005, 0.019413682, -0.05879237, 0.014369643, -0.01279778, 0.050393462, 0.038545836, -0.03756049, -0.013595442, 0.07155496, 0.02773048, 0.068364315, -0.032446068, -0.064704455, -0.042463765, 0.12011849, 0.014897509, -0.00060007925, 0.07986003, 0.07953158, -0.0027375638, -0.047672026, -0.03688013, 0.03028769, 0.057197046, 0.030592678, 0.052364156, 0.017607212, -0.11411256, -0.0815492, 0.0126570165, -0.07807702, -0.084082946, -0.054522533, 0.031202655, 0.06606517, 0.08441139, -0.043261424, -0.04675706, 0.06292144, -0.015272878, 0.06737897, -0.022709902, 0.068786606, 0.09825317, -0.10585442, -0.12002465, -0.026416684, 0.043613333, -0.052364156, -0.021114578, 0.036012087, 0.12021233, -0.012950275, -0.005589498, 0.047718946, 0.019941546, -0.040657293, 0.041806865, -0.066534385, -0.011413603, 0.024234844, 0.023624867, 0.026885897, -0.10003618, 0.04046961, 0.008979561, -0.07404179, -0.046968207, -0.033830248, -0.06057538, -0.027073583, -0.11495715, 0.14911585, -0.09454639, -0.08206533, 0.025337495, -0.044622142, -0.019988468, -0.03181263, -0.088962756, -0.07939082, -0.044739448, -0.054569457, 0.12649979, 0.030404992, 0.025501719, -0.0055865655, -0.07587172, -0.017102808, 0.15643556, -0.1174909, -0.09055808, 0.17285801, -0.048845056, -0.039179273, 0.036997434, -0.07085114, -0.07024116, -0.010486907, -0.09055808, 0.087320514, 0.02953695, 0.0270032, -0.005437004, -0.016574943, 0.06442293, -0.030921128, 0.03873352, -0.055601723, -0.0372555, -0.09468716, 0.032797977, -0.04260453, 0.011912141, 0.05503867, -0.024023699, 0.022193767, -0.048141237, 0.039648484, 0.015519215, -0.03357218, 0.018674672, 0.04384794, 0.026322842, 0.18993737, 0.07174265, 0.042229157, -0.061044592, 0.09473407, -0.032328766, -0.0007056522, -0.123215295, -0.034815595, 0.04523212, 0.04119689, -0.02041076, 0.009560212, 0.010680458, 0.04931427, 0.100880764, -0.015777282, -0.006263992, 0.044434458, -0.027261266, -0.045818634, -0.005002982, -0.030733442, 0.026510525, 0.007161361, -0.03610593, -0.02705012, 0.045372885, 0.08276915, 0.033314113, 0.03950772, 0.04373064, 0.07432332, -0.0030909397, -0.066299774, 0.111391135, 0.0012720068, -0.004835825, -0.014099847, 0.11007734, -0.008070461, 0.06644054, -0.09769011], [-0.04854006, 0.07657507, 0.20034118, 0.027323712, 0.11861532, 0.0563153, 0.051213562, 0.03377446, -0.043708127, 0.047141988, 0.022663474, 0.039415803, -0.08795586, 0.07765428, 0.12401139, 0.07726184, -0.007983724, -0.025950167, 0.0064936737, 0.07868444, 0.07858633, 0.02855009, 0.046700493, -0.01759853, -0.023681367, 0.017819278, -0.03693852, 0.039415803, 0.04760801, -0.0030536824, 0.0037128606, -0.06073026, -0.037600763, -0.077605225, 0.0644094, 0.050723013, -0.017512685, -0.039317694, 0.05450026, 0.0003746203, 0.021621052, -0.09345004, -0.11753611, -0.056217186, -0.03926864, -0.023570994, -0.07171861, -0.062496245, 0.0906539, 0.059994433, 0.10458555, -0.077703334, 0.082461685, -0.23781931, -0.024969066, -0.04044596, 0.118222885, 0.07152239, -0.07814483, -0.025999224, 0.18170023, 0.02073806, 0.08172586, 0.033014107, -0.008002119, 0.053911597, -0.037502654, 0.022737056, -0.02316629, -0.012435477, 0.014581639, -0.039293166, 0.01558727, 0.011993981, 0.06033782, -0.028819893, 0.0045222705, -0.012742072, 0.037870567, 0.06720554, -0.061760418, -0.09590279, -0.022908749, -0.031910367, -0.031419817, -0.0027639505, -0.0069167744, -0.010123754, -0.112140045, 0.14157313, 0.0051906467, 0.016629692, 0.11331737, -0.026514301, -0.061318923, 0.025189813, -0.009246893, -0.039464857, 0.056364354, 0.089967124, 0.021633316, 0.01856737, 0.079027824, 0.030463241, -0.010779867, -0.034731038, -0.0063649043, 0.006702158, -0.010007248, -0.014520321, -0.0068493234, 0.054107815, 0.024147391, 0.063820735, 0.06342829, -0.0180155, -0.056119077, -0.020848434, 0.014692014, -0.06318302, -0.013342997, -0.06288869, -0.003243771, 0.082461685, 0.046945766, 0.092174605, -0.15020683, 0.08967279, -0.07255255, -0.024539832, -0.0043720393, 0.070982784, 0.14618431, -0.11616257, -0.073190264, -0.05450026, -0.04540053, -0.071865775, 0.022491781, -0.006180947, 0.016727801, 0.045596752, 0.012024641, 0.02965383, -0.09246893, -0.04728915, 0.062937744, -0.058768056, 0.09031051, 0.028501036, -0.023190817, -0.008278054, -0.15099171, 0.046357106, -0.019045657, -0.056854904, -0.07152239, -0.026685994, 0.012558116, 0.0079898555, -0.042383637, 0.13813926, -0.015158038, -0.072111055, -0.06710743, 0.04177045, -0.075643025, -0.0363008, -0.11527957, -0.035246115, -0.007879482, -0.06431129, 0.057639785, 0.05538325, -0.006426223, 0.123717055, -0.08108814, 0.009222366, 0.08437484, 0.0218418, 0.017316464, 0.05670774, -4.553409e-05, -0.06367357, -0.013710911, -0.0001408419, -0.07888066, 0.057639785, -0.022761583, 0.099238545, -0.0048503266, 0.028795365, 0.05508892, 0.021032391, 0.08672948, 0.028623672, -0.016899494, 0.061417032, -0.020431465, -0.0758883, 0.031640563, -0.067156486, 0.07127711, 0.022994597, -0.058375616, -0.05680585, -0.14745975, -0.004488545, 0.1021328, -0.01983054, -0.024834163, 0.04208931, 0.010166678, 0.112041935, 0.016580636, 0.074416645, -0.05577569, 0.062937744, 0.014483529, -0.054254983, -0.0036760694, -0.063624516, 0.022835167, 0.011110988, 0.09237082, 0.092076495, -0.03804226, -0.03188584, 0.1136117, -0.068431914, -0.027201073, -0.025484145, -0.004727689, -0.056266245, -0.060779314, 0.009191707, 0.059062384, 0.004381237, -0.04437037, -0.017034397, 0.02592564, 0.120969966, 0.023840796, -0.07500531, 0.014299572, 0.042211946, 0.0068186643, 0.035466865, 0.11694745, -0.021461623, -0.06023971, 0.01685044, 0.090408616, 0.03823848, 0.04932494, -0.01610235]]\n",
      "2024-06-22 15:35:00 - faiss_retriever - INFO - [faiss_retriever.py:181:build_index_from_documents] - Index built with 6 chunks\n"
     ]
    }
   ],
   "source": [
    "# we will use the retriever to find top_k chunked documents, from its partent_doc_id, we will find the initial dialog_turn, and feed that to the generator\n",
    "from lightrag.utils.logger import enable_library_logging\n",
    "enable_library_logging()\n",
    "\n",
    "embeddings = [item.vector for item in dialog_turn_db.transformed_items[key]]\n",
    "print(embeddings)\n",
    "retriever.build_index_from_documents(documents=embeddings)\n",
    "\n",
    "# top_k_documents = retriever(input=input_str)\n",
    "# print(top_k_documents)\n"
   ]
  },
  {
   "cell_type": "code",
   "execution_count": 27,
   "metadata": {},
   "outputs": [
    {
     "name": "stdout",
     "output_type": "stream",
     "text": [
      "2024-06-22 15:35:09 - openai_client - INFO - [openai_client.py:185:call] - api_kwargs: {'model': 'text-embedding-3-small', 'dimensions': 256, 'encoding_format': 'float', 'input': ['What are the benefits of renewable energy? Did I ask this before?']}\n",
      "2024-06-22 15:35:09 - _client - INFO - [_client.py:1026:_send_single_request] - HTTP Request: POST https://api.openai.com/v1/embeddings \"HTTP/1.1 200 OK\"\n",
      "[RetrieverOutput(doc_indices=[4, 0, 5], doc_scores=[0.9079999923706055, 0.8050000071525574, 0.6890000104904175], query='What are the benefits of renewable energy? Did I ask this before?', documents=None)]\n"
     ]
    }
   ],
   "source": [
    "top_k_documents = retriever(input=input_str)\n",
    "print(top_k_documents)"
   ]
  },
  {
   "cell_type": "code",
   "execution_count": 29,
   "metadata": {},
   "outputs": [
    {
     "name": "stdout",
     "output_type": "stream",
     "text": [
      "{'2ec3d54e-4579-4ff5-acb9-65abfad58a20', '28f59f32-7ec3-4677-9d48-d7672c7b841c'}\n"
     ]
    }
   ],
   "source": [
    "# get the parent_doc_id from the top_k_documents\n",
    "\n",
    "parent_doc_ids = set([dialog_turn_db.transformed_items[key][doc_index].parent_doc_id for doc_index in top_k_documents[0].doc_indices])\n",
    "print(parent_doc_ids)\n"
   ]
  },
  {
   "cell_type": "code",
   "execution_count": 31,
   "metadata": {},
   "outputs": [],
   "source": [
    "condition_fn = lambda item: item.id in parent_doc_ids\n",
    "\n",
    "fetched_dialog_turns = [item for item in dialog_turn_db.items if condition_fn(item)]"
   ]
  },
  {
   "cell_type": "code",
   "execution_count": 32,
   "metadata": {},
   "outputs": [
    {
     "name": "stdout",
     "output_type": "stream",
     "text": [
      "2024-06-22 15:46:48 - generator - INFO - [generator.py:224:call] - prompt_kwargs: {'input_str': 'What are the benefits of renewable energy? Did I ask this before?', 'chat_history_str': 'user_query: \\n  metadata: null\\n  query_str: What are the benefits of renewable energy?\\nassistant_response: \\n  metadata: null\\n  response_str: I can see you are interested in renewable energy. Renewable energy technologies\\n    not only help in reducing greenhouse gas emissions but also contribute significantly\\n    to the economy by creating jobs in the manufacturing and installation sectors. The\\n    growth in renewable energy usage boosts local economies through increased investment\\n    in technology and infrastructure\\n_________\\nuser_query: \\n  metadata: null\\n  query_str: What are the benefits of renewable energy? Did I ask this before?\\nassistant_response: \\n  metadata: null\\n  response_str: Yes, you asked about the benefits of renewable energy before. Renewable\\n    energy technologies help in reducing greenhouse gas emissions and contribute significantly\\n    to the economy by creating jobs in the manufacturing and installation sectors. The\\n    growth in renewable energy usage also boosts local economies through increased investment\\n    in technology and infrastructure'}\n",
      "2024-06-22 15:46:48 - generator - INFO - [generator.py:225:call] - model_kwargs: {}\n",
      "2024-06-22 15:46:48 - openai_client - INFO - [openai_client.py:185:call] - api_kwargs: {'model': 'gpt-3.5-turbo', 'messages': [{'role': 'system', 'content': '<SYS>\\n<CHAT_HISTORY>\\nuser_query: \\n  metadata: null\\n  query_str: What are the benefits of renewable energy?\\nassistant_response: \\n  metadata: null\\n  response_str: I can see you are interested in renewable energy. Renewable energy technologies\\n    not only help in reducing greenhouse gas emissions but also contribute significantly\\n    to the economy by creating jobs in the manufacturing and installation sectors. The\\n    growth in renewable energy usage boosts local economies through increased investment\\n    in technology and infrastructure\\n_________\\nuser_query: \\n  metadata: null\\n  query_str: What are the benefits of renewable energy? Did I ask this before?\\nassistant_response: \\n  metadata: null\\n  response_str: Yes, you asked about the benefits of renewable energy before. Renewable\\n    energy technologies help in reducing greenhouse gas emissions and contribute significantly\\n    to the economy by creating jobs in the manufacturing and installation sectors. The\\n    growth in renewable energy usage also boosts local economies through increased investment\\n    in technology and infrastructure\\n</CHAT_HISTORY>\\n</SYS>\\n<User>\\nWhat are the benefits of renewable energy? Did I ask this before?\\n</User>\\nYou:'}]}\n",
      "2024-06-22 15:46:49 - _client - INFO - [_client.py:1026:_send_single_request] - HTTP Request: POST https://api.openai.com/v1/chat/completions \"HTTP/1.1 200 OK\"\n",
      "2024-06-22 15:46:49 - generator - INFO - [generator.py:233:call] - output: GeneratorOutput(data='Yes, you asked about the benefits of renewable energy before. Renewable energy technologies help in reducing greenhouse gas emissions and contribute significantly to the economy by creating jobs in the manufacturing and installation sectors. The growth in renewable energy usage also boosts local economies through increased investment in technology and infrastructure.', error=None, usage=None, raw_response='Yes, you asked about the benefits of renewable energy before. Renewable energy technologies help in reducing greenhouse gas emissions and contribute significantly to the economy by creating jobs in the manufacturing and installation sectors. The growth in renewable energy usage also boosts local economies through increased investment in technology and infrastructure.')\n",
      "GeneratorOutput(data='Yes, you asked about the benefits of renewable energy before. Renewable energy technologies help in reducing greenhouse gas emissions and contribute significantly to the economy by creating jobs in the manufacturing and installation sectors. The growth in renewable energy usage also boosts local economies through increased investment in technology and infrastructure.', error=None, usage=None, raw_response='Yes, you asked about the benefits of renewable energy before. Renewable energy technologies help in reducing greenhouse gas emissions and contribute significantly to the economy by creating jobs in the manufacturing and installation sectors. The growth in renewable energy usage also boosts local economies through increased investment in technology and infrastructure.')\n"
     ]
    }
   ],
   "source": [
    "chat_history_str = format_chat_history_str(fetched_dialog_turns)\n",
    "\n",
    "output = generator(prompt_kwargs={\"input_str\": input_str, \"chat_history_str\": chat_history_str})\n",
    "print(output)"
   ]
  }
 ],
 "metadata": {
  "kernelspec": {
   "display_name": "lightrag-project",
   "language": "python",
   "name": "light-rag-project"
  },
  "language_info": {
   "codemirror_mode": {
    "name": "ipython",
    "version": 3
   },
   "file_extension": ".py",
   "mimetype": "text/x-python",
   "name": "python",
   "nbconvert_exporter": "python",
   "pygments_lexer": "ipython3",
   "version": "3.11.6"
  }
 },
 "nbformat": 4,
 "nbformat_minor": 2
}
