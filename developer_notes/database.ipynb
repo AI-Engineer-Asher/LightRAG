{
 "cells": [
  {
   "cell_type": "markdown",
   "metadata": {},
   "source": [
    "# Data and Data storage\n",
    "\n"
   ]
  },
  {
   "cell_type": "code",
   "execution_count": 1,
   "metadata": {},
   "outputs": [],
   "source": [
    "# setup data needed for the notes\n",
    "query_1 = \"What are the benefits of renewable energy?\" # gt is [0, 3]\n",
    "query_2 = \"How do solar panels impact the environment?\" # gt is [1, 2]\n",
    "\n",
    "org_documents =[\n",
    "    {\n",
    "        \"title\": \"The Impact of Renewable Energy on the Economy\",\n",
    "        \"content\": \"Renewable energy technologies not only help in reducing greenhouse gas emissions but also contribute significantly to the economy by creating jobs in the manufacturing and installation sectors. The growth in renewable energy usage boosts local economies through increased investment in technology and infrastructure.\"\n",
    "    },\n",
    "    {\n",
    "        \"title\": \"Understanding Solar Panels\",\n",
    "        \"content\": \"Solar panels convert sunlight into electricity by allowing photons, or light particles, to knock electrons free from atoms, generating a flow of electricity. Solar panels are a type of renewable energy technology that has been found to have a significant positive effect on the environment by reducing the reliance on fossil fuels.\"\n",
    "    },\n",
    "    {\n",
    "        \"title\": \"Pros and Cons of Solar Energy\",\n",
    "        \"content\": \"While solar energy offers substantial environmental benefits, such as reducing carbon footprints and pollution, it also has downsides. The production of solar panels can lead to hazardous waste, and large solar farms require significant land, which can disrupt local ecosystems.\"\n",
    "    },\n",
    "    {\n",
    "        \"title\":  \"Renewable Energy and Its Effects\",\n",
    "        \"content\": \"Renewable energy sources like wind, solar, and hydro power play a crucial role in combating climate change. They do not produce greenhouse gases during operation, making them essential for sustainable development. However, the initial setup and material sourcing for these technologies can still have environmental impacts.\"\n",
    "    }\n",
    "]\n",
    "\n",
    "turns = [\n",
    "    {\n",
    "        \"user\": \"What are the benefits of renewable energy?\",\n",
    "        \"system\": \"I can see you are interested in renewable energy. Renewable energy technologies not only help in reducing greenhouse gas emissions but also contribute significantly to the economy by creating jobs in the manufacturing and installation sectors. The growth in renewable energy usage boosts local economies through increased investment in technology and infrastructure.\",\n",
    "        \"user_time\": \"2021-09-01T12:00:00Z\",\n",
    "        \"system_time\": \"2021-09-01T12:00:01Z\"\n",
    "    },\n",
    "    {\n",
    "        \"user\": \"How do solar panels impact the environment?\",\n",
    "        \"system\": \"Solar panels convert sunlight into electricity by allowing photons, or light particles, to knock electrons free from atoms, generating a flow of electricity. Solar panels are a type of renewable energy technology that has been found to have a significant positive effect on the environment by reducing the reliance on fossil fuels.\",\n",
    "        \"user_time\": \"2021-09-01T12:00:02Z\",\n",
    "        \"system_time\": \"2021-09-01T12:00:03Z\"\n",
    "    }\n",
    "]"
   ]
  },
  {
   "cell_type": "markdown",
   "metadata": {},
   "source": [
    "## Create Document and DialogTurn objects\n"
   ]
  },
  {
   "cell_type": "code",
   "execution_count": 2,
   "metadata": {},
   "outputs": [
    {
     "name": "stdout",
     "output_type": "stream",
     "text": [
      "[Document(id=41d383e7-266d-4d7b-9208-92455e963f58, text='Renewable energy technologies not only help in reducing greenhouse gas emissions but also contribute...', meta_data={'title': 'The Impact of Renewable Energy on the Economy'}, vector=[], parent_doc_id=None, order=None, score=None), Document(id=1a6372a4-1b74-46e5-95e1-36833d33281c, text='Solar panels convert sunlight into electricity by allowing photons, or light particles, to knock ele...', meta_data={'title': 'Understanding Solar Panels'}, vector=[], parent_doc_id=None, order=None, score=None), Document(id=3ebe149c-f36a-448d-918f-627140d48064, text='While solar energy offers substantial environmental benefits, such as reducing carbon footprints and...', meta_data={'title': 'Pros and Cons of Solar Energy'}, vector=[], parent_doc_id=None, order=None, score=None), Document(id=acee1c04-b5e9-4461-88fb-b868f87e6459, text='Renewable energy sources like wind, solar, and hydro power play a crucial role in combating climate ...', meta_data={'title': 'Renewable Energy and Its Effects'}, vector=[], parent_doc_id=None, order=None, score=None)]\n"
     ]
    }
   ],
   "source": [
    "# create Document objects\n",
    "from lightrag.core.types import Document\n",
    "\n",
    "# we will save the content to text and title in the meta_data\n",
    "documents  = [Document(text=doc['content'], meta_data={'title': doc['title']}) for doc in org_documents]\n",
    "print(documents)"
   ]
  },
  {
   "cell_type": "code",
   "execution_count": 3,
   "metadata": {},
   "outputs": [
    {
     "name": "stdout",
     "output_type": "stream",
     "text": [
      "[DialogTurn(id='0ec229c8-1396-43d6-999b-8816fb5337c6', user_id=None, session_id=None, order=None, user_query=UserQuery(query_str='What are the benefits of renewable energy?', metadata=None), assistant_response=AssistantResponse(response_str='I can see you are interested in renewable energy. Renewable energy technologies not only help in reducing greenhouse gas emissions but also contribute significantly to the economy by creating jobs in the manufacturing and installation sectors. The growth in renewable energy usage boosts local economies through increased investment in technology and infrastructure.', metadata=None), user_query_timestamp='2021-09-01T12:00:00Z', assistant_response_timestamp='2021-09-01T12:00:01Z', metadata=None, vector=None), DialogTurn(id='3d208368-2798-43fa-b645-6cf0c9f0daad', user_id=None, session_id=None, order=None, user_query=UserQuery(query_str='How do solar panels impact the environment?', metadata=None), assistant_response=AssistantResponse(response_str='Solar panels convert sunlight into electricity by allowing photons, or light particles, to knock electrons free from atoms, generating a flow of electricity. Solar panels are a type of renewable energy technology that has been found to have a significant positive effect on the environment by reducing the reliance on fossil fuels.', metadata=None), user_query_timestamp='2021-09-01T12:00:02Z', assistant_response_timestamp='2021-09-01T12:00:03Z', metadata=None, vector=None)]\n"
     ]
    }
   ],
   "source": [
    "# create DialogTurn objects\n",
    "\n",
    "from lightrag.core.types import DialogTurn, UserQuery, AssistantResponse\n",
    "\n",
    "dialog_turns = [\n",
    "    DialogTurn(\n",
    "        user_query=UserQuery(query_str=turn[\"user\"]),\n",
    "        assistant_response=AssistantResponse(response_str=turn[\"system\"]),\n",
    "        user_query_timestamp=turn[\"user_time\"],\n",
    "        assistant_response_timestamp=turn[\"system_time\"],\n",
    "    )\n",
    "    for turn in turns\n",
    "]\n",
    "print(dialog_turns)"
   ]
  },
  {
   "cell_type": "markdown",
   "metadata": {},
   "source": [
    "## Demonstrating the data pipleine creation and application\n",
    "\n"
   ]
  },
  {
   "cell_type": "code",
   "execution_count": 4,
   "metadata": {},
   "outputs": [
    {
     "name": "stdout",
     "output_type": "stream",
     "text": [
      "Sequential(\n",
      "  (0): DocumentSplitter(split_by=word, split_length=50, split_overlap=10)\n",
      "  (1): ToEmbeddings(\n",
      "    batch_size=2\n",
      "    (embedder): Embedder(\n",
      "      model_kwargs={'model': 'text-embedding-3-small', 'dimensions': 256, 'encoding_format': 'float'}, \n",
      "      (model_client): OpenAIClient()\n",
      "    )\n",
      "    (batch_embedder): BatchEmbedder(\n",
      "      (embedder): Embedder(\n",
      "        model_kwargs={'model': 'text-embedding-3-small', 'dimensions': 256, 'encoding_format': 'float'}, \n",
      "        (model_client): OpenAIClient()\n",
      "      )\n",
      "    )\n",
      "  )\n",
      ")\n"
     ]
    }
   ],
   "source": [
    "# prepare the data pipeline\n",
    "\n",
    "from lightrag.core.embedder import Embedder \n",
    "from lightrag.core.types import ModelClientType\n",
    "from lightrag.components.data_process import DocumentSplitter, ToEmbeddings\n",
    "from lightrag.core.component import Sequential\n",
    "\n",
    "\n",
    "model_kwargs = {\n",
    "    \"model\": \"text-embedding-3-small\",\n",
    "    \"dimensions\": 256,\n",
    "    \"encoding_format\": \"float\",\n",
    "}\n",
    "\n",
    "splitter_config = {\n",
    "    \"split_by\": \"word\",\n",
    "    \"split_length\": 50,\n",
    "    \"split_overlap\": 10\n",
    "}\n",
    "\n",
    "splitter = DocumentSplitter(**splitter_config)\n",
    "embedder = Embedder(model_client =ModelClientType.OPENAI(), model_kwargs=model_kwargs)\n",
    "embedder_transformer = ToEmbeddings(embedder, batch_size=2)\n",
    "data_transformer = Sequential(splitter, embedder_transformer)\n",
    "print(data_transformer)"
   ]
  },
  {
   "cell_type": "code",
   "execution_count": 5,
   "metadata": {},
   "outputs": [],
   "source": [
    "# prepare mapping functions to map the data to Document object for the pipeline\n",
    "\n",
    "from typing import Dict\n",
    "# mapping function for org_documents\n",
    "def map_to_document(doc: Dict) -> Document:\n",
    "    return Document(text=doc['content'], meta_data={'title': doc['title']})\n",
    "\n",
    "def map_dialogturn_to_document(turn: DialogTurn) -> Document:\n",
    "    # it can be important to keep the original data's id\n",
    "    return Document(id=turn.id, text=turn.user_query.query_str + ' ' + turn.assistant_response.response_str)"
   ]
  },
  {
   "cell_type": "code",
   "execution_count": 6,
   "metadata": {},
   "outputs": [
    {
     "name": "stdout",
     "output_type": "stream",
     "text": [
      "[Document(id=0ec229c8-1396-43d6-999b-8816fb5337c6, text='What are the benefits of renewable energy? I can see you are interested in renewable energy. Renewab...', meta_data=None, vector=[], parent_doc_id=None, order=None, score=None), Document(id=3d208368-2798-43fa-b645-6cf0c9f0daad, text='How do solar panels impact the environment? Solar panels convert sunlight into electricity by allowi...', meta_data=None, vector=[], parent_doc_id=None, order=None, score=None)]\n"
     ]
    },
    {
     "name": "stderr",
     "output_type": "stream",
     "text": [
      "Splitting documents: 100%|██████████| 2/2 [00:00<00:00, 1746.54it/s]\n",
      "Batch embedding documents: 100%|██████████| 2/2 [00:00<00:00,  3.56it/s]\n",
      "Adding embeddings to documents from batch: 2it [00:00, 36472.21it/s]"
     ]
    },
    {
     "name": "stdout",
     "output_type": "stream",
     "text": [
      "[Document(id=9f47b6e0-c28c-47df-ab70-c030891abc9f, text='What are the benefits of renewable energy? I can see you are interested in renewable energy. Renewab...', meta_data=None, vector='len: 256', parent_doc_id=0ec229c8-1396-43d6-999b-8816fb5337c6, order=0, score=None), Document(id=09a21701-fbfd-48de-83e7-1df721c92138, text='and installation sectors. The growth in renewable energy usage boosts local economies through increa...', meta_data=None, vector='len: 256', parent_doc_id=0ec229c8-1396-43d6-999b-8816fb5337c6, order=1, score=None), Document(id=bbe90fc0-7550-4447-b56e-e98cb6f96d3a, text='How do solar panels impact the environment? Solar panels convert sunlight into electricity by allowi...', meta_data=None, vector='len: 256', parent_doc_id=3d208368-2798-43fa-b645-6cf0c9f0daad, order=0, score=None), Document(id=affa5f3e-4f38-4427-a7e7-69a255653ead, text='has been found to have a significant positive effect on the environment by reducing the reliance on ...', meta_data=None, vector='len: 256', parent_doc_id=3d208368-2798-43fa-b645-6cf0c9f0daad, order=1, score=None)]\n"
     ]
    },
    {
     "name": "stderr",
     "output_type": "stream",
     "text": [
      "\n"
     ]
    }
   ],
   "source": [
    "# apply data transformation to the dialog_turns\n",
    "\n",
    "dialog_turns_as_documents = [map_dialogturn_to_document(turn) for turn in dialog_turns]\n",
    "print(dialog_turns_as_documents)\n",
    "\n",
    "# apply data transformation to the documents\n",
    "output = data_transformer(dialog_turns_as_documents)\n",
    "print(output)"
   ]
  },
  {
   "cell_type": "code",
   "execution_count": 7,
   "metadata": {},
   "outputs": [
    {
     "name": "stderr",
     "output_type": "stream",
     "text": [
      "Splitting documents: 100%|██████████| 4/4 [00:00<00:00, 3968.12it/s]\n",
      "Batch embedding documents: 100%|██████████| 3/3 [00:00<00:00,  5.80it/s]\n",
      "Adding embeddings to documents from batch: 3it [00:00, 9546.97it/s]"
     ]
    },
    {
     "name": "stdout",
     "output_type": "stream",
     "text": [
      "[Document(id=25379585-a84c-4ec4-9045-2dcd5aee0c2f, text='Renewable energy technologies not only help in reducing greenhouse gas emissions but also contribute...', meta_data={'title': 'The Impact of Renewable Energy on the Economy'}, vector='len: 256', parent_doc_id=de5e15e3-d63d-4ebe-9e8f-24e6a63bb583, order=0, score=None), Document(id=f6b6351b-67b8-4689-957b-6f7fe3421605, text='Solar panels convert sunlight into electricity by allowing photons, or light particles, to knock ele...', meta_data={'title': 'Understanding Solar Panels'}, vector='len: 256', parent_doc_id=3458c575-5d72-455f-ac46-a4e4ff7c4938, order=0, score=None), Document(id=98aad464-29c3-4d47-81bc-aff69ab3df49, text='positive effect on the environment by reducing the reliance on fossil fuels.', meta_data={'title': 'Understanding Solar Panels'}, vector='len: 256', parent_doc_id=3458c575-5d72-455f-ac46-a4e4ff7c4938, order=1, score=None), Document(id=6975f2a0-44c7-454e-9485-8983d4039e70, text='While solar energy offers substantial environmental benefits, such as reducing carbon footprints and...', meta_data={'title': 'Pros and Cons of Solar Energy'}, vector='len: 256', parent_doc_id=4ee9f22e-8ffb-4efb-a2a2-4179f3c6be1f, order=0, score=None), Document(id=1c5865d3-7f40-41b3-aacc-75870ccc9c9f, text='Renewable energy sources like wind, solar, and hydro power play a crucial role in combating climate ...', meta_data={'title': 'Renewable Energy and Its Effects'}, vector='len: 256', parent_doc_id=d311321b-9429-463a-b883-c575529e5294, order=0, score=None)]\n"
     ]
    },
    {
     "name": "stderr",
     "output_type": "stream",
     "text": [
      "\n"
     ]
    }
   ],
   "source": [
    "# apply data transformation to the documents\n",
    "org_documents_as_documents = [map_to_document(doc) for doc in org_documents]\n",
    "\n",
    "# apply data transformation to the documents\n",
    "output = data_transformer(org_documents_as_documents)\n",
    "print(output)"
   ]
  },
  {
   "cell_type": "markdown",
   "metadata": {},
   "source": [
    "## Use LocalDB to help with the in-memory CRUD, and more importantly to keep track of data pipeline and its transformed data and with data storage and restore"
   ]
  },
  {
   "cell_type": "code",
   "execution_count": 8,
   "metadata": {},
   "outputs": [
    {
     "name": "stdout",
     "output_type": "stream",
     "text": [
      "LocalDB(name='dialog_turns', items=[], transformed_items={}, transformer_setups={}, mapper_setups={})\n",
      "LocalDB(name='dialog_turns', items=[DialogTurn(id='0ec229c8-1396-43d6-999b-8816fb5337c6', user_id=None, session_id=None, order=None, user_query=UserQuery(query_str='What are the benefits of renewable energy?', metadata=None), assistant_response=AssistantResponse(response_str='I can see you are interested in renewable energy. Renewable energy technologies not only help in reducing greenhouse gas emissions but also contribute significantly to the economy by creating jobs in the manufacturing and installation sectors. The growth in renewable energy usage boosts local economies through increased investment in technology and infrastructure.', metadata=None), user_query_timestamp='2021-09-01T12:00:00Z', assistant_response_timestamp='2021-09-01T12:00:01Z', metadata=None, vector=None), DialogTurn(id='3d208368-2798-43fa-b645-6cf0c9f0daad', user_id=None, session_id=None, order=None, user_query=UserQuery(query_str='How do solar panels impact the environment?', metadata=None), assistant_response=AssistantResponse(response_str='Solar panels convert sunlight into electricity by allowing photons, or light particles, to knock electrons free from atoms, generating a flow of electricity. Solar panels are a type of renewable energy technology that has been found to have a significant positive effect on the environment by reducing the reliance on fossil fuels.', metadata=None), user_query_timestamp='2021-09-01T12:00:02Z', assistant_response_timestamp='2021-09-01T12:00:03Z', metadata=None, vector=None)], transformed_items={}, transformer_setups={}, mapper_setups={})\n"
     ]
    }
   ],
   "source": [
    "# create a db for the dialog_turns\n",
    "from lightrag.core.db import LocalDB\n",
    "\n",
    "dialog_turn_db = LocalDB('dialog_turns')\n",
    "print(dialog_turn_db)\n",
    "\n",
    "dialog_turn_db.load(dialog_turns)\n",
    "print(dialog_turn_db)"
   ]
  },
  {
   "cell_type": "code",
   "execution_count": 9,
   "metadata": {},
   "outputs": [
    {
     "name": "stderr",
     "output_type": "stream",
     "text": [
      "Splitting documents: 100%|██████████| 2/2 [00:00<00:00, 2169.28it/s]\n",
      "Batch embedding documents: 100%|██████████| 2/2 [00:00<00:00,  4.81it/s]\n",
      "Adding embeddings to documents from batch: 2it [00:00, 14169.95it/s]"
     ]
    },
    {
     "name": "stdout",
     "output_type": "stream",
     "text": [
      "[Document(id=8a818f1a-a3b4-4e9b-b70e-6e3550849610, text='What are the benefits of renewable energy? I can see you are interested in renewable energy. Renewab...', meta_data=None, vector='len: 256', parent_doc_id=0ec229c8-1396-43d6-999b-8816fb5337c6, order=0, score=None), Document(id=7d841c77-2aba-4b42-94ee-82949821799f, text='and installation sectors. The growth in renewable energy usage boosts local economies through increa...', meta_data=None, vector='len: 256', parent_doc_id=0ec229c8-1396-43d6-999b-8816fb5337c6, order=1, score=None), Document(id=72cce418-94bf-470c-bf52-f3a9d9a463db, text='How do solar panels impact the environment? Solar panels convert sunlight into electricity by allowi...', meta_data=None, vector='len: 256', parent_doc_id=3d208368-2798-43fa-b645-6cf0c9f0daad, order=0, score=None), Document(id=5c1bbea0-456c-4a86-94c9-a4e9cfd800f0, text='has been found to have a significant positive effect on the environment by reducing the reliance on ...', meta_data=None, vector='len: 256', parent_doc_id=3d208368-2798-43fa-b645-6cf0c9f0daad, order=1, score=None)]\n",
      "Sequential(\n",
      "  (0): DocumentSplitter(split_by=word, split_length=50, split_overlap=10)\n",
      "  (1): ToEmbeddings(\n",
      "    batch_size=2\n",
      "    (embedder): Embedder(\n",
      "      model_kwargs={'model': 'text-embedding-3-small', 'dimensions': 256, 'encoding_format': 'float'}, \n",
      "      (model_client): OpenAIClient()\n",
      "    )\n",
      "    (batch_embedder): BatchEmbedder(\n",
      "      (embedder): Embedder(\n",
      "        model_kwargs={'model': 'text-embedding-3-small', 'dimensions': 256, 'encoding_format': 'float'}, \n",
      "        (model_client): OpenAIClient()\n",
      "      )\n",
      "    )\n",
      "  )\n",
      ")\n",
      "<function map_dialogturn_to_document at 0x137126020>\n"
     ]
    },
    {
     "name": "stderr",
     "output_type": "stream",
     "text": [
      "\n"
     ]
    }
   ],
   "source": [
    "# apply data transformation to the dialog_turn_db\n",
    "\n",
    "key = \"split_and_embed\"\n",
    "dialog_turn_db.transform(data_transformer, map_fn=map_dialogturn_to_document, key=key)\n",
    "print(dialog_turn_db.transformed_items[key])\n",
    "print(dialog_turn_db.transformer_setups[key])\n",
    "print(dialog_turn_db.mapper_setups[key])"
   ]
  },
  {
   "cell_type": "code",
   "execution_count": 10,
   "metadata": {},
   "outputs": [
    {
     "name": "stdout",
     "output_type": "stream",
     "text": [
      "LocalDB(name='dialog_turns', items=[DialogTurn(id='0ec229c8-1396-43d6-999b-8816fb5337c6', user_id=None, session_id=None, order=None, user_query=UserQuery(query_str='What are the benefits of renewable energy?', metadata=None), assistant_response=AssistantResponse(response_str='I can see you are interested in renewable energy. Renewable energy technologies not only help in reducing greenhouse gas emissions but also contribute significantly to the economy by creating jobs in the manufacturing and installation sectors. The growth in renewable energy usage boosts local economies through increased investment in technology and infrastructure.', metadata=None), user_query_timestamp='2021-09-01T12:00:00Z', assistant_response_timestamp='2021-09-01T12:00:01Z', metadata=None, vector=None), DialogTurn(id='3d208368-2798-43fa-b645-6cf0c9f0daad', user_id=None, session_id=None, order=None, user_query=UserQuery(query_str='How do solar panels impact the environment?', metadata=None), assistant_response=AssistantResponse(response_str='Solar panels convert sunlight into electricity by allowing photons, or light particles, to knock electrons free from atoms, generating a flow of electricity. Solar panels are a type of renewable energy technology that has been found to have a significant positive effect on the environment by reducing the reliance on fossil fuels.', metadata=None), user_query_timestamp='2021-09-01T12:00:02Z', assistant_response_timestamp='2021-09-01T12:00:03Z', metadata=None, vector=None)], transformed_items={'split_and_embed': [Document(id=8a818f1a-a3b4-4e9b-b70e-6e3550849610, text='What are the benefits of renewable energy? I can see you are interested in renewable energy. Renewab...', meta_data=None, vector='len: 256', parent_doc_id=0ec229c8-1396-43d6-999b-8816fb5337c6, order=0, score=None), Document(id=7d841c77-2aba-4b42-94ee-82949821799f, text='and installation sectors. The growth in renewable energy usage boosts local economies through increa...', meta_data=None, vector='len: 256', parent_doc_id=0ec229c8-1396-43d6-999b-8816fb5337c6, order=1, score=None), Document(id=72cce418-94bf-470c-bf52-f3a9d9a463db, text='How do solar panels impact the environment? Solar panels convert sunlight into electricity by allowi...', meta_data=None, vector='len: 256', parent_doc_id=3d208368-2798-43fa-b645-6cf0c9f0daad, order=0, score=None), Document(id=5c1bbea0-456c-4a86-94c9-a4e9cfd800f0, text='has been found to have a significant positive effect on the environment by reducing the reliance on ...', meta_data=None, vector='len: 256', parent_doc_id=3d208368-2798-43fa-b645-6cf0c9f0daad, order=1, score=None)]}, transformer_setups={'split_and_embed': Sequential(\n",
      "  (0): DocumentSplitter(split_by=word, split_length=50, split_overlap=10)\n",
      "  (1): ToEmbeddings(\n",
      "    batch_size=2\n",
      "    (embedder): Embedder(\n",
      "      model_kwargs={'model': 'text-embedding-3-small', 'dimensions': 256, 'encoding_format': 'float'}, \n",
      "      (model_client): OpenAIClient()\n",
      "    )\n",
      "    (batch_embedder): BatchEmbedder(\n",
      "      (embedder): Embedder(\n",
      "        model_kwargs={'model': 'text-embedding-3-small', 'dimensions': 256, 'encoding_format': 'float'}, \n",
      "        (model_client): OpenAIClient()\n",
      "      )\n",
      "    )\n",
      "  )\n",
      ")}, mapper_setups={'split_and_embed': <function map_dialogturn_to_document at 0x137126020>})\n"
     ]
    }
   ],
   "source": [
    "# save the state of the dialog_turn_db\n",
    "dialog_turn_db.save_state('dialog_turn_db_state.pkl')\n",
    "\n",
    "print(dialog_turn_db)"
   ]
  },
  {
   "cell_type": "code",
   "execution_count": 11,
   "metadata": {},
   "outputs": [
    {
     "name": "stdout",
     "output_type": "stream",
     "text": [
      "LocalDB(name='dialog_turns', items=[DialogTurn(id='0ec229c8-1396-43d6-999b-8816fb5337c6', user_id=None, session_id=None, order=None, user_query=UserQuery(query_str='What are the benefits of renewable energy?', metadata=None), assistant_response=AssistantResponse(response_str='I can see you are interested in renewable energy. Renewable energy technologies not only help in reducing greenhouse gas emissions but also contribute significantly to the economy by creating jobs in the manufacturing and installation sectors. The growth in renewable energy usage boosts local economies through increased investment in technology and infrastructure.', metadata=None), user_query_timestamp='2021-09-01T12:00:00Z', assistant_response_timestamp='2021-09-01T12:00:01Z', metadata=None, vector=None), DialogTurn(id='3d208368-2798-43fa-b645-6cf0c9f0daad', user_id=None, session_id=None, order=None, user_query=UserQuery(query_str='How do solar panels impact the environment?', metadata=None), assistant_response=AssistantResponse(response_str='Solar panels convert sunlight into electricity by allowing photons, or light particles, to knock electrons free from atoms, generating a flow of electricity. Solar panels are a type of renewable energy technology that has been found to have a significant positive effect on the environment by reducing the reliance on fossil fuels.', metadata=None), user_query_timestamp='2021-09-01T12:00:02Z', assistant_response_timestamp='2021-09-01T12:00:03Z', metadata=None, vector=None)], transformed_items={'split_and_embed': [Document(id=8a818f1a-a3b4-4e9b-b70e-6e3550849610, text='What are the benefits of renewable energy? I can see you are interested in renewable energy. Renewab...', meta_data=None, vector='len: 256', parent_doc_id=0ec229c8-1396-43d6-999b-8816fb5337c6, order=0, score=None), Document(id=7d841c77-2aba-4b42-94ee-82949821799f, text='and installation sectors. The growth in renewable energy usage boosts local economies through increa...', meta_data=None, vector='len: 256', parent_doc_id=0ec229c8-1396-43d6-999b-8816fb5337c6, order=1, score=None), Document(id=72cce418-94bf-470c-bf52-f3a9d9a463db, text='How do solar panels impact the environment? Solar panels convert sunlight into electricity by allowi...', meta_data=None, vector='len: 256', parent_doc_id=3d208368-2798-43fa-b645-6cf0c9f0daad, order=0, score=None), Document(id=5c1bbea0-456c-4a86-94c9-a4e9cfd800f0, text='has been found to have a significant positive effect on the environment by reducing the reliance on ...', meta_data=None, vector='len: 256', parent_doc_id=3d208368-2798-43fa-b645-6cf0c9f0daad, order=1, score=None)]}, transformer_setups={'split_and_embed': Sequential(\n",
      "  (0): DocumentSplitter(split_by=word, split_length=50, split_overlap=10)\n",
      "  (1): ToEmbeddings(\n",
      "    batch_size=2\n",
      "    (embedder): Embedder(\n",
      "      model_kwargs={'model': 'text-embedding-3-small', 'dimensions': 256, 'encoding_format': 'float'}, \n",
      "      (model_client): OpenAIClient()\n",
      "    )\n",
      "    (batch_embedder): BatchEmbedder(\n",
      "      (embedder): Embedder(\n",
      "        model_kwargs={'model': 'text-embedding-3-small', 'dimensions': 256, 'encoding_format': 'float'}, \n",
      "        (model_client): OpenAIClient()\n",
      "      )\n",
      "    )\n",
      "  )\n",
      ")}, mapper_setups={'split_and_embed': <function map_dialogturn_to_document at 0x137126020>})\n"
     ]
    }
   ],
   "source": [
    "# restore the state of the restored_dialog_turn_db\n",
    "restored_dialog_turn_db = LocalDB.load_state('dialog_turn_db_state.pkl')\n",
    "print(restored_dialog_turn_db)\n"
   ]
  },
  {
   "cell_type": "code",
   "execution_count": 12,
   "metadata": {},
   "outputs": [
    {
     "name": "stdout",
     "output_type": "stream",
     "text": [
      "True\n"
     ]
    }
   ],
   "source": [
    "# check if the restored_dialog_turn_db is the same as the dialog_turn_db\n",
    "\n",
    "print(str(dialog_turn_db.__dict__) == str(restored_dialog_turn_db.__dict__))"
   ]
  },
  {
   "cell_type": "markdown",
   "metadata": {},
   "source": [
    "# CRUD operations\n",
    "\n",
    "We will use a real user conversation by adding a generator"
   ]
  },
  {
   "cell_type": "code",
   "execution_count": 13,
   "metadata": {},
   "outputs": [
    {
     "name": "stdout",
     "output_type": "stream",
     "text": [
      "Generator(\n",
      "  model_kwargs={'model': 'gpt-3.5-turbo'}, \n",
      "  (prompt): Prompt(\n",
      "    template: \n",
      "    {% if task_desc_str or output_format_str or tools_str or examples_str or chat_history_str or context_str or steps_str %}\n",
      "    <SYS>\n",
      "    {% endif %}\n",
      "    {# task desc #}\n",
      "    {% if task_desc_str %}\n",
      "    {{task_desc_str}}\n",
      "    {% endif %}\n",
      "    {# output format #}\n",
      "    {% if output_format_str %}\n",
      "    <OUTPUT_FORMAT>\n",
      "    {{output_format_str}}\n",
      "    </OUTPUT_FORMAT>\n",
      "    {% endif %}\n",
      "    {# tools #}\n",
      "    {% if tools_str %}\n",
      "    <TOOLS>\n",
      "    {{tools_str}}\n",
      "    </TOOLS>\n",
      "    {% endif %}\n",
      "    {# example #}\n",
      "    {% if examples_str %}\n",
      "    <EXAMPLES>\n",
      "    {{examples_str}}\n",
      "    </EXAMPLES>\n",
      "    {% endif %}\n",
      "    {# chat history #}\n",
      "    {% if chat_history_str %}\n",
      "    <CHAT_HISTORY>\n",
      "    {{chat_history_str}}\n",
      "    </CHAT_HISTORY>\n",
      "    {% endif %}\n",
      "    {#contex#}\n",
      "    {% if context_str %}\n",
      "    <CONTEXT>\n",
      "    {{context_str}}\n",
      "    </CONTEXT>\n",
      "    {% endif %}\n",
      "    {# steps #}\n",
      "    {% if steps_str %}\n",
      "    <STEPS>\n",
      "    {{steps_str}}\n",
      "    </STEPS>\n",
      "    {% endif %}\n",
      "    {% if task_desc_str or output_format_str or tools_str or examples_str or chat_history_str or context_str or steps_str %}\n",
      "    </SYS>\n",
      "    {% endif %}\n",
      "    {% if input_str %}\n",
      "    <User>\n",
      "    {{input_str}}\n",
      "    </User>\n",
      "    {% endif %}\n",
      "    You:\n",
      "    , prompt_variables: ['input_str', 'steps_str', 'tools_str', 'examples_str', 'task_desc_str', 'chat_history_str', 'output_format_str', 'context_str']\n",
      "  )\n",
      "  (model_client): OpenAIClient()\n",
      ")\n"
     ]
    }
   ],
   "source": [
    "# prepare the generator for the dialog turns \n",
    "\n",
    "from lightrag.core import Generator\n",
    "\n",
    "llm_kwargs = {\n",
    "    \"model\": \"gpt-3.5-turbo\"\n",
    "}\n",
    "\n",
    "# we will use the default prompt, and using input_str and chat_history_str for the final prompt\n",
    "generator = Generator(model_client = ModelClientType.OPENAI(), model_kwargs=llm_kwargs)\n",
    "print(generator)\n",
    "\n"
   ]
  },
  {
   "cell_type": "code",
   "execution_count": 14,
   "metadata": {},
   "outputs": [
    {
     "name": "stdout",
     "output_type": "stream",
     "text": [
      "Prompt:\n",
      "\n",
      "<SYS>\n",
      "<CHAT_HISTORY>\n",
      "id: \"0ec229c8-1396-43d6-999b-8816fb5337c6\"\n",
      "user_id: null\n",
      "session_id: null\n",
      "order: null\n",
      "user_query: \n",
      "  metadata: null\n",
      "  query_str: What are the benefits of renewable energy?\n",
      "assistant_response: \n",
      "  metadata: null\n",
      "  response_str: I can see you are interested in renewable energy. Renewable energy technologies\n",
      "    not only help in reducing greenhouse gas emissions but also contribute significantly\n",
      "    to the economy by creating jobs in the manufacturing and installation sectors. The\n",
      "    growth in renewable energy usage boosts local economies through increased investment\n",
      "    in technology and infrastructure\n",
      "user_query_timestamp: \"2021-09-01T12:00:00Z\"\n",
      "assistant_response_timestamp: \"2021-09-01T12:00:01Z\"\n",
      "metadata: null\n",
      "vector: null\n",
      "_________\n",
      "id: \"3d208368-2798-43fa-b645-6cf0c9f0daad\"\n",
      "user_id: null\n",
      "session_id: null\n",
      "order: null\n",
      "user_query: \n",
      "  metadata: null\n",
      "  query_str: How do solar panels impact the environment?\n",
      "assistant_response: \n",
      "  metadata: null\n",
      "  response_str: Solar panels convert sunlight into electricity by allowing photons,\n",
      "    or light particles, to knock electrons free from atoms, generating a flow of electricity.\n",
      "    Solar panels are a type of renewable energy technology that has been found to have\n",
      "    a significant positive effect on the environment by reducing the reliance on fossil\n",
      "    fuels\n",
      "user_query_timestamp: \"2021-09-01T12:00:02Z\"\n",
      "assistant_response_timestamp: \"2021-09-01T12:00:03Z\"\n",
      "metadata: null\n",
      "vector: null\n",
      "</CHAT_HISTORY>\n",
      "</SYS>\n",
      "<User>\n",
      "What are the benefits of renewable energy? Did I ask this before?\n",
      "</User>\n",
      "You:\n",
      "\n",
      "None\n"
     ]
    }
   ],
   "source": [
    "# lets see how the prompt will be if we pass the input_str and chat_history_str\n",
    "input_str = \"What are the benefits of renewable energy? Did I ask this before?\" \n",
    "\n",
    "def format_chat_history_str(turns: list) -> str:\n",
    "    chat_history_str = []\n",
    "    for turn in turns:\n",
    "        chat_history_str.append(turn.to_yaml()) # format as yaml\n",
    "    # join with newline\n",
    "    chat_history_str = '\\n_________\\n'.join(chat_history_str)\n",
    "    return chat_history_str\n",
    "\n",
    "chat_history_str = format_chat_history_str(dialog_turns)\n",
    "print(generator.print_prompt(input_str=input_str, chat_history_str=chat_history_str))"
   ]
  },
  {
   "cell_type": "code",
   "execution_count": 15,
   "metadata": {},
   "outputs": [
    {
     "name": "stdout",
     "output_type": "stream",
     "text": [
      "Prompt:\n",
      "\n",
      "<SYS>\n",
      "<CHAT_HISTORY>\n",
      "user_query: \n",
      "  metadata: null\n",
      "  query_str: What are the benefits of renewable energy?\n",
      "assistant_response: \n",
      "  metadata: null\n",
      "  response_str: I can see you are interested in renewable energy. Renewable energy technologies\n",
      "    not only help in reducing greenhouse gas emissions but also contribute significantly\n",
      "    to the economy by creating jobs in the manufacturing and installation sectors. The\n",
      "    growth in renewable energy usage boosts local economies through increased investment\n",
      "    in technology and infrastructure\n",
      "</CHAT_HISTORY>\n",
      "</SYS>\n",
      "<User>\n",
      "What are the benefits of renewable energy? Did I ask this before?\n",
      "</User>\n",
      "You:\n",
      "\n",
      "None\n"
     ]
    }
   ],
   "source": [
    "# as we have quite a bit of empty fields, lets exclude them \n",
    "from typing import List\n",
    "\n",
    "input_str = \"What are the benefits of renewable energy? Did I ask this before?\" \n",
    "\n",
    "def format_chat_history_str(turns: List[DialogTurn]) -> str:\n",
    "    chat_history_str = []\n",
    "    for turn in turns:\n",
    "        chat_history_str.append(\n",
    "                    turn.to_yaml(\n",
    "                        exclude=[\n",
    "                            \"id\",\n",
    "                            \"user_id\",\n",
    "                            \"session_id\",\n",
    "                            \"user_query_timestamp\",\n",
    "                            \"assistant_response_timestamp\",\n",
    "                            \"order\",\n",
    "                            \"metadata\",\n",
    "                            \"vector\",\n",
    "                        ],\n",
    "                    )\n",
    "                )  \n",
    "    chat_history_str = '\\n_________\\n'.join(chat_history_str)\n",
    "    return chat_history_str\n",
    "\n",
    "chat_history_str = format_chat_history_str(dialog_turn_db.items[0:1])\n",
    "print(generator.print_prompt(input_str=input_str, chat_history_str=chat_history_str))"
   ]
  },
  {
   "cell_type": "code",
   "execution_count": 16,
   "metadata": {},
   "outputs": [
    {
     "name": "stdout",
     "output_type": "stream",
     "text": [
      "2 4\n"
     ]
    }
   ],
   "source": [
    "print(dialog_turn_db.length, len(dialog_turn_db.transformed_items[key]))"
   ]
  },
  {
   "cell_type": "code",
   "execution_count": 17,
   "metadata": {},
   "outputs": [
    {
     "name": "stdout",
     "output_type": "stream",
     "text": [
      "GeneratorOutput(data='Yes, you asked about the benefits of renewable energy before. Renewable energy technologies not only help in reducing greenhouse gas emissions but also contribute significantly to the economy by creating jobs in the manufacturing and installation sectors. The growth in renewable energy usage boosts local economies through increased investment in technology and infrastructure.', error=None, usage=None, raw_response='Yes, you asked about the benefits of renewable energy before. Renewable energy technologies not only help in reducing greenhouse gas emissions but also contribute significantly to the economy by creating jobs in the manufacturing and installation sectors. The growth in renewable energy usage boosts local economies through increased investment in technology and infrastructure.')\n"
     ]
    }
   ],
   "source": [
    "prompt_kwargs = {\"input_str\": input_str, \"chat_history_str\": chat_history_str}\n",
    "\n",
    "response = generator(prompt_kwargs=prompt_kwargs)\n",
    "print(response)"
   ]
  },
  {
   "cell_type": "code",
   "execution_count": 18,
   "metadata": {},
   "outputs": [
    {
     "name": "stderr",
     "output_type": "stream",
     "text": [
      "Splitting documents: 100%|██████████| 1/1 [00:00<00:00, 1053.58it/s]\n",
      "Batch embedding documents: 100%|██████████| 1/1 [00:00<00:00,  4.04it/s]\n",
      "Adding embeddings to documents from batch: 1it [00:00, 5349.88it/s]\n"
     ]
    }
   ],
   "source": [
    "# create a turn from the last dialog\n",
    "\n",
    "new_turn = DialogTurn(\n",
    "    user_query=UserQuery(query_str=input_str),\n",
    "    assistant_response=AssistantResponse(response_str=response.data),\n",
    ")\n",
    "dialog_turn_db.add(new_turn, apply_transformer=True)"
   ]
  },
  {
   "cell_type": "code",
   "execution_count": 19,
   "metadata": {},
   "outputs": [
    {
     "name": "stdout",
     "output_type": "stream",
     "text": [
      "3 6\n"
     ]
    }
   ],
   "source": [
    "print(dialog_turn_db.length, len(dialog_turn_db.transformed_items[key]))"
   ]
  },
  {
   "cell_type": "code",
   "execution_count": 20,
   "metadata": {},
   "outputs": [
    {
     "name": "stdout",
     "output_type": "stream",
     "text": [
      "[Document(id=64987b2b-b6c6-4eb4-9122-02448e3fd394, text='What are the benefits of renewable energy? I can see you are interested in renewable energy. Renewab...', meta_data=None, vector='len: 256', parent_doc_id=f2eddc77-4667-43f5-87e0-fd11f12958b3, order=0, score=None), Document(id=9a424d4c-4bd0-48ce-aba9-7a4f86892556, text='and installation sectors. The growth in renewable energy usage boosts local economies through increa...', meta_data=None, vector='len: 256', parent_doc_id=f2eddc77-4667-43f5-87e0-fd11f12958b3, order=1, score=None), Document(id=45efa517-8e52-4780-bdbd-2329ffa8d4b6, text='How do solar panels impact the environment? Solar panels convert sunlight into electricity by allowi...', meta_data=None, vector='len: 256', parent_doc_id=b2dbdf2f-f513-493d-aaa8-c77c98ac260f, order=0, score=None), Document(id=bc0ff7f6-27cc-4e24-8c3e-9435ed755e20, text='has been found to have a significant positive effect on the environment by reducing the reliance on ...', meta_data=None, vector='len: 256', parent_doc_id=b2dbdf2f-f513-493d-aaa8-c77c98ac260f, order=1, score=None), Document(id=8e8ed957-9da6-4344-89d6-9361759db8d9, text='What are the benefits of renewable energy? Did I ask this before? Yes, you did ask about the benefit...', meta_data=None, vector='len: 256', parent_doc_id=45bc5469-0b82-4161-b1a9-aefce25c9029, order=0, score=None), Document(id=d54a9567-30b6-41a2-a344-25d22a327176, text='economy by creating jobs in the manufacturing and installation sectors. The growth in renewable ener...', meta_data=None, vector='len: 256', parent_doc_id=45bc5469-0b82-4161-b1a9-aefce25c9029, order=1, score=None)]\n",
      "45bc5469-0b82-4161-b1a9-aefce25c9029\n",
      "Document(id=8e8ed957-9da6-4344-89d6-9361759db8d9, text='What are the benefits of renewable energy? Did I ask this before? Yes, you did ask about the benefit...', meta_data=None, vector='len: 256', parent_doc_id=45bc5469-0b82-4161-b1a9-aefce25c9029, order=0, score=None)\n",
      "What are the benefits of renewable energy? Did I ask this before? Yes, you did ask about the benefits of renewable energy before. Renewable energy technologies not only help in reducing greenhouse gas emissions but also contribute significantly to the economy by creating jobs in the manufacturing and installation sectors. \n",
      "Document(id=d54a9567-30b6-41a2-a344-25d22a327176, text='economy by creating jobs in the manufacturing and installation sectors. The growth in renewable ener...', meta_data=None, vector='len: 256', parent_doc_id=45bc5469-0b82-4161-b1a9-aefce25c9029, order=1, score=None)\n",
      "economy by creating jobs in the manufacturing and installation sectors. The growth in renewable energy usage boosts local economies through increased investment in technology and infrastructure.\n"
     ]
    }
   ],
   "source": [
    "print(dialog_turn_db.transformed_items[key])\n",
    "\n",
    "# we will find them by comparing the id of new_turn to the parent_doc_id in the transformed_items\n",
    "new_turn_id = new_turn.id\n",
    "print(new_turn_id)\n",
    "for item in dialog_turn_db.transformed_items[key]:\n",
    "    if item.parent_doc_id == new_turn_id:\n",
    "        print(item)\n",
    "        print(item.text)"
   ]
  },
  {
   "cell_type": "code",
   "execution_count": null,
   "metadata": {},
   "outputs": [],
   "source": []
  },
  {
   "cell_type": "markdown",
   "metadata": {},
   "source": [
    "### Loading and CRUD operations on documents"
   ]
  },
  {
   "cell_type": "code",
   "execution_count": 5,
   "metadata": {},
   "outputs": [
    {
     "name": "stdout",
     "output_type": "stream",
     "text": [
      "LocalDB(name=None, items=[Document(id=6583698e-c676-4966-a0a3-91a0f3de3796, text='Renewable energy technologies not only help in reducing greenhouse gas emissions but also contribute...', meta_data={'title': 'The Impact of Renewable Energy on the Economy'}, vector=[], parent_doc_id=None, order=None, score=None), Document(id=fab80c66-5da8-4639-9431-3f64f5829ab1, text='Solar panels convert sunlight into electricity by allowing photons, or light particles, to knock ele...', meta_data={'title': 'Understanding Solar Panels'}, vector=[], parent_doc_id=None, order=None, score=None), Document(id=204e97ed-bd37-4d6f-b14e-e7518b4d1dc8, text='While solar energy offers substantial environmental benefits, such as reducing carbon footprints and...', meta_data={'title': 'Pros and Cons of Solar Energy'}, vector=[], parent_doc_id=None, order=None, score=None), Document(id=880bf5f9-7dde-4d4c-af74-83bdc82cbfba, text='Renewable energy sources like wind, solar, and hydro power play a crucial role in combating climate ...', meta_data={'title': 'Renewable Energy and Its Effects'}, vector=[], parent_doc_id=None, order=None, score=None)], transformed_items={}, mapped_items={}, transformer_setups={}, mapper_setups={})\n"
     ]
    }
   ],
   "source": [
    "db.load(documents)\n",
    "print(db)"
   ]
  },
  {
   "cell_type": "code",
   "execution_count": 6,
   "metadata": {},
   "outputs": [
    {
     "name": "stdout",
     "output_type": "stream",
     "text": [
      "LocalDB(name=None, items=[Document(id=6583698e-c676-4966-a0a3-91a0f3de3796, text='Renewable energy technologies not only help in reducing greenhouse gas emissions but also contribute...', meta_data={'title': 'The Impact of Renewable Energy on the Economy'}, vector=[], parent_doc_id=None, order=None, score=None), Document(id=fab80c66-5da8-4639-9431-3f64f5829ab1, text='Solar panels convert sunlight into electricity by allowing photons, or light particles, to knock ele...', meta_data={'title': 'Understanding Solar Panels'}, vector=[], parent_doc_id=None, order=None, score=None), Document(id=204e97ed-bd37-4d6f-b14e-e7518b4d1dc8, text='While solar energy offers substantial environmental benefits, such as reducing carbon footprints and...', meta_data={'title': 'Pros and Cons of Solar Energy'}, vector=[], parent_doc_id=None, order=None, score=None), Document(id=880bf5f9-7dde-4d4c-af74-83bdc82cbfba, text='Renewable energy sources like wind, solar, and hydro power play a crucial role in combating climate ...', meta_data={'title': 'Renewable Energy and Its Effects'}, vector=[], parent_doc_id=None, order=None, score=None), Document(id=8ac8e192-bc93-43c7-a130-fc37a7e8012a, text='This is a new document', meta_data={'title': 'New Document'}, vector=[], parent_doc_id=None, order=None, score=None)], transformed_items={}, mapped_items={}, transformer_setups={}, mapper_setups={})\n"
     ]
    }
   ],
   "source": [
    "# add and delete documents\n",
    "\n",
    "new_document = Document(\n",
    "    text=\"This is a new document\", meta_data={'title': 'New Document'})\n",
    "\n",
    "db.add(new_document)\n",
    "print(db)"
   ]
  },
  {
   "cell_type": "code",
   "execution_count": 7,
   "metadata": {},
   "outputs": [],
   "source": [
    "db.delete(indices=[-1])"
   ]
  },
  {
   "cell_type": "code",
   "execution_count": 8,
   "metadata": {},
   "outputs": [
    {
     "ename": "AttributeError",
     "evalue": "'LocalDB' object has no attribute 'documents'",
     "output_type": "error",
     "traceback": [
      "\u001b[0;31m---------------------------------------------------------------------------\u001b[0m",
      "\u001b[0;31mAttributeError\u001b[0m                            Traceback (most recent call last)",
      "Cell \u001b[0;32mIn[8], line 1\u001b[0m\n\u001b[0;32m----> 1\u001b[0m \u001b[38;5;28mlen\u001b[39m(\u001b[43mdb\u001b[49m\u001b[38;5;241;43m.\u001b[39;49m\u001b[43mdocuments\u001b[49m)\n",
      "\u001b[0;31mAttributeError\u001b[0m: 'LocalDB' object has no attribute 'documents'"
     ]
    }
   ],
   "source": [
    "len(db.documents)"
   ]
  },
  {
   "cell_type": "code",
   "execution_count": null,
   "metadata": {},
   "outputs": [
    {
     "name": "stdout",
     "output_type": "stream",
     "text": [
      "LocalDB(documents=[Document(id=b349a519-1139-42cb-9362-aa4a6a6919c4, text='Renewable energy technologies not only help in reducing greenhouse gas emissions but also contribute...', meta_data={'title': 'The Impact of Renewable Energy on the Economy'}, vector=[], parent_doc_id=None, order=None, score=None), Document(id=49e80879-5b41-4f81-a236-ec512f2c60ad, text='This is a new document', meta_data={'title': 'New Document'}, vector=[], parent_doc_id=None, order=None, score=None), Document(id=12d12f6e-e269-4482-8b5b-7438a12d89b0, text='Solar panels convert sunlight into electricity by allowing photons, or light particles, to knock ele...', meta_data={'title': 'Understanding Solar Panels'}, vector=[], parent_doc_id=None, order=None, score=None), Document(id=3ed98cb6-1ee2-4a96-b7fb-94bc5dcd3913, text='While solar energy offers substantial environmental benefits, such as reducing carbon footprints and...', meta_data={'title': 'Pros and Cons of Solar Energy'}, vector=[], parent_doc_id=None, order=None, score=None), Document(id=7e13dac8-3a2f-4dcb-aeba-2941d2249e1d, text='Renewable energy sources like wind, solar, and hydro power play a crucial role in combating climate ...', meta_data={'title': 'Renewable Energy and Its Effects'}, vector=[], parent_doc_id=None, order=None, score=None)], transformed_documents={}, mapped_documents={}, transformer_setups={})\n"
     ]
    },
    {
     "data": {
      "text/plain": [
       "5"
      ]
     },
     "execution_count": 8,
     "metadata": {},
     "output_type": "execute_result"
    }
   ],
   "source": [
    "db.add(new_document, index=1)\n",
    "print(db)\n",
    "len(db.documents)"
   ]
  },
  {
   "cell_type": "code",
   "execution_count": null,
   "metadata": {},
   "outputs": [
    {
     "data": {
      "text/plain": [
       "4"
      ]
     },
     "execution_count": 9,
     "metadata": {},
     "output_type": "execute_result"
    }
   ],
   "source": [
    "db.delete(indices=[1])\n",
    "len(db.documents)"
   ]
  },
  {
   "cell_type": "code",
   "execution_count": null,
   "metadata": {},
   "outputs": [
    {
     "data": {
      "text/plain": [
       "3"
      ]
     },
     "execution_count": 10,
     "metadata": {},
     "output_type": "execute_result"
    }
   ],
   "source": [
    "db.delete(indices=[1])\n",
    "len(db.documents)"
   ]
  },
  {
   "cell_type": "code",
   "execution_count": null,
   "metadata": {},
   "outputs": [
    {
     "data": {
      "text/plain": [
       "LocalDB(documents=[Document(id=b349a519-1139-42cb-9362-aa4a6a6919c4, text='Renewable energy technologies not only help in reducing greenhouse gas emissions but also contribute...', meta_data={'title': 'The Impact of Renewable Energy on the Economy'}, vector=[], parent_doc_id=None, order=None, score=None), Document(id=3ed98cb6-1ee2-4a96-b7fb-94bc5dcd3913, text='While solar energy offers substantial environmental benefits, such as reducing carbon footprints and...', meta_data={'title': 'Pros and Cons of Solar Energy'}, vector=[], parent_doc_id=None, order=None, score=None), Document(id=7e13dac8-3a2f-4dcb-aeba-2941d2249e1d, text='Renewable energy sources like wind, solar, and hydro power play a crucial role in combating climate ...', meta_data={'title': 'Renewable Energy and Its Effects'}, vector=[], parent_doc_id=None, order=None, score=None)], transformed_documents={}, mapped_documents={}, transformer_setups={})"
      ]
     },
     "execution_count": 11,
     "metadata": {},
     "output_type": "execute_result"
    }
   ],
   "source": [
    "db"
   ]
  },
  {
   "cell_type": "markdown",
   "metadata": {},
   "source": [
    "## data transformation (processing)"
   ]
  },
  {
   "cell_type": "code",
   "execution_count": null,
   "metadata": {},
   "outputs": [
    {
     "name": "stdout",
     "output_type": "stream",
     "text": [
      "{\n",
      "    \"text\": \"Renewable energy technologies not only help in reducing greenhouse gas emissions but also contribute significantly to the economy by creating jobs in the manufacturing and installation sectors. The growth in renewable energy usage boosts local economies through increased investment in technology and infrastructure.\",\n",
      "    \"meta_data\": {\n",
      "        \"title\": \"The Impact of Renewable Energy on the Economy\"\n",
      "    },\n",
      "    \"vector\": [],\n",
      "    \"id\": \"b349a519-1139-42cb-9362-aa4a6a6919c4\",\n",
      "    \"order\": \"None\",\n",
      "    \"score\": \"None\",\n",
      "    \"parent_doc_id\": \"None\",\n",
      "    \"estimated_num_tokens\": 47\n",
      "}\n"
     ]
    }
   ],
   "source": [
    "from lightrag.core.base_data_class import DataClassFormatType\n",
    "first_document = db.documents[0]\n",
    "json_str = first_document.format_example_str(DataClassFormatType.EXAMPLE_JSON)\n",
    "print(json_str)"
   ]
  },
  {
   "cell_type": "code",
   "execution_count": null,
   "metadata": {},
   "outputs": [
    {
     "name": "stdout",
     "output_type": "stream",
     "text": [
      "text: \"Renewable energy technologies not only help in reducing greenhouse gas emissions but also contribute significantly to the economy by creating jobs in the manufacturing and installation sectors. The growth in renewable energy usage boosts local economies through increased investment in technology and infrastructure.\"\n",
      "meta_data: title: The Impact of Renewable Energy on the Economy\n",
      "vector: []\n",
      "id: \"b349a519-1139-42cb-9362-aa4a6a6919c4\"\n",
      "order: null\n",
      "score: null\n",
      "parent_doc_id: null\n",
      "estimated_num_tokens: 47\n"
     ]
    }
   ],
   "source": [
    "yaml_str = first_document.format_example_str(DataClassFormatType.EXAMPLE_YAML)\n",
    "print(yaml_str)"
   ]
  }
 ],
 "metadata": {
  "kernelspec": {
   "display_name": "lightrag-project",
   "language": "python",
   "name": "light-rag-project"
  },
  "language_info": {
   "codemirror_mode": {
    "name": "ipython",
    "version": 3
   },
   "file_extension": ".py",
   "mimetype": "text/x-python",
   "name": "python",
   "nbconvert_exporter": "python",
   "pygments_lexer": "ipython3",
   "version": "3.11.6"
  }
 },
 "nbformat": 4,
 "nbformat_minor": 2
}
