{
 "cells": [
  {
   "cell_type": "markdown",
   "metadata": {},
   "source": [
    "# Data and Data storage\n",
    "\n"
   ]
  },
  {
   "cell_type": "markdown",
   "metadata": {},
   "source": [
    "## Document and management"
   ]
  },
  {
   "cell_type": "code",
   "execution_count": 1,
   "metadata": {},
   "outputs": [],
   "source": [
    "query_1 = \"What are the benefits of renewable energy?\" # gt is [0, 3]\n",
    "query_2 = \"How do solar panels impact the environment?\" # gt is [1, 2]\n",
    "\n",
    "org_documents =[\n",
    "    {\n",
    "        \"title\": \"The Impact of Renewable Energy on the Economy\",\n",
    "        \"content\": \"Renewable energy technologies not only help in reducing greenhouse gas emissions but also contribute significantly to the economy by creating jobs in the manufacturing and installation sectors. The growth in renewable energy usage boosts local economies through increased investment in technology and infrastructure.\"\n",
    "    },\n",
    "    {\n",
    "        \"title\": \"Understanding Solar Panels\",\n",
    "        \"content\": \"Solar panels convert sunlight into electricity by allowing photons, or light particles, to knock electrons free from atoms, generating a flow of electricity. Solar panels are a type of renewable energy technology that has been found to have a significant positive effect on the environment by reducing the reliance on fossil fuels.\"\n",
    "    },\n",
    "    {\n",
    "        \"title\": \"Pros and Cons of Solar Energy\",\n",
    "        \"content\": \"While solar energy offers substantial environmental benefits, such as reducing carbon footprints and pollution, it also has downsides. The production of solar panels can lead to hazardous waste, and large solar farms require significant land, which can disrupt local ecosystems.\"\n",
    "    },\n",
    "    {\n",
    "        \"title\":  \"Renewable Energy and Its Effects\",\n",
    "        \"content\": \"Renewable energy sources like wind, solar, and hydro power play a crucial role in combating climate change. They do not produce greenhouse gases during operation, making them essential for sustainable development. However, the initial setup and material sourcing for these technologies can still have environmental impacts.\"\n",
    "    }\n",
    "]"
   ]
  },
  {
   "cell_type": "code",
   "execution_count": 2,
   "metadata": {},
   "outputs": [
    {
     "name": "stdout",
     "output_type": "stream",
     "text": [
      "[Document(id=c5eb9749-5550-4c27-9667-f00e6815181c, text='Renewable energy technologies not only help in reducing greenhouse gas emissions but also contribute...', meta_data={'title': 'The Impact of Renewable Energy on the Economy'}, vector=[], parent_doc_id=None, order=None, score=None), Document(id=00fb773c-0dd5-4852-8351-fe8424d99379, text='Solar panels convert sunlight into electricity by allowing photons, or light particles, to knock ele...', meta_data={'title': 'Understanding Solar Panels'}, vector=[], parent_doc_id=None, order=None, score=None), Document(id=115179d5-24fb-4658-a104-4bb65551cd82, text='While solar energy offers substantial environmental benefits, such as reducing carbon footprints and...', meta_data={'title': 'Pros and Cons of Solar Energy'}, vector=[], parent_doc_id=None, order=None, score=None), Document(id=d69d0c3d-bb06-4058-91af-fc91fdcfa707, text='Renewable energy sources like wind, solar, and hydro power play a crucial role in combating climate ...', meta_data={'title': 'Renewable Energy and Its Effects'}, vector=[], parent_doc_id=None, order=None, score=None)]\n"
     ]
    }
   ],
   "source": [
    "from lightrag.core.types import Document\n",
    "\n",
    "# we will save the content to text and title in the meta_data\n",
    "documents  = [Document(text=doc['content'], meta_data={'title': doc['title']}) for doc in org_documents]\n",
    "print(documents)"
   ]
  },
  {
   "cell_type": "code",
   "execution_count": 3,
   "metadata": {},
   "outputs": [
    {
     "name": "stdout",
     "output_type": "stream",
     "text": [
      "[DialogTurn(id='72daef1d-5731-427c-b2fd-d738a95bddc7', user_id=None, session_id=None, order=None, user_query='What are the benefits of renewable energy?', assistant_response='I can see you are interested in renewable energy. Renewable energy technologies not only help in reducing greenhouse gas emissions but also contribute significantly to the economy by creating jobs in the manufacturing and installation sectors. The growth in renewable energy usage boosts local economies through increased investment in technology and infrastructure.', user_query_timestamp='2021-09-01T12:00:00Z', assistant_response_timestamp='2021-09-01T12:00:01Z', metadata=None, vector=None), DialogTurn(id='6ab9179f-fa00-4189-b068-91f16f4d9441', user_id=None, session_id=None, order=None, user_query='How do solar panels impact the environment?', assistant_response='Solar panels convert sunlight into electricity by allowing photons, or light particles, to knock electrons free from atoms, generating a flow of electricity. Solar panels are a type of renewable energy technology that has been found to have a significant positive effect on the environment by reducing the reliance on fossil fuels.', user_query_timestamp='2021-09-01T12:00:02Z', assistant_response_timestamp='2021-09-01T12:00:03Z', metadata=None, vector=None)]\n"
     ]
    }
   ],
   "source": [
    "# do dialogturns \n",
    "\n",
    "from lightrag.core.types import DialogTurn\n",
    "\n",
    "turns = [\n",
    "    {\n",
    "        \"user\": \"What are the benefits of renewable energy?\",\n",
    "        \"system\": \"I can see you are interested in renewable energy. Renewable energy technologies not only help in reducing greenhouse gas emissions but also contribute significantly to the economy by creating jobs in the manufacturing and installation sectors. The growth in renewable energy usage boosts local economies through increased investment in technology and infrastructure.\",\n",
    "        \"user_time\": \"2021-09-01T12:00:00Z\",\n",
    "        \"system_time\": \"2021-09-01T12:00:01Z\"\n",
    "    },\n",
    "    {\n",
    "        \"user\": \"How do solar panels impact the environment?\",\n",
    "        \"system\": \"Solar panels convert sunlight into electricity by allowing photons, or light particles, to knock electrons free from atoms, generating a flow of electricity. Solar panels are a type of renewable energy technology that has been found to have a significant positive effect on the environment by reducing the reliance on fossil fuels.\",\n",
    "        \"user_time\": \"2021-09-01T12:00:02Z\",\n",
    "        \"system_time\": \"2021-09-01T12:00:03Z\"\n",
    "    }\n",
    "]\n",
    "\n",
    "dialog_turns = [DialogTurn(user_query = turn['user'], assistant_response = turn['system'], user_query_timestamp = turn['user_time'], assistant_response_timestamp = turn['system_time']) for turn in turns]\n",
    "print(dialog_turns)"
   ]
  },
  {
   "cell_type": "code",
   "execution_count": 4,
   "metadata": {},
   "outputs": [
    {
     "name": "stdout",
     "output_type": "stream",
     "text": [
      "LocalDB(name=None, items=[], transformed_items={}, mapped_items={}, transformer_setups={}, mapper_setups={})\n"
     ]
    }
   ],
   "source": [
    "# use LocalDB to assist the CRUD of the documents and the persisting of the documents\n",
    "\n",
    "from lightrag.core.db import LocalDB\n",
    "\n",
    "db = LocalDB(  )\n",
    "print(db)"
   ]
  },
  {
   "cell_type": "markdown",
   "metadata": {},
   "source": [
    "### Loading and CRUD operations on DialogTurns\n",
    "\n"
   ]
  },
  {
   "cell_type": "code",
   "execution_count": 5,
   "metadata": {},
   "outputs": [
    {
     "name": "stdout",
     "output_type": "stream",
     "text": [
      "Sequential(\n",
      "  (0): DocumentSplitter(split_by=word, split_length=50, split_overlap=10)\n",
      "  (1): ToEmbeddings(\n",
      "    batch_size=2\n",
      "    (embedder): Embedder(\n",
      "      model_kwargs={'model': 'text-embedding-3-small', 'dimensions': 256, 'encoding_format': 'float'}, \n",
      "      (model_client): OpenAIClient()\n",
      "    )\n",
      "    (batch_embedder): BatchEmbedder(\n",
      "      (embedder): Embedder(\n",
      "        model_kwargs={'model': 'text-embedding-3-small', 'dimensions': 256, 'encoding_format': 'float'}, \n",
      "        (model_client): OpenAIClient()\n",
      "      )\n",
      "    )\n",
      "  )\n",
      ")\n"
     ]
    }
   ],
   "source": [
    "# prepare the data pipeline\n",
    "\n",
    "from lightrag.core.embedder import Embedder \n",
    "from lightrag.core.types import ModelClientType\n",
    "from lightrag.components.data_process import DocumentSplitter, ToEmbeddings\n",
    "from lightrag.core.component import Sequential\n",
    "\n",
    "\n",
    "model_kwargs = {\n",
    "    \"model\": \"text-embedding-3-small\",\n",
    "    \"dimensions\": 256,\n",
    "    \"encoding_format\": \"float\",\n",
    "}\n",
    "\n",
    "splitter_config = {\n",
    "    \"split_by\": \"word\",\n",
    "    \"split_length\": 50,\n",
    "    \"split_overlap\": 10\n",
    "}\n",
    "\n",
    "splitter = DocumentSplitter(**splitter_config)\n",
    "embedder = Embedder(model_client =ModelClientType.OPENAI(), model_kwargs=model_kwargs)\n",
    "embedder_transformer = ToEmbeddings(embedder, batch_size=2)\n",
    "data_transformer = Sequential(splitter, embedder_transformer)\n",
    "print(data_transformer)"
   ]
  },
  {
   "cell_type": "code",
   "execution_count": 6,
   "metadata": {},
   "outputs": [],
   "source": [
    "# prepare mapping functions to map the data to documents for the pipeline\n",
    "\n",
    "from typing import Dict\n",
    "# mapping function for org_documents\n",
    "def map_to_document(doc: Dict) -> Document:\n",
    "    return Document(text=doc['content'], meta_data={'title': doc['title']})\n",
    "\n",
    "def map_dialogturn_to_document(turn: DialogTurn) -> Document:\n",
    "    # it can be important to keep the original data's id\n",
    "    return Document(id=turn.id, text=turn.user_query + ' ' + turn.assistant_response)"
   ]
  },
  {
   "cell_type": "code",
   "execution_count": 7,
   "metadata": {},
   "outputs": [
    {
     "name": "stdout",
     "output_type": "stream",
     "text": [
      "[Document(id=72daef1d-5731-427c-b2fd-d738a95bddc7, text='What are the benefits of renewable energy? I can see you are interested in renewable energy. Renewab...', meta_data=None, vector=[], parent_doc_id=None, order=None, score=None), Document(id=6ab9179f-fa00-4189-b068-91f16f4d9441, text='How do solar panels impact the environment? Solar panels convert sunlight into electricity by allowi...', meta_data=None, vector=[], parent_doc_id=None, order=None, score=None)]\n"
     ]
    },
    {
     "name": "stderr",
     "output_type": "stream",
     "text": [
      "Splitting documents:   0%|          | 0/2 [00:00<?, ?it/s]"
     ]
    },
    {
     "name": "stderr",
     "output_type": "stream",
     "text": [
      "Splitting documents: 100%|██████████| 2/2 [00:00<00:00, 1258.61it/s]\n",
      "Batch embedding documents: 100%|██████████| 2/2 [00:00<00:00,  3.83it/s]\n",
      "Adding embeddings to documents from batch: 2it [00:00, 24385.49it/s]"
     ]
    },
    {
     "name": "stdout",
     "output_type": "stream",
     "text": [
      "[Document(id=7373dd78-1c53-4da0-adc7-fb99c3b97a9c, text='What are the benefits of renewable energy? I can see you are interested in renewable energy. Renewab...', meta_data=None, vector='len: 256', parent_doc_id=72daef1d-5731-427c-b2fd-d738a95bddc7, order=0, score=None), Document(id=686eee60-e5d1-4657-a16d-9abed148e1f9, text='and installation sectors. The growth in renewable energy usage boosts local economies through increa...', meta_data=None, vector='len: 256', parent_doc_id=72daef1d-5731-427c-b2fd-d738a95bddc7, order=1, score=None), Document(id=67c7919b-8992-4ea5-acea-bda2f9a8f57e, text='How do solar panels impact the environment? Solar panels convert sunlight into electricity by allowi...', meta_data=None, vector='len: 256', parent_doc_id=6ab9179f-fa00-4189-b068-91f16f4d9441, order=0, score=None), Document(id=0c985810-cb59-49d8-8ccb-9a0901db5941, text='has been found to have a significant positive effect on the environment by reducing the reliance on ...', meta_data=None, vector='len: 256', parent_doc_id=6ab9179f-fa00-4189-b068-91f16f4d9441, order=1, score=None)]\n"
     ]
    },
    {
     "name": "stderr",
     "output_type": "stream",
     "text": [
      "\n"
     ]
    }
   ],
   "source": [
    "# apply data transformation to the dialog_turns\n",
    "\n",
    "dialog_turns_as_documents = [map_dialogturn_to_document(turn) for turn in dialog_turns]\n",
    "print(dialog_turns_as_documents)\n",
    "\n",
    "# apply data transformation to the documents\n",
    "output = data_transformer(dialog_turns_as_documents)\n",
    "print(output)"
   ]
  },
  {
   "cell_type": "code",
   "execution_count": 8,
   "metadata": {},
   "outputs": [
    {
     "name": "stdout",
     "output_type": "stream",
     "text": [
      "LocalDB(name='dialog_turns', items=[], transformed_items={}, mapped_items={}, transformer_setups={}, mapper_setups={})\n",
      "LocalDB(name='dialog_turns', items=[DialogTurn(id='72daef1d-5731-427c-b2fd-d738a95bddc7', user_id=None, session_id=None, order=None, user_query='What are the benefits of renewable energy?', assistant_response='I can see you are interested in renewable energy. Renewable energy technologies not only help in reducing greenhouse gas emissions but also contribute significantly to the economy by creating jobs in the manufacturing and installation sectors. The growth in renewable energy usage boosts local economies through increased investment in technology and infrastructure.', user_query_timestamp='2021-09-01T12:00:00Z', assistant_response_timestamp='2021-09-01T12:00:01Z', metadata=None, vector=None), DialogTurn(id='6ab9179f-fa00-4189-b068-91f16f4d9441', user_id=None, session_id=None, order=None, user_query='How do solar panels impact the environment?', assistant_response='Solar panels convert sunlight into electricity by allowing photons, or light particles, to knock electrons free from atoms, generating a flow of electricity. Solar panels are a type of renewable energy technology that has been found to have a significant positive effect on the environment by reducing the reliance on fossil fuels.', user_query_timestamp='2021-09-01T12:00:02Z', assistant_response_timestamp='2021-09-01T12:00:03Z', metadata=None, vector=None)], transformed_items={}, mapped_items={}, transformer_setups={}, mapper_setups={})\n"
     ]
    }
   ],
   "source": [
    "from lightrag.core.db import LocalDB\n",
    "\n",
    "dialog_turn_db = LocalDB('dialog_turns')\n",
    "print(dialog_turn_db)\n",
    "\n",
    "dialog_turn_db.load(dialog_turns)\n",
    "print(dialog_turn_db)"
   ]
  },
  {
   "cell_type": "code",
   "execution_count": 9,
   "metadata": {},
   "outputs": [
    {
     "name": "stderr",
     "output_type": "stream",
     "text": [
      "Splitting documents: 100%|██████████| 2/2 [00:00<00:00, 1137.59it/s]\n",
      "Batch embedding documents: 100%|██████████| 2/2 [00:00<00:00,  4.03it/s]\n",
      "Adding embeddings to documents from batch: 2it [00:00, 54120.05it/s]"
     ]
    },
    {
     "name": "stdout",
     "output_type": "stream",
     "text": [
      "[Document(id=77d1e191-4a20-4b05-b4a7-d7da3b107152, text='What are the benefits of renewable energy? I can see you are interested in renewable energy. Renewab...', meta_data=None, vector='len: 256', parent_doc_id=72daef1d-5731-427c-b2fd-d738a95bddc7, order=0, score=None), Document(id=75eaf430-7b63-4e4c-b3fe-4eba7288c4e3, text='and installation sectors. The growth in renewable energy usage boosts local economies through increa...', meta_data=None, vector='len: 256', parent_doc_id=72daef1d-5731-427c-b2fd-d738a95bddc7, order=1, score=None), Document(id=a1a85d93-92dd-4d39-8b5e-0f29511b186e, text='How do solar panels impact the environment? Solar panels convert sunlight into electricity by allowi...', meta_data=None, vector='len: 256', parent_doc_id=6ab9179f-fa00-4189-b068-91f16f4d9441, order=0, score=None), Document(id=8118c379-e3a3-4076-94fe-07cc64fc42ae, text='has been found to have a significant positive effect on the environment by reducing the reliance on ...', meta_data=None, vector='len: 256', parent_doc_id=6ab9179f-fa00-4189-b068-91f16f4d9441, order=1, score=None)]\n"
     ]
    },
    {
     "name": "stderr",
     "output_type": "stream",
     "text": [
      "\n"
     ]
    }
   ],
   "source": [
    "# apply data transformation to the dialog_turn_db\n",
    "\n",
    "key = \"split_and_embed\"\n",
    "dialog_turn_db.transform_data(data_transformer, map_fn=map_dialogturn_to_document, key=key)\n",
    "print(dialog_turn_db.transformed_items[key])"
   ]
  },
  {
   "cell_type": "code",
   "execution_count": 10,
   "metadata": {},
   "outputs": [],
   "source": [
    "dialog_turn_db.save_state(filepath='.storage/dialog_turns.pkl')"
   ]
  },
  {
   "cell_type": "code",
   "execution_count": 11,
   "metadata": {},
   "outputs": [
    {
     "name": "stdout",
     "output_type": "stream",
     "text": [
      "LocalDB(name='dialog_turns', items=[DialogTurn(id='72daef1d-5731-427c-b2fd-d738a95bddc7', user_id=None, session_id=None, order=None, user_query='What are the benefits of renewable energy?', assistant_response='I can see you are interested in renewable energy. Renewable energy technologies not only help in reducing greenhouse gas emissions but also contribute significantly to the economy by creating jobs in the manufacturing and installation sectors. The growth in renewable energy usage boosts local economies through increased investment in technology and infrastructure.', user_query_timestamp='2021-09-01T12:00:00Z', assistant_response_timestamp='2021-09-01T12:00:01Z', metadata=None, vector=None), DialogTurn(id='6ab9179f-fa00-4189-b068-91f16f4d9441', user_id=None, session_id=None, order=None, user_query='How do solar panels impact the environment?', assistant_response='Solar panels convert sunlight into electricity by allowing photons, or light particles, to knock electrons free from atoms, generating a flow of electricity. Solar panels are a type of renewable energy technology that has been found to have a significant positive effect on the environment by reducing the reliance on fossil fuels.', user_query_timestamp='2021-09-01T12:00:02Z', assistant_response_timestamp='2021-09-01T12:00:03Z', metadata=None, vector=None)], transformed_items={'split_and_embed': [Document(id=77d1e191-4a20-4b05-b4a7-d7da3b107152, text='What are the benefits of renewable energy? I can see you are interested in renewable energy. Renewab...', meta_data=None, vector='len: 256', parent_doc_id=72daef1d-5731-427c-b2fd-d738a95bddc7, order=0, score=None), Document(id=75eaf430-7b63-4e4c-b3fe-4eba7288c4e3, text='and installation sectors. The growth in renewable energy usage boosts local economies through increa...', meta_data=None, vector='len: 256', parent_doc_id=72daef1d-5731-427c-b2fd-d738a95bddc7, order=1, score=None), Document(id=a1a85d93-92dd-4d39-8b5e-0f29511b186e, text='How do solar panels impact the environment? Solar panels convert sunlight into electricity by allowi...', meta_data=None, vector='len: 256', parent_doc_id=6ab9179f-fa00-4189-b068-91f16f4d9441, order=0, score=None), Document(id=8118c379-e3a3-4076-94fe-07cc64fc42ae, text='has been found to have a significant positive effect on the environment by reducing the reliance on ...', meta_data=None, vector='len: 256', parent_doc_id=6ab9179f-fa00-4189-b068-91f16f4d9441, order=1, score=None)]}, mapped_items={}, transformer_setups={}, mapper_setups={})\n"
     ]
    }
   ],
   "source": [
    "reloaded_dialog_turn_db = LocalDB.load_state(filepath='.storage/dialog_turns.pkl')\n",
    "print(reloaded_dialog_turn_db)"
   ]
  },
  {
   "cell_type": "code",
   "execution_count": null,
   "metadata": {},
   "outputs": [],
   "source": [
    "# TODO: save the state of transform setup as a to_dict method"
   ]
  },
  {
   "cell_type": "markdown",
   "metadata": {},
   "source": [
    "### Loading and CRUD operations on documents"
   ]
  },
  {
   "cell_type": "code",
   "execution_count": 5,
   "metadata": {},
   "outputs": [
    {
     "name": "stdout",
     "output_type": "stream",
     "text": [
      "LocalDB(name=None, items=[Document(id=6583698e-c676-4966-a0a3-91a0f3de3796, text='Renewable energy technologies not only help in reducing greenhouse gas emissions but also contribute...', meta_data={'title': 'The Impact of Renewable Energy on the Economy'}, vector=[], parent_doc_id=None, order=None, score=None), Document(id=fab80c66-5da8-4639-9431-3f64f5829ab1, text='Solar panels convert sunlight into electricity by allowing photons, or light particles, to knock ele...', meta_data={'title': 'Understanding Solar Panels'}, vector=[], parent_doc_id=None, order=None, score=None), Document(id=204e97ed-bd37-4d6f-b14e-e7518b4d1dc8, text='While solar energy offers substantial environmental benefits, such as reducing carbon footprints and...', meta_data={'title': 'Pros and Cons of Solar Energy'}, vector=[], parent_doc_id=None, order=None, score=None), Document(id=880bf5f9-7dde-4d4c-af74-83bdc82cbfba, text='Renewable energy sources like wind, solar, and hydro power play a crucial role in combating climate ...', meta_data={'title': 'Renewable Energy and Its Effects'}, vector=[], parent_doc_id=None, order=None, score=None)], transformed_items={}, mapped_items={}, transformer_setups={}, mapper_setups={})\n"
     ]
    }
   ],
   "source": [
    "db.load(documents)\n",
    "print(db)"
   ]
  },
  {
   "cell_type": "code",
   "execution_count": 6,
   "metadata": {},
   "outputs": [
    {
     "name": "stdout",
     "output_type": "stream",
     "text": [
      "LocalDB(name=None, items=[Document(id=6583698e-c676-4966-a0a3-91a0f3de3796, text='Renewable energy technologies not only help in reducing greenhouse gas emissions but also contribute...', meta_data={'title': 'The Impact of Renewable Energy on the Economy'}, vector=[], parent_doc_id=None, order=None, score=None), Document(id=fab80c66-5da8-4639-9431-3f64f5829ab1, text='Solar panels convert sunlight into electricity by allowing photons, or light particles, to knock ele...', meta_data={'title': 'Understanding Solar Panels'}, vector=[], parent_doc_id=None, order=None, score=None), Document(id=204e97ed-bd37-4d6f-b14e-e7518b4d1dc8, text='While solar energy offers substantial environmental benefits, such as reducing carbon footprints and...', meta_data={'title': 'Pros and Cons of Solar Energy'}, vector=[], parent_doc_id=None, order=None, score=None), Document(id=880bf5f9-7dde-4d4c-af74-83bdc82cbfba, text='Renewable energy sources like wind, solar, and hydro power play a crucial role in combating climate ...', meta_data={'title': 'Renewable Energy and Its Effects'}, vector=[], parent_doc_id=None, order=None, score=None), Document(id=8ac8e192-bc93-43c7-a130-fc37a7e8012a, text='This is a new document', meta_data={'title': 'New Document'}, vector=[], parent_doc_id=None, order=None, score=None)], transformed_items={}, mapped_items={}, transformer_setups={}, mapper_setups={})\n"
     ]
    }
   ],
   "source": [
    "# add and delete documents\n",
    "\n",
    "new_document = Document(\n",
    "    text=\"This is a new document\", meta_data={'title': 'New Document'})\n",
    "\n",
    "db.add(new_document)\n",
    "print(db)"
   ]
  },
  {
   "cell_type": "code",
   "execution_count": 7,
   "metadata": {},
   "outputs": [],
   "source": [
    "db.delete(indices=[-1])"
   ]
  },
  {
   "cell_type": "code",
   "execution_count": 8,
   "metadata": {},
   "outputs": [
    {
     "ename": "AttributeError",
     "evalue": "'LocalDB' object has no attribute 'documents'",
     "output_type": "error",
     "traceback": [
      "\u001b[0;31m---------------------------------------------------------------------------\u001b[0m",
      "\u001b[0;31mAttributeError\u001b[0m                            Traceback (most recent call last)",
      "Cell \u001b[0;32mIn[8], line 1\u001b[0m\n\u001b[0;32m----> 1\u001b[0m \u001b[38;5;28mlen\u001b[39m(\u001b[43mdb\u001b[49m\u001b[38;5;241;43m.\u001b[39;49m\u001b[43mdocuments\u001b[49m)\n",
      "\u001b[0;31mAttributeError\u001b[0m: 'LocalDB' object has no attribute 'documents'"
     ]
    }
   ],
   "source": [
    "len(db.documents)"
   ]
  },
  {
   "cell_type": "code",
   "execution_count": null,
   "metadata": {},
   "outputs": [
    {
     "name": "stdout",
     "output_type": "stream",
     "text": [
      "LocalDB(documents=[Document(id=b349a519-1139-42cb-9362-aa4a6a6919c4, text='Renewable energy technologies not only help in reducing greenhouse gas emissions but also contribute...', meta_data={'title': 'The Impact of Renewable Energy on the Economy'}, vector=[], parent_doc_id=None, order=None, score=None), Document(id=49e80879-5b41-4f81-a236-ec512f2c60ad, text='This is a new document', meta_data={'title': 'New Document'}, vector=[], parent_doc_id=None, order=None, score=None), Document(id=12d12f6e-e269-4482-8b5b-7438a12d89b0, text='Solar panels convert sunlight into electricity by allowing photons, or light particles, to knock ele...', meta_data={'title': 'Understanding Solar Panels'}, vector=[], parent_doc_id=None, order=None, score=None), Document(id=3ed98cb6-1ee2-4a96-b7fb-94bc5dcd3913, text='While solar energy offers substantial environmental benefits, such as reducing carbon footprints and...', meta_data={'title': 'Pros and Cons of Solar Energy'}, vector=[], parent_doc_id=None, order=None, score=None), Document(id=7e13dac8-3a2f-4dcb-aeba-2941d2249e1d, text='Renewable energy sources like wind, solar, and hydro power play a crucial role in combating climate ...', meta_data={'title': 'Renewable Energy and Its Effects'}, vector=[], parent_doc_id=None, order=None, score=None)], transformed_documents={}, mapped_documents={}, transformer_setups={})\n"
     ]
    },
    {
     "data": {
      "text/plain": [
       "5"
      ]
     },
     "execution_count": 8,
     "metadata": {},
     "output_type": "execute_result"
    }
   ],
   "source": [
    "db.add(new_document, index=1)\n",
    "print(db)\n",
    "len(db.documents)"
   ]
  },
  {
   "cell_type": "code",
   "execution_count": null,
   "metadata": {},
   "outputs": [
    {
     "data": {
      "text/plain": [
       "4"
      ]
     },
     "execution_count": 9,
     "metadata": {},
     "output_type": "execute_result"
    }
   ],
   "source": [
    "db.delete(indices=[1])\n",
    "len(db.documents)"
   ]
  },
  {
   "cell_type": "code",
   "execution_count": null,
   "metadata": {},
   "outputs": [
    {
     "data": {
      "text/plain": [
       "3"
      ]
     },
     "execution_count": 10,
     "metadata": {},
     "output_type": "execute_result"
    }
   ],
   "source": [
    "db.delete(indices=[1])\n",
    "len(db.documents)"
   ]
  },
  {
   "cell_type": "code",
   "execution_count": null,
   "metadata": {},
   "outputs": [
    {
     "data": {
      "text/plain": [
       "LocalDB(documents=[Document(id=b349a519-1139-42cb-9362-aa4a6a6919c4, text='Renewable energy technologies not only help in reducing greenhouse gas emissions but also contribute...', meta_data={'title': 'The Impact of Renewable Energy on the Economy'}, vector=[], parent_doc_id=None, order=None, score=None), Document(id=3ed98cb6-1ee2-4a96-b7fb-94bc5dcd3913, text='While solar energy offers substantial environmental benefits, such as reducing carbon footprints and...', meta_data={'title': 'Pros and Cons of Solar Energy'}, vector=[], parent_doc_id=None, order=None, score=None), Document(id=7e13dac8-3a2f-4dcb-aeba-2941d2249e1d, text='Renewable energy sources like wind, solar, and hydro power play a crucial role in combating climate ...', meta_data={'title': 'Renewable Energy and Its Effects'}, vector=[], parent_doc_id=None, order=None, score=None)], transformed_documents={}, mapped_documents={}, transformer_setups={})"
      ]
     },
     "execution_count": 11,
     "metadata": {},
     "output_type": "execute_result"
    }
   ],
   "source": [
    "db"
   ]
  },
  {
   "cell_type": "markdown",
   "metadata": {},
   "source": [
    "## data transformation (processing)"
   ]
  },
  {
   "cell_type": "code",
   "execution_count": null,
   "metadata": {},
   "outputs": [
    {
     "name": "stdout",
     "output_type": "stream",
     "text": [
      "{\n",
      "    \"text\": \"Renewable energy technologies not only help in reducing greenhouse gas emissions but also contribute significantly to the economy by creating jobs in the manufacturing and installation sectors. The growth in renewable energy usage boosts local economies through increased investment in technology and infrastructure.\",\n",
      "    \"meta_data\": {\n",
      "        \"title\": \"The Impact of Renewable Energy on the Economy\"\n",
      "    },\n",
      "    \"vector\": [],\n",
      "    \"id\": \"b349a519-1139-42cb-9362-aa4a6a6919c4\",\n",
      "    \"order\": \"None\",\n",
      "    \"score\": \"None\",\n",
      "    \"parent_doc_id\": \"None\",\n",
      "    \"estimated_num_tokens\": 47\n",
      "}\n"
     ]
    }
   ],
   "source": [
    "from lightrag.core.base_data_class import DataClassFormatType\n",
    "first_document = db.documents[0]\n",
    "json_str = first_document.format_example_str(DataClassFormatType.EXAMPLE_JSON)\n",
    "print(json_str)"
   ]
  },
  {
   "cell_type": "code",
   "execution_count": null,
   "metadata": {},
   "outputs": [
    {
     "name": "stdout",
     "output_type": "stream",
     "text": [
      "text: \"Renewable energy technologies not only help in reducing greenhouse gas emissions but also contribute significantly to the economy by creating jobs in the manufacturing and installation sectors. The growth in renewable energy usage boosts local economies through increased investment in technology and infrastructure.\"\n",
      "meta_data: title: The Impact of Renewable Energy on the Economy\n",
      "vector: []\n",
      "id: \"b349a519-1139-42cb-9362-aa4a6a6919c4\"\n",
      "order: null\n",
      "score: null\n",
      "parent_doc_id: null\n",
      "estimated_num_tokens: 47\n"
     ]
    }
   ],
   "source": [
    "yaml_str = first_document.format_example_str(DataClassFormatType.EXAMPLE_YAML)\n",
    "print(yaml_str)"
   ]
  }
 ],
 "metadata": {
  "kernelspec": {
   "display_name": "my-project-kernel",
   "language": "python",
   "name": "my-project-kernel"
  },
  "language_info": {
   "codemirror_mode": {
    "name": "ipython",
    "version": 3
   },
   "file_extension": ".py",
   "mimetype": "text/x-python",
   "name": "python",
   "nbconvert_exporter": "python",
   "pygments_lexer": "ipython3",
   "version": "3.11.6"
  }
 },
 "nbformat": 4,
 "nbformat_minor": 2
}
