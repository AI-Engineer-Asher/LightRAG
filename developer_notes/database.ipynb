{
 "cells": [
  {
   "cell_type": "markdown",
   "metadata": {},
   "source": [
    "# Data and Data storage\n",
    "\n"
   ]
  },
  {
   "cell_type": "markdown",
   "metadata": {},
   "source": [
    "## Document and management"
   ]
  },
  {
   "cell_type": "code",
   "execution_count": 1,
   "metadata": {},
   "outputs": [],
   "source": [
    "query_1 = \"What are the benefits of renewable energy?\" # gt is [0, 3]\n",
    "query_2 = \"How do solar panels impact the environment?\" # gt is [1, 2]\n",
    "\n",
    "org_documents =[\n",
    "    {\n",
    "        \"title\": \"The Impact of Renewable Energy on the Economy\",\n",
    "        \"content\": \"Renewable energy technologies not only help in reducing greenhouse gas emissions but also contribute significantly to the economy by creating jobs in the manufacturing and installation sectors. The growth in renewable energy usage boosts local economies through increased investment in technology and infrastructure.\"\n",
    "    },\n",
    "    {\n",
    "        \"title\": \"Understanding Solar Panels\",\n",
    "        \"content\": \"Solar panels convert sunlight into electricity by allowing photons, or light particles, to knock electrons free from atoms, generating a flow of electricity. Solar panels are a type of renewable energy technology that has been found to have a significant positive effect on the environment by reducing the reliance on fossil fuels.\"\n",
    "    },\n",
    "    {\n",
    "        \"title\": \"Pros and Cons of Solar Energy\",\n",
    "        \"content\": \"While solar energy offers substantial environmental benefits, such as reducing carbon footprints and pollution, it also has downsides. The production of solar panels can lead to hazardous waste, and large solar farms require significant land, which can disrupt local ecosystems.\"\n",
    "    },\n",
    "    {\n",
    "        \"title\":  \"Renewable Energy and Its Effects\",\n",
    "        \"content\": \"Renewable energy sources like wind, solar, and hydro power play a crucial role in combating climate change. They do not produce greenhouse gases during operation, making them essential for sustainable development. However, the initial setup and material sourcing for these technologies can still have environmental impacts.\"\n",
    "    }\n",
    "]"
   ]
  },
  {
   "cell_type": "code",
   "execution_count": 2,
   "metadata": {},
   "outputs": [
    {
     "name": "stdout",
     "output_type": "stream",
     "text": [
      "[Document(id=a38904a0-7700-4789-9b66-f5c67fc016bd, text='Renewable energy technologies not only help in reducing greenhouse gas emissions but also contribute...', meta_data={'title': 'The Impact of Renewable Energy on the Economy'}, vector=[], parent_doc_id=None, order=None, score=None), Document(id=29fd0f84-113d-4727-84bd-c1f8bd65f20a, text='Solar panels convert sunlight into electricity by allowing photons, or light particles, to knock ele...', meta_data={'title': 'Understanding Solar Panels'}, vector=[], parent_doc_id=None, order=None, score=None), Document(id=798f77e9-4491-4e91-beb2-17c959797049, text='While solar energy offers substantial environmental benefits, such as reducing carbon footprints and...', meta_data={'title': 'Pros and Cons of Solar Energy'}, vector=[], parent_doc_id=None, order=None, score=None), Document(id=b6ce43af-2f85-43a7-95e3-6242e3790df3, text='Renewable energy sources like wind, solar, and hydro power play a crucial role in combating climate ...', meta_data={'title': 'Renewable Energy and Its Effects'}, vector=[], parent_doc_id=None, order=None, score=None)]\n"
     ]
    }
   ],
   "source": [
    "from lightrag.core.types import Document\n",
    "\n",
    "# we will save the content to text and title in the meta_data\n",
    "documents  = [Document(text=doc['content'], meta_data={'title': doc['title']}) for doc in org_documents]\n",
    "print(documents)"
   ]
  },
  {
   "cell_type": "code",
   "execution_count": 3,
   "metadata": {},
   "outputs": [
    {
     "name": "stdout",
     "output_type": "stream",
     "text": [
      "[DialogTurn(id='979c0f92-6255-4e7c-8299-adf04e9aac34', user_id=None, session_id=None, order=None, user_query='What are the benefits of renewable energy?', assistant_response='I can see you are interested in renewable energy. Renewable energy technologies not only help in reducing greenhouse gas emissions but also contribute significantly to the economy by creating jobs in the manufacturing and installation sectors. The growth in renewable energy usage boosts local economies through increased investment in technology and infrastructure.', user_query_timestamp='2021-09-01T12:00:00Z', assistant_response_timestamp='2021-09-01T12:00:01Z', metadata=None, vector=None), DialogTurn(id='e0de6e3a-641b-47f6-86cd-f52f1c2e0372', user_id=None, session_id=None, order=None, user_query='How do solar panels impact the environment?', assistant_response='Solar panels convert sunlight into electricity by allowing photons, or light particles, to knock electrons free from atoms, generating a flow of electricity. Solar panels are a type of renewable energy technology that has been found to have a significant positive effect on the environment by reducing the reliance on fossil fuels.', user_query_timestamp='2021-09-01T12:00:02Z', assistant_response_timestamp='2021-09-01T12:00:03Z', metadata=None, vector=None)]\n"
     ]
    }
   ],
   "source": [
    "# do dialogturns \n",
    "\n",
    "from lightrag.core.types import DialogTurn\n",
    "\n",
    "turns = [\n",
    "    {\n",
    "        \"user\": \"What are the benefits of renewable energy?\",\n",
    "        \"system\": \"I can see you are interested in renewable energy. Renewable energy technologies not only help in reducing greenhouse gas emissions but also contribute significantly to the economy by creating jobs in the manufacturing and installation sectors. The growth in renewable energy usage boosts local economies through increased investment in technology and infrastructure.\",\n",
    "        \"user_time\": \"2021-09-01T12:00:00Z\",\n",
    "        \"system_time\": \"2021-09-01T12:00:01Z\"\n",
    "    },\n",
    "    {\n",
    "        \"user\": \"How do solar panels impact the environment?\",\n",
    "        \"system\": \"Solar panels convert sunlight into electricity by allowing photons, or light particles, to knock electrons free from atoms, generating a flow of electricity. Solar panels are a type of renewable energy technology that has been found to have a significant positive effect on the environment by reducing the reliance on fossil fuels.\",\n",
    "        \"user_time\": \"2021-09-01T12:00:02Z\",\n",
    "        \"system_time\": \"2021-09-01T12:00:03Z\"\n",
    "    }\n",
    "]\n",
    "\n",
    "dialog_turns = [DialogTurn(user_query = turn['user'], assistant_response = turn['system'], user_query_timestamp = turn['user_time'], assistant_response_timestamp = turn['system_time']) for turn in turns]\n",
    "print(dialog_turns)"
   ]
  },
  {
   "cell_type": "code",
   "execution_count": 4,
   "metadata": {},
   "outputs": [
    {
     "name": "stdout",
     "output_type": "stream",
     "text": [
      "LocalDB(name=None, items=[], transformed_items={}, mapped_items={}, transformer_setups={}, mapper_setups={})\n"
     ]
    }
   ],
   "source": [
    "# use LocalDB to assist the CRUD of the documents and the persisting of the documents\n",
    "\n",
    "from lightrag.core.db import LocalDB\n",
    "\n",
    "db = LocalDB(  )\n",
    "print(db)"
   ]
  },
  {
   "cell_type": "markdown",
   "metadata": {},
   "source": [
    "### Loading and CRUD operations on DialogTurns\n",
    "\n"
   ]
  },
  {
   "cell_type": "code",
   "execution_count": 5,
   "metadata": {},
   "outputs": [
    {
     "name": "stdout",
     "output_type": "stream",
     "text": [
      "Sequential(\n",
      "  (0): DocumentSplitter(split_by=word, split_length=50, split_overlap=10)\n",
      "  (1): ToEmbeddings(\n",
      "    batch_size=2\n",
      "    (embedder): Embedder(\n",
      "      model_kwargs={'model': 'text-embedding-3-small', 'dimensions': 256, 'encoding_format': 'float'}, \n",
      "      (model_client): OpenAIClient()\n",
      "    )\n",
      "    (batch_embedder): BatchEmbedder(\n",
      "      (embedder): Embedder(\n",
      "        model_kwargs={'model': 'text-embedding-3-small', 'dimensions': 256, 'encoding_format': 'float'}, \n",
      "        (model_client): OpenAIClient()\n",
      "      )\n",
      "    )\n",
      "  )\n",
      ")\n"
     ]
    }
   ],
   "source": [
    "# prepare the data pipeline\n",
    "\n",
    "from lightrag.core.embedder import Embedder \n",
    "from lightrag.core.types import ModelClientType\n",
    "from lightrag.components.data_process import DocumentSplitter, ToEmbeddings\n",
    "from lightrag.core.component import Sequential\n",
    "\n",
    "\n",
    "model_kwargs = {\n",
    "    \"model\": \"text-embedding-3-small\",\n",
    "    \"dimensions\": 256,\n",
    "    \"encoding_format\": \"float\",\n",
    "}\n",
    "\n",
    "splitter_config = {\n",
    "    \"split_by\": \"word\",\n",
    "    \"split_length\": 50,\n",
    "    \"split_overlap\": 10\n",
    "}\n",
    "\n",
    "splitter = DocumentSplitter(**splitter_config)\n",
    "embedder = Embedder(model_client =ModelClientType.OPENAI(), model_kwargs=model_kwargs)\n",
    "embedder_transformer = ToEmbeddings(embedder, batch_size=2)\n",
    "data_transformer = Sequential(splitter, embedder_transformer)\n",
    "print(data_transformer)"
   ]
  },
  {
   "cell_type": "code",
   "execution_count": 6,
   "metadata": {},
   "outputs": [],
   "source": [
    "# prepare mapping functions to map the data to documents for the pipeline\n",
    "\n",
    "from typing import Dict\n",
    "# mapping function for org_documents\n",
    "def map_to_document(doc: Dict) -> Document:\n",
    "    return Document(text=doc['content'], meta_data={'title': doc['title']})\n",
    "\n",
    "def map_dialogturn_to_document(turn: DialogTurn) -> Document:\n",
    "    # it can be important to keep the original data's id\n",
    "    return Document(id=turn.id, text=turn.user_query + ' ' + turn.assistant_response)"
   ]
  },
  {
   "cell_type": "code",
   "execution_count": 7,
   "metadata": {},
   "outputs": [
    {
     "name": "stdout",
     "output_type": "stream",
     "text": [
      "[Document(id=979c0f92-6255-4e7c-8299-adf04e9aac34, text='What are the benefits of renewable energy? I can see you are interested in renewable energy. Renewab...', meta_data=None, vector=[], parent_doc_id=None, order=None, score=None), Document(id=e0de6e3a-641b-47f6-86cd-f52f1c2e0372, text='How do solar panels impact the environment? Solar panels convert sunlight into electricity by allowi...', meta_data=None, vector=[], parent_doc_id=None, order=None, score=None)]\n"
     ]
    },
    {
     "name": "stderr",
     "output_type": "stream",
     "text": [
      "Splitting documents: 100%|██████████| 2/2 [00:00<00:00, 1561.25it/s]\n",
      "Batch embedding documents:   0%|          | 0/2 [00:00<?, ?it/s]"
     ]
    },
    {
     "name": "stderr",
     "output_type": "stream",
     "text": [
      "Batch embedding documents: 100%|██████████| 2/2 [00:00<00:00,  3.22it/s]\n",
      "Adding embeddings to documents from batch: 2it [00:00, 10381.94it/s]"
     ]
    },
    {
     "name": "stdout",
     "output_type": "stream",
     "text": [
      "[Document(id=10f79974-24bc-40aa-8c7c-908fe39657f4, text='What are the benefits of renewable energy? I can see you are interested in renewable energy. Renewab...', meta_data=None, vector='len: 256', parent_doc_id=979c0f92-6255-4e7c-8299-adf04e9aac34, order=0, score=None), Document(id=e98d1d83-0915-44f2-b677-b6d99572b1a6, text='and installation sectors. The growth in renewable energy usage boosts local economies through increa...', meta_data=None, vector='len: 256', parent_doc_id=979c0f92-6255-4e7c-8299-adf04e9aac34, order=1, score=None), Document(id=0b978d41-680b-4388-a220-3f905717e489, text='How do solar panels impact the environment? Solar panels convert sunlight into electricity by allowi...', meta_data=None, vector='len: 256', parent_doc_id=e0de6e3a-641b-47f6-86cd-f52f1c2e0372, order=0, score=None), Document(id=6b4b2977-303c-4b7a-a233-f0f699ac7355, text='has been found to have a significant positive effect on the environment by reducing the reliance on ...', meta_data=None, vector='len: 256', parent_doc_id=e0de6e3a-641b-47f6-86cd-f52f1c2e0372, order=1, score=None)]\n"
     ]
    },
    {
     "name": "stderr",
     "output_type": "stream",
     "text": [
      "\n"
     ]
    }
   ],
   "source": [
    "# apply data transformation to the dialog_turns\n",
    "\n",
    "dialog_turns_as_documents = [map_dialogturn_to_document(turn) for turn in dialog_turns]\n",
    "print(dialog_turns_as_documents)\n",
    "\n",
    "# apply data transformation to the documents\n",
    "output = data_transformer(dialog_turns_as_documents)\n",
    "print(output)"
   ]
  },
  {
   "cell_type": "code",
   "execution_count": 8,
   "metadata": {},
   "outputs": [
    {
     "name": "stdout",
     "output_type": "stream",
     "text": [
      "LocalDB(name='dialog_turns', items=[], transformed_items={}, mapped_items={}, transformer_setups={}, mapper_setups={})\n",
      "LocalDB(name='dialog_turns', items=[DialogTurn(id='979c0f92-6255-4e7c-8299-adf04e9aac34', user_id=None, session_id=None, order=None, user_query='What are the benefits of renewable energy?', assistant_response='I can see you are interested in renewable energy. Renewable energy technologies not only help in reducing greenhouse gas emissions but also contribute significantly to the economy by creating jobs in the manufacturing and installation sectors. The growth in renewable energy usage boosts local economies through increased investment in technology and infrastructure.', user_query_timestamp='2021-09-01T12:00:00Z', assistant_response_timestamp='2021-09-01T12:00:01Z', metadata=None, vector=None), DialogTurn(id='e0de6e3a-641b-47f6-86cd-f52f1c2e0372', user_id=None, session_id=None, order=None, user_query='How do solar panels impact the environment?', assistant_response='Solar panels convert sunlight into electricity by allowing photons, or light particles, to knock electrons free from atoms, generating a flow of electricity. Solar panels are a type of renewable energy technology that has been found to have a significant positive effect on the environment by reducing the reliance on fossil fuels.', user_query_timestamp='2021-09-01T12:00:02Z', assistant_response_timestamp='2021-09-01T12:00:03Z', metadata=None, vector=None)], transformed_items={}, mapped_items={}, transformer_setups={}, mapper_setups={})\n"
     ]
    }
   ],
   "source": [
    "from lightrag.core.db import LocalDB\n",
    "\n",
    "dialog_turn_db = LocalDB('dialog_turns')\n",
    "print(dialog_turn_db)\n",
    "\n",
    "dialog_turn_db.load(dialog_turns)\n",
    "print(dialog_turn_db)"
   ]
  },
  {
   "cell_type": "code",
   "execution_count": 9,
   "metadata": {},
   "outputs": [
    {
     "name": "stderr",
     "output_type": "stream",
     "text": [
      "Splitting documents: 100%|██████████| 2/2 [00:00<00:00, 1895.30it/s]\n",
      "Batch embedding documents: 100%|██████████| 2/2 [00:00<00:00,  5.27it/s]\n",
      "Adding embeddings to documents from batch: 2it [00:00, 36314.32it/s]"
     ]
    },
    {
     "name": "stdout",
     "output_type": "stream",
     "text": [
      "[Document(id=46258e1d-1cb0-46ac-b031-427eb4aed4a9, text='What are the benefits of renewable energy? I can see you are interested in renewable energy. Renewab...', meta_data=None, vector='len: 256', parent_doc_id=979c0f92-6255-4e7c-8299-adf04e9aac34, order=0, score=None), Document(id=893892d6-9d76-4a9e-b7a7-cf1d82b4f1e5, text='and installation sectors. The growth in renewable energy usage boosts local economies through increa...', meta_data=None, vector='len: 256', parent_doc_id=979c0f92-6255-4e7c-8299-adf04e9aac34, order=1, score=None), Document(id=77fd5b06-7345-4090-8a43-e4454bca7c8c, text='How do solar panels impact the environment? Solar panels convert sunlight into electricity by allowi...', meta_data=None, vector='len: 256', parent_doc_id=e0de6e3a-641b-47f6-86cd-f52f1c2e0372, order=0, score=None), Document(id=7d777c13-9cdd-4ed8-bf86-fa502d61144f, text='has been found to have a significant positive effect on the environment by reducing the reliance on ...', meta_data=None, vector='len: 256', parent_doc_id=e0de6e3a-641b-47f6-86cd-f52f1c2e0372, order=1, score=None)]\n",
      "Sequential(\n",
      "  (0): DocumentSplitter(split_by=word, split_length=50, split_overlap=10)\n",
      "  (1): ToEmbeddings(\n",
      "    batch_size=2\n",
      "    (embedder): Embedder(\n",
      "      model_kwargs={'model': 'text-embedding-3-small', 'dimensions': 256, 'encoding_format': 'float'}, \n",
      "      (model_client): OpenAIClient()\n",
      "    )\n",
      "    (batch_embedder): BatchEmbedder(\n",
      "      (embedder): Embedder(\n",
      "        model_kwargs={'model': 'text-embedding-3-small', 'dimensions': 256, 'encoding_format': 'float'}, \n",
      "        (model_client): OpenAIClient()\n",
      "      )\n",
      "    )\n",
      "  )\n",
      ")\n"
     ]
    },
    {
     "name": "stderr",
     "output_type": "stream",
     "text": [
      "\n"
     ]
    }
   ],
   "source": [
    "# apply data transformation to the dialog_turn_db\n",
    "\n",
    "key = \"split_and_embed\"\n",
    "dialog_turn_db.transform_data(data_transformer, map_fn=map_dialogturn_to_document, key=key)\n",
    "print(dialog_turn_db.transformed_items[key])\n",
    "print(dialog_turn_db.transformer_setups[key])"
   ]
  },
  {
   "cell_type": "code",
   "execution_count": 10,
   "metadata": {},
   "outputs": [
    {
     "name": "stderr",
     "output_type": "stream",
     "text": [
      "Splitting documents: 100%|██████████| 2/2 [00:00<00:00, 1370.91it/s]"
     ]
    },
    {
     "name": "stdout",
     "output_type": "stream",
     "text": [
      "[Document(id=38ae771b-124e-4b49-b564-647ab2bd1050, text='What are the benefits of renewable energy? I can see you are interested in renewable energy. Renewab...', meta_data=None, vector=[], parent_doc_id=979c0f92-6255-4e7c-8299-adf04e9aac34, order=0, score=None), Document(id=6d01b89b-6fbc-4579-b4e4-8bbe4dcfdef4, text='and installation sectors. The growth in renewable energy usage boosts local economies through increa...', meta_data=None, vector=[], parent_doc_id=979c0f92-6255-4e7c-8299-adf04e9aac34, order=1, score=None), Document(id=17301d35-220e-46de-9d89-c0e75e54bf10, text='How do solar panels impact the environment? Solar panels convert sunlight into electricity by allowi...', meta_data=None, vector=[], parent_doc_id=e0de6e3a-641b-47f6-86cd-f52f1c2e0372, order=0, score=None), Document(id=bd0af9d9-5821-4c86-b1ad-46c4dd9e3646, text='has been found to have a significant positive effect on the environment by reducing the reliance on ...', meta_data=None, vector=[], parent_doc_id=e0de6e3a-641b-47f6-86cd-f52f1c2e0372, order=1, score=None)]\n",
      "[{'text': 'What are the benefits of renewable energy? I can see you are interested in renewable energy. Renewable energy technologies not only help in reducing greenhouse gas emissions but also contribute significantly to the economy by creating jobs in the manufacturing and installation sectors. The growth in renewable energy usage boosts ', 'meta_data': None, 'vector': [], 'id': '38ae771b-124e-4b49-b564-647ab2bd1050', 'order': 0, 'score': None, 'parent_doc_id': '979c0f92-6255-4e7c-8299-adf04e9aac34', 'estimated_num_tokens': 54}, {'text': 'and installation sectors. The growth in renewable energy usage boosts local economies through increased investment in technology and infrastructure.', 'meta_data': None, 'vector': [], 'id': '6d01b89b-6fbc-4579-b4e4-8bbe4dcfdef4', 'order': 1, 'score': None, 'parent_doc_id': '979c0f92-6255-4e7c-8299-adf04e9aac34', 'estimated_num_tokens': 21}, {'text': 'How do solar panels impact the environment? Solar panels convert sunlight into electricity by allowing photons, or light particles, to knock electrons free from atoms, generating a flow of electricity. Solar panels are a type of renewable energy technology that has been found to have a significant positive effect on ', 'meta_data': None, 'vector': [], 'id': '17301d35-220e-46de-9d89-c0e75e54bf10', 'order': 0, 'score': None, 'parent_doc_id': 'e0de6e3a-641b-47f6-86cd-f52f1c2e0372', 'estimated_num_tokens': 56}, {'text': 'has been found to have a significant positive effect on the environment by reducing the reliance on fossil fuels.', 'meta_data': None, 'vector': [], 'id': 'bd0af9d9-5821-4c86-b1ad-46c4dd9e3646', 'order': 1, 'score': None, 'parent_doc_id': 'e0de6e3a-641b-47f6-86cd-f52f1c2e0372', 'estimated_num_tokens': 20}]\n"
     ]
    },
    {
     "name": "stderr",
     "output_type": "stream",
     "text": [
      "\n"
     ]
    }
   ],
   "source": [
    "# test seraialization and deserialization of the data\n",
    "\n",
    "transformer = Sequential(splitter)\n",
    "test_db = LocalDB('test')\n",
    "test_db.load(dialog_turns)\n",
    "\n",
    "key = \"split\"\n",
    "test_db.transform_data(transformer, map_fn=map_dialogturn_to_document, key=key)\n",
    "print(test_db.transformed_items[key])\n",
    "test_db.pickle_to_file('test_db_state.pkl')\n",
    "restored_test_db = LocalDB.load_from_pickle('test_db_state.pkl')\n",
    "\n",
    "print(restored_test_db.transformed_items[key])\n",
    "print\n"
   ]
  },
  {
   "cell_type": "code",
   "execution_count": 13,
   "metadata": {},
   "outputs": [
    {
     "name": "stdout",
     "output_type": "stream",
     "text": [
      "LocalDB(name='dialog_turns', items=[DialogTurn(id='979c0f92-6255-4e7c-8299-adf04e9aac34', user_id=None, session_id=None, order=None, user_query='What are the benefits of renewable energy?', assistant_response='I can see you are interested in renewable energy. Renewable energy technologies not only help in reducing greenhouse gas emissions but also contribute significantly to the economy by creating jobs in the manufacturing and installation sectors. The growth in renewable energy usage boosts local economies through increased investment in technology and infrastructure.', user_query_timestamp='2021-09-01T12:00:00Z', assistant_response_timestamp='2021-09-01T12:00:01Z', metadata=None, vector=None), DialogTurn(id='e0de6e3a-641b-47f6-86cd-f52f1c2e0372', user_id=None, session_id=None, order=None, user_query='How do solar panels impact the environment?', assistant_response='Solar panels convert sunlight into electricity by allowing photons, or light particles, to knock electrons free from atoms, generating a flow of electricity. Solar panels are a type of renewable energy technology that has been found to have a significant positive effect on the environment by reducing the reliance on fossil fuels.', user_query_timestamp='2021-09-01T12:00:02Z', assistant_response_timestamp='2021-09-01T12:00:03Z', metadata=None, vector=None)], transformed_items={'split_and_embed': [Document(id=46258e1d-1cb0-46ac-b031-427eb4aed4a9, text='What are the benefits of renewable energy? I can see you are interested in renewable energy. Renewab...', meta_data=None, vector='len: 256', parent_doc_id=979c0f92-6255-4e7c-8299-adf04e9aac34, order=0, score=None), Document(id=893892d6-9d76-4a9e-b7a7-cf1d82b4f1e5, text='and installation sectors. The growth in renewable energy usage boosts local economies through increa...', meta_data=None, vector='len: 256', parent_doc_id=979c0f92-6255-4e7c-8299-adf04e9aac34, order=1, score=None), Document(id=77fd5b06-7345-4090-8a43-e4454bca7c8c, text='How do solar panels impact the environment? Solar panels convert sunlight into electricity by allowi...', meta_data=None, vector='len: 256', parent_doc_id=e0de6e3a-641b-47f6-86cd-f52f1c2e0372, order=0, score=None), Document(id=7d777c13-9cdd-4ed8-bf86-fa502d61144f, text='has been found to have a significant positive effect on the environment by reducing the reliance on ...', meta_data=None, vector='len: 256', parent_doc_id=e0de6e3a-641b-47f6-86cd-f52f1c2e0372, order=1, score=None)]}, mapped_items={}, transformer_setups={'split_and_embed': Sequential(\n",
      "  (0): DocumentSplitter(split_by=word, split_length=50, split_overlap=10)\n",
      "  (1): ToEmbeddings(\n",
      "    batch_size=2\n",
      "    (embedder): Embedder(\n",
      "      model_kwargs={'model': 'text-embedding-3-small', 'dimensions': 256, 'encoding_format': 'float'}, \n",
      "      (model_client): OpenAIClient()\n",
      "    )\n",
      "    (batch_embedder): BatchEmbedder(\n",
      "      (embedder): Embedder(\n",
      "        model_kwargs={'model': 'text-embedding-3-small', 'dimensions': 256, 'encoding_format': 'float'}, \n",
      "        (model_client): OpenAIClient()\n",
      "      )\n",
      "    )\n",
      "  )\n",
      ")}, mapper_setups={})\n"
     ]
    }
   ],
   "source": [
    "dialog_turn_db.pickle_to_file(filepath='.storage/dialog_turns.pkl')\n",
    "print(dialog_turn_db)"
   ]
  },
  {
   "cell_type": "code",
   "execution_count": 12,
   "metadata": {},
   "outputs": [
    {
     "name": "stdout",
     "output_type": "stream",
     "text": [
      "LocalDB(name='dialog_turns', items=[{'id': '979c0f92-6255-4e7c-8299-adf04e9aac34', 'user_id': None, 'session_id': None, 'order': None, 'user_query': 'What are the benefits of renewable energy?', 'assistant_response': 'I can see you are interested in renewable energy. Renewable energy technologies not only help in reducing greenhouse gas emissions but also contribute significantly to the economy by creating jobs in the manufacturing and installation sectors. The growth in renewable energy usage boosts local economies through increased investment in technology and infrastructure.', 'user_query_timestamp': '2021-09-01T12:00:00Z', 'assistant_response_timestamp': '2021-09-01T12:00:01Z', 'metadata': None, 'vector': None}, {'id': 'e0de6e3a-641b-47f6-86cd-f52f1c2e0372', 'user_id': None, 'session_id': None, 'order': None, 'user_query': 'How do solar panels impact the environment?', 'assistant_response': 'Solar panels convert sunlight into electricity by allowing photons, or light particles, to knock electrons free from atoms, generating a flow of electricity. Solar panels are a type of renewable energy technology that has been found to have a significant positive effect on the environment by reducing the reliance on fossil fuels.', 'user_query_timestamp': '2021-09-01T12:00:02Z', 'assistant_response_timestamp': '2021-09-01T12:00:03Z', 'metadata': None, 'vector': None}], transformed_items={'split_and_embed': [{'text': 'What are the benefits of renewable energy? I can see you are interested in renewable energy. Renewable energy technologies not only help in reducing greenhouse gas emissions but also contribute significantly to the economy by creating jobs in the manufacturing and installation sectors. The growth in renewable energy usage boosts ', 'meta_data': None, 'vector': [0.038091756, 0.08130312, 0.10887385, 0.09140143, 0.02799345, 0.016509559, -0.060777724, 0.07463354, 0.0887242, 0.083369754, 0.03921901, 0.04715675, -0.09553469, 0.05082032, 0.06218679, -0.016533043, -0.0772638, 0.027077556, 0.09825888, 0.07082906, 0.024470784, 0.075244136, 0.0071099135, 0.053262703, 0.009652103, 0.0072566913, -0.064394325, -0.02148826, 0.030036595, -0.013421356, 0.018329604, -0.021781815, -0.121085756, -0.07472748, 0.0879727, 0.012693338, -0.045747682, -0.13132498, 0.015159205, 0.018482253, 0.038467508, -0.07731077, -0.07660624, -0.06664883, -0.062233757, -0.017448938, -0.076935016, -0.023578376, 0.07200328, 0.09407865, 0.023472695, -0.056080837, -0.0056039738, -0.13677336, -0.027547246, -0.06434736, -0.007996451, 0.04652267, -0.109625354, -0.014912617, 0.12681596, -0.0016101517, 0.07120481, 0.14006118, -0.09468925, 0.07740471, -0.040087935, 0.01868187, -0.09346806, -0.005096123, 0.044620432, -0.034850907, 0.054906614, -0.034991812, 0.0056979116, -0.057771716, 0.02735937, -0.08848936, -0.0262556, 0.05758384, -0.0069161667, -0.008448526, -0.053403612, -0.053262703, -0.044949215, -0.014936103, 0.058617156, -0.03830312, -0.10840416, 0.07763955, -0.05373239, 0.007967096, 0.051196072, 0.0141846, 0.023637086, -0.022685967, 0.014372475, 0.06209285, 0.013902787, 0.10530422, 0.005557005, -0.0056509427, -0.018693613, 0.08524851, 0.090039335, -0.01460732, 0.07585473, 0.05392027, 0.04673403, -0.0024511882, -0.072426006, 0.067118526, 0.030670675, 0.06932606, 0.038091756, -0.049833976, -0.10633753, -0.038326602, 0.01106117, -0.1100011, -0.10812235, -0.027664667, 0.07787439, 0.05847625, 0.048565816, -0.014689515, -0.07176844, 0.019586021, -0.030975973, 0.058992907, -0.024329877, 0.08318188, 0.09360897, -0.11216167, -0.07857893, -0.05584599, 0.017167123, -0.016216004, -0.03752813, 0.07716986, 0.059509564, 0.0030764614, 0.029942658, 0.011067041, -0.019715184, -0.09309231, 0.017777719, -0.050726384, 0.023566633, 0.06284435, 0.035978157, 0.023425726, -0.11141017, 0.047767345, 0.019139817, -0.05932169, -0.049787007, -0.020631079, -0.051900607, -0.03731677, -0.09478319, 0.14851558, -0.066930644, -0.046076465, 0.028557075, 0.011806801, -0.04201366, -0.049364287, -0.12456146, -0.023367016, -0.047039326, -0.095393784, 0.11535556, 0.07355326, 0.0058153337, 0.056644462, -0.060355004, 0.049176414, 0.12991591, -0.06430039, -0.078344084, 0.12737958, -0.10023158, -0.05457783, 0.047555987, -0.06218679, -0.06791699, 0.01053277, -0.06932606, 0.09468925, -0.0228621, 0.036213003, 0.014125889, 0.001522085, 0.09158931, -0.02963736, -0.006399509, 0.05542327, -0.051994544, -0.06420645, 0.03943037, -0.07637139, 0.044479523, -0.003138108, -0.046170402, -0.025175316, -0.1211797, 0.03318351, 0.023167398, 0.000117513926, -0.027288916, 0.108216286, 0.0019785638, 0.16692738, 0.058570188, 0.08759695, -0.03132824, 0.051524855, -0.027382854, -0.03339487, -0.13217041, -0.08181978, 0.038044788, -4.7427555e-05, 0.031046426, 0.024963956, 0.031469148, 0.009299837, 0.12503114, 0.025151832, -0.095675595, -0.006663709, -0.0351562, -0.096192256, -0.04884763, -0.04022884, 0.045160573, -0.010908521, -0.0057125892, -0.026279086, 0.06932606, 0.08120918, 0.036377393, -0.04786128, 0.08938177, 0.056644462, -0.0039101588, -0.07825015, 0.10859204, -0.022592029, -0.031375207, 0.0064229937, 0.08346369, 0.022310216, 0.057724748, -0.031727474], 'id': '46258e1d-1cb0-46ac-b031-427eb4aed4a9', 'order': 0, 'score': None, 'parent_doc_id': '979c0f92-6255-4e7c-8299-adf04e9aac34', 'estimated_num_tokens': 54}, {'text': 'and installation sectors. The growth in renewable energy usage boosts local economies through increased investment in technology and infrastructure.', 'meta_data': None, 'vector': [-0.07055026, 0.026867468, 0.21271624, 0.018239768, 0.08731927, 0.06647382, 0.036155272, 0.037313353, -0.015564602, 0.04734233, 0.056977563, 0.061331946, -0.07166202, 0.035692044, 0.1093228, 0.07068924, -0.010619598, -0.024319692, -0.0052316287, 0.09213689, 0.06939218, -0.022536246, 0.01539089, -0.023474293, -0.01207878, -0.021343425, -0.031129204, 0.06286061, 0.08227004, 0.015275083, 0.024481822, -0.059015784, -0.030272225, -0.03379279, 0.09042293, 0.00027486318, -0.05748712, -0.006630011, 0.05049231, -0.0058367257, 0.05957166, -0.09417511, -0.10450519, -0.070364974, -0.0736076, -0.02746967, -0.084539875, -0.09158101, 0.075228915, 0.04271001, 0.09783464, -0.07193996, 0.082594305, -0.25403655, -0.00582804, 0.00036117635, 0.09829787, 0.0754142, -0.048685703, -0.039536867, 0.2264279, 0.04067179, 0.08759721, 0.051372454, 0.028396135, 0.06929954, 0.0070237583, 0.027678125, -0.056190066, 0.0057064416, -0.0041951467, -0.06286061, 0.030967074, -0.0049971174, 0.0650378, 0.02100758, -0.032982133, -0.025222994, 0.008355551, 0.039166283, -0.031245012, -0.09653759, 0.012970502, -0.025848357, -0.004858148, 0.020243248, -0.010770149, -0.01467288, -0.093758196, 0.12794474, -0.002374065, 0.04919526, 0.11515953, 0.00019687369, -0.079398, 0.03694277, 0.024991378, -0.08583693, 0.08162151, 0.1107125, 0.012414623, -0.015622506, 0.052993763, -0.018343996, -0.014545491, -0.018668259, -0.034904547, 0.029438406, -0.027214892, 0.0061320364, -0.018008152, 0.073468626, 0.050538633, 0.042547878, 0.09292438, -0.035136163, -0.045813665, -0.01724382, 0.0036334777, -0.08477149, -0.0046525886, -0.030550165, -0.0043225354, 0.083752386, 0.0540592, 0.048083503, -0.12359035, 0.091858946, -0.05767241, 0.0037753426, -0.0033844903, 0.06749293, 0.14888284, -0.08384503, -0.038934667, -0.050584957, -0.04528095, -0.05808932, 0.010567484, -0.01136077, 0.024528146, 0.030642811, 0.018529288, 0.06401869, -0.07356127, -0.020254828, 0.03525197, -0.05063128, 0.08810677, 0.026936954, -0.038934667, -0.037938718, -0.16240922, 0.03555307, -0.030457517, -0.020034794, -0.08648545, -0.018031314, -0.016479487, 0.050816573, -0.047064394, 0.11553011, -0.015263502, -0.053595968, -0.07314437, 0.022547828, -0.10885957, -0.030017447, -0.12729621, -0.015634088, 0.016873233, -0.08847735, 0.06999439, -0.00050159363, -0.04268685, 0.115808055, -0.07745243, 0.035877336, 0.14174905, -0.015564602, 0.021204455, 0.05165039, -0.024180721, -0.05952534, 0.003940369, 0.0118240025, -0.056977563, 0.041806705, -0.00503186, 0.10144785, -0.00719168, -0.0034452896, 0.06096136, 0.066705436, 0.06684441, 0.028002387, -0.033306397, 0.07119879, -0.035761528, -0.052252594, -0.016201546, -0.0566533, 0.04604528, 0.02042854, -0.080139175, -0.03773026, -0.12192272, -0.04027804, 0.086902365, -0.0151824355, 0.019756854, 0.016792167, -0.003624792, 0.10450519, -0.004171985, 0.05938637, -0.046763293, 0.04574418, -0.033260074, -0.047851887, 0.009890008, -0.038332466, -0.011673451, -0.006821094, 0.09542584, 0.083196506, -0.048268795, -0.028558265, 0.09079351, -0.044632424, -0.037359677, 0.010602227, 0.04831512, -0.048963644, -0.08111196, 0.025593579, 0.031499792, 0.001268822, -0.06337017, 0.0018500336, 0.039629515, 0.10385666, 0.0050839735, -0.08356709, 0.018772485, 0.039305255, 0.014128583, 0.02777077, 0.124516815, 0.005179515, -0.07842521, 0.067214996, 0.08731927, 0.06457457, 0.047365494, -0.031152366], 'id': '893892d6-9d76-4a9e-b7a7-cf1d82b4f1e5', 'order': 1, 'score': None, 'parent_doc_id': '979c0f92-6255-4e7c-8299-adf04e9aac34', 'estimated_num_tokens': 21}, {'text': 'How do solar panels impact the environment? Solar panels convert sunlight into electricity by allowing photons, or light particles, to knock electrons free from atoms, generating a flow of electricity. Solar panels are a type of renewable energy technology that has been found to have a significant positive effect on ', 'meta_data': None, 'vector': [0.012501691, 0.03512784, -0.054888576, 0.17217948, 0.1059566, -0.001747106, -0.025109507, -0.06677473, 0.08379741, -0.04228076, 0.04601641, 0.037908353, -0.073184766, -0.008012543, 0.058666676, -0.07946745, -0.053317904, -0.017914137, 0.040752538, 0.04236566, 0.10909794, -0.009753017, 0.043023646, 0.048987947, -0.097890995, 0.017287992, -0.08566523, 0.03332369, 0.15715198, 0.019707672, -0.0070043425, -0.03493681, -0.06949157, 0.008856248, 0.0062614577, 0.07182635, -0.06214762, -0.08795756, 0.01346744, -0.0014844431, 0.048605893, -0.011281237, -0.017033288, -0.056374345, -0.08226919, -0.025173184, -0.027104683, -0.07921275, 0.07191125, 0.046907872, 0.06367584, -0.023347808, 0.046907872, -0.017839849, -0.070849985, 0.011482877, -0.05883648, 0.085877486, -0.16012351, 0.018550895, 0.12225762, -0.014104199, -0.027104683, 0.07874579, -0.09491946, 0.11419201, -0.028569227, 0.036231555, -0.010920407, 0.06452485, 0.08630199, 0.001623734, 0.120729394, -0.044360835, -0.01909214, 0.039330445, 0.08494357, -0.07887314, 0.081802234, 0.059643038, 0.06838785, 0.053402808, -0.098570205, 0.031561993, -0.10171155, 0.038842265, 0.049964312, -0.019760737, -0.017744334, 0.030479504, 0.02869658, 0.012735168, -0.046695616, 0.04043416, 0.00908442, 0.049709607, -0.07225086, -0.0017510856, -0.0048818146, 0.05909118, 0.06724169, -0.022053067, -0.013106611, 0.022647375, 0.028484326, -0.084816225, -0.02150121, 0.09194791, -0.06847276, 0.028526777, -0.024281722, -0.023602512, -0.033578396, 0.054209366, 0.014794021, -0.015377716, -0.001715268, 0.049370002, 0.03553112, -0.06961892, -0.053020753, 0.008044382, 0.07106224, 0.076071404, 0.11818236, -0.11147518, 0.033705745, -0.056204543, -0.020843226, 0.014443804, 0.07038303, 0.08260879, 0.027147135, -0.06575592, -0.11003186, -0.122767024, 0.027062234, -0.026680177, 0.064737104, 0.032304876, 0.03495804, 0.09610807, -0.09466475, 0.07314232, -0.053317904, -0.06898216, 0.05900628, -0.028293299, 0.0086174635, 0.05739316, 0.06885481, 0.008357454, -0.022965753, 0.106975414, 0.16547228, -0.026701404, 0.10723012, 0.06384564, -0.013265801, 0.0022180418, -0.042641588, 0.037038114, -0.026298122, -0.11274869, -0.026531601, -0.020758325, 0.026043419, 0.032708157, -0.06274193, -0.00826194, -0.101371944, -0.019017851, -0.017670047, 0.04847854, 0.03468211, 0.022201644, -0.07853354, 0.022647375, 0.10400388, 0.034830686, -0.004788954, 0.102730356, -0.05132273, -0.038163055, 0.018508445, 0.006314521, -0.033833098, 0.014634831, -0.097890995, -0.027380612, -0.03162567, 0.006675351, -0.10009842, 0.047841784, 0.021097928, -0.01724554, 0.064567305, 0.121069, -0.16793442, -0.010713461, 0.015452004, -0.09678728, -0.024324171, 0.03359962, 0.017447181, -0.06571347, -0.023857215, -0.04699277, 0.10510759, -0.075392194, -0.0077047767, 0.13371927, 0.0045979265, 0.023347808, 0.027423063, 0.05391221, -0.02564014, 0.071699, -0.02941824, -0.041261945, 0.0023201886, 0.0049003866, 0.09704199, 0.038205504, -0.0013942356, 0.07254801, -0.051110476, 0.09143851, 0.107484825, -0.05293585, -0.13923784, -0.045209847, 0.010909794, 0.024069468, -0.08821227, -0.07165655, -0.027232036, 0.02222287, -0.070680186, -0.053233005, 0.021819588, 0.050940674, 0.05739316, 0.04775688, -0.049285103, 0.10706031, 0.036019303, -0.018317418, 0.1355871, -0.034830686, 0.0010148337, 0.04605886, -0.014985048, 0.055695135, 0.11894647, -0.08065607], 'id': '77fd5b06-7345-4090-8a43-e4454bca7c8c', 'order': 0, 'score': None, 'parent_doc_id': 'e0de6e3a-641b-47f6-86cd-f52f1c2e0372', 'estimated_num_tokens': 56}, {'text': 'has been found to have a significant positive effect on the environment by reducing the reliance on fossil fuels.', 'meta_data': None, 'vector': [0.0017780039, -0.013017899, 0.14972664, 0.106694095, 0.07758058, -0.0257308, -0.03227441, 0.0765824, 0.07636058, 0.06249701, 0.02778261, -0.044197086, -0.17390472, -0.006307928, 0.08600964, 0.027602384, 0.025217848, -0.045749806, 0.050324786, 0.040010285, 0.06410518, -0.07336605, 0.0118187, 0.017107654, -0.007389287, 0.031747594, -0.010356093, -0.063217916, 0.09094507, -0.074197866, 0.08046421, -0.06560245, 0.038124837, 0.01569357, 0.020823093, 0.065657906, -0.052903414, -0.010993817, -0.016303567, 0.004599242, -0.0074724685, -0.023082856, 0.036294848, -0.06282973, -0.054234315, -0.03557394, -0.0004639966, -0.05711794, 0.080076024, 0.10203593, 0.011070067, -0.11196225, -0.0007356361, -0.21593909, 0.009870867, -0.03879029, 0.026091253, 0.065047905, -0.05204387, 0.06532518, 0.0803533, 0.033050768, 0.09449414, 0.10181411, -0.054539315, 0.064604275, 0.036294848, 0.08955871, -0.057727937, 0.04203437, 0.03626712, 0.02584171, 0.012068245, 0.003677314, 0.01104234, -0.046553895, 0.10209139, -0.028073745, -0.0015596525, 0.025592165, -0.006928323, 0.018993102, -0.09416142, -0.079521485, -0.053152956, -0.027616248, 0.058060665, 0.005410261, -0.14817391, 0.014057668, 0.02801829, -0.035047125, -0.036599845, 0.047524344, 0.04142437, 0.049548425, -0.030693961, 0.014293348, 0.10386592, 0.102867745, 0.04172937, -0.027727155, 0.062607914, 0.010536319, 0.037098933, 0.02456626, 0.07896694, 0.0029841352, 0.0233324, -0.002332547, 0.08966962, -0.009614391, -0.009787686, 0.1196704, -0.09155507, -0.023263084, -0.08595418, 0.046110258, 0.038346656, -0.015471753, -0.02417808, -0.008747918, 0.025411937, 0.011888018, 0.060112473, -0.14595574, -0.09016871, -0.037792113, -0.045167536, -0.148063, -0.0103699565, 0.117784955, 0.053984772, 0.0014054201, -0.057561573, -0.11146317, -0.043725725, -0.09970685, 0.029002605, 0.014265621, 0.055038404, 0.025120802, -0.04735798, 0.122997664, -0.115234055, -0.12920855, 0.023179902, 0.020337868, 0.109688625, 0.065158814, 0.0057949754, -0.011014612, -0.04724707, 0.09016871, 0.016955156, -0.048910704, 0.010175866, 0.030444417, -0.031886227, -0.04486254, -0.076249674, 0.045943897, -0.09759959, -0.065047905, 0.09161052, 0.07630513, -0.07497423, -0.0051260577, -0.17312835, -0.017287882, -0.05165569, -0.0150974365, 0.085177824, 0.015457889, -0.029168967, 0.10891227, -0.061498832, 0.03568485, 0.04677571, 0.0029581408, 0.049187973, 0.117784955, 0.037792113, 0.058726113, -0.060777925, 0.000779393, -0.03479758, 0.05817157, -0.0018109299, 0.0469698, -0.07064879, 0.08972508, 0.025606029, 0.012428697, -0.026216025, -0.017925605, -0.004425947, 0.10497501, -0.031830773, 0.029584875, 0.04428027, -0.06870789, -0.0029616067, -0.068874255, -0.11140771, -0.04416936, -0.011201771, -0.017842425, 0.07885603, -0.06465973, 0.0013335028, 0.02847579, -0.073144235, 0.08955871, 0.14296122, 0.08273783, 0.051045693, -0.035352122, 0.012054381, -0.05661885, -0.024898985, -0.054234315, 0.16004114, -0.01437653, -0.038346656, 0.052071597, -0.07774694, 0.010376887, 0.0585043, -0.12066858, -0.05722885, 0.016955156, -0.037986204, 0.013087218, -0.024094898, -0.04766298, 0.0237899, -0.021488545, 0.03526894, 0.022472858, -0.041673914, -0.0141616445, 0.0042075957, -0.04347618, -0.09033507, 0.07663786, -0.021225138, 0.0133506255, -0.010272911, 0.047163893, -0.036017574, 0.07364333, -0.025439665, -0.06948425, -0.00879644, -0.056591123], 'id': '7d777c13-9cdd-4ed8-bf86-fa502d61144f', 'order': 1, 'score': None, 'parent_doc_id': 'e0de6e3a-641b-47f6-86cd-f52f1c2e0372', 'estimated_num_tokens': 20}]}, mapped_items={}, transformer_setups={'split_and_embed': Sequential(\n",
      "  (0): DocumentSplitter(split_by=word, split_length=50, split_overlap=10)\n",
      "  (1): ToEmbeddings(\n",
      "    batch_size=2\n",
      "    (embedder): Embedder(\n",
      "      model_kwargs={'dimensions': 256, 'encoding_format': 'float', 'model': 'text-embedding-3-small'}, \n",
      "      (model_client): OpenAIClient()\n",
      "    )\n",
      "    (batch_embedder): BatchEmbedder(\n",
      "      (embedder): Embedder(\n",
      "        model_kwargs={'dimensions': 256, 'encoding_format': 'float', 'model': 'text-embedding-3-small'}, \n",
      "        (model_client): OpenAIClient()\n",
      "      )\n",
      "    )\n",
      "  )\n",
      ")}, mapper_setups={})\n"
     ]
    }
   ],
   "source": [
    "reloaded_dialog_turn_db = LocalDB.load_from_pickle(filepath='.storage/dialog_turns.pkl')\n",
    "print(reloaded_dialog_turn_db)"
   ]
  },
  {
   "cell_type": "code",
   "execution_count": null,
   "metadata": {},
   "outputs": [],
   "source": [
    "# TODO: save the state of transform setup as a to_dict method"
   ]
  },
  {
   "cell_type": "markdown",
   "metadata": {},
   "source": [
    "### Loading and CRUD operations on documents"
   ]
  },
  {
   "cell_type": "code",
   "execution_count": 5,
   "metadata": {},
   "outputs": [
    {
     "name": "stdout",
     "output_type": "stream",
     "text": [
      "LocalDB(name=None, items=[Document(id=6583698e-c676-4966-a0a3-91a0f3de3796, text='Renewable energy technologies not only help in reducing greenhouse gas emissions but also contribute...', meta_data={'title': 'The Impact of Renewable Energy on the Economy'}, vector=[], parent_doc_id=None, order=None, score=None), Document(id=fab80c66-5da8-4639-9431-3f64f5829ab1, text='Solar panels convert sunlight into electricity by allowing photons, or light particles, to knock ele...', meta_data={'title': 'Understanding Solar Panels'}, vector=[], parent_doc_id=None, order=None, score=None), Document(id=204e97ed-bd37-4d6f-b14e-e7518b4d1dc8, text='While solar energy offers substantial environmental benefits, such as reducing carbon footprints and...', meta_data={'title': 'Pros and Cons of Solar Energy'}, vector=[], parent_doc_id=None, order=None, score=None), Document(id=880bf5f9-7dde-4d4c-af74-83bdc82cbfba, text='Renewable energy sources like wind, solar, and hydro power play a crucial role in combating climate ...', meta_data={'title': 'Renewable Energy and Its Effects'}, vector=[], parent_doc_id=None, order=None, score=None)], transformed_items={}, mapped_items={}, transformer_setups={}, mapper_setups={})\n"
     ]
    }
   ],
   "source": [
    "db.load(documents)\n",
    "print(db)"
   ]
  },
  {
   "cell_type": "code",
   "execution_count": 6,
   "metadata": {},
   "outputs": [
    {
     "name": "stdout",
     "output_type": "stream",
     "text": [
      "LocalDB(name=None, items=[Document(id=6583698e-c676-4966-a0a3-91a0f3de3796, text='Renewable energy technologies not only help in reducing greenhouse gas emissions but also contribute...', meta_data={'title': 'The Impact of Renewable Energy on the Economy'}, vector=[], parent_doc_id=None, order=None, score=None), Document(id=fab80c66-5da8-4639-9431-3f64f5829ab1, text='Solar panels convert sunlight into electricity by allowing photons, or light particles, to knock ele...', meta_data={'title': 'Understanding Solar Panels'}, vector=[], parent_doc_id=None, order=None, score=None), Document(id=204e97ed-bd37-4d6f-b14e-e7518b4d1dc8, text='While solar energy offers substantial environmental benefits, such as reducing carbon footprints and...', meta_data={'title': 'Pros and Cons of Solar Energy'}, vector=[], parent_doc_id=None, order=None, score=None), Document(id=880bf5f9-7dde-4d4c-af74-83bdc82cbfba, text='Renewable energy sources like wind, solar, and hydro power play a crucial role in combating climate ...', meta_data={'title': 'Renewable Energy and Its Effects'}, vector=[], parent_doc_id=None, order=None, score=None), Document(id=8ac8e192-bc93-43c7-a130-fc37a7e8012a, text='This is a new document', meta_data={'title': 'New Document'}, vector=[], parent_doc_id=None, order=None, score=None)], transformed_items={}, mapped_items={}, transformer_setups={}, mapper_setups={})\n"
     ]
    }
   ],
   "source": [
    "# add and delete documents\n",
    "\n",
    "new_document = Document(\n",
    "    text=\"This is a new document\", meta_data={'title': 'New Document'})\n",
    "\n",
    "db.add(new_document)\n",
    "print(db)"
   ]
  },
  {
   "cell_type": "code",
   "execution_count": 7,
   "metadata": {},
   "outputs": [],
   "source": [
    "db.delete(indices=[-1])"
   ]
  },
  {
   "cell_type": "code",
   "execution_count": 8,
   "metadata": {},
   "outputs": [
    {
     "ename": "AttributeError",
     "evalue": "'LocalDB' object has no attribute 'documents'",
     "output_type": "error",
     "traceback": [
      "\u001b[0;31m---------------------------------------------------------------------------\u001b[0m",
      "\u001b[0;31mAttributeError\u001b[0m                            Traceback (most recent call last)",
      "Cell \u001b[0;32mIn[8], line 1\u001b[0m\n\u001b[0;32m----> 1\u001b[0m \u001b[38;5;28mlen\u001b[39m(\u001b[43mdb\u001b[49m\u001b[38;5;241;43m.\u001b[39;49m\u001b[43mdocuments\u001b[49m)\n",
      "\u001b[0;31mAttributeError\u001b[0m: 'LocalDB' object has no attribute 'documents'"
     ]
    }
   ],
   "source": [
    "len(db.documents)"
   ]
  },
  {
   "cell_type": "code",
   "execution_count": null,
   "metadata": {},
   "outputs": [
    {
     "name": "stdout",
     "output_type": "stream",
     "text": [
      "LocalDB(documents=[Document(id=b349a519-1139-42cb-9362-aa4a6a6919c4, text='Renewable energy technologies not only help in reducing greenhouse gas emissions but also contribute...', meta_data={'title': 'The Impact of Renewable Energy on the Economy'}, vector=[], parent_doc_id=None, order=None, score=None), Document(id=49e80879-5b41-4f81-a236-ec512f2c60ad, text='This is a new document', meta_data={'title': 'New Document'}, vector=[], parent_doc_id=None, order=None, score=None), Document(id=12d12f6e-e269-4482-8b5b-7438a12d89b0, text='Solar panels convert sunlight into electricity by allowing photons, or light particles, to knock ele...', meta_data={'title': 'Understanding Solar Panels'}, vector=[], parent_doc_id=None, order=None, score=None), Document(id=3ed98cb6-1ee2-4a96-b7fb-94bc5dcd3913, text='While solar energy offers substantial environmental benefits, such as reducing carbon footprints and...', meta_data={'title': 'Pros and Cons of Solar Energy'}, vector=[], parent_doc_id=None, order=None, score=None), Document(id=7e13dac8-3a2f-4dcb-aeba-2941d2249e1d, text='Renewable energy sources like wind, solar, and hydro power play a crucial role in combating climate ...', meta_data={'title': 'Renewable Energy and Its Effects'}, vector=[], parent_doc_id=None, order=None, score=None)], transformed_documents={}, mapped_documents={}, transformer_setups={})\n"
     ]
    },
    {
     "data": {
      "text/plain": [
       "5"
      ]
     },
     "execution_count": 8,
     "metadata": {},
     "output_type": "execute_result"
    }
   ],
   "source": [
    "db.add(new_document, index=1)\n",
    "print(db)\n",
    "len(db.documents)"
   ]
  },
  {
   "cell_type": "code",
   "execution_count": null,
   "metadata": {},
   "outputs": [
    {
     "data": {
      "text/plain": [
       "4"
      ]
     },
     "execution_count": 9,
     "metadata": {},
     "output_type": "execute_result"
    }
   ],
   "source": [
    "db.delete(indices=[1])\n",
    "len(db.documents)"
   ]
  },
  {
   "cell_type": "code",
   "execution_count": null,
   "metadata": {},
   "outputs": [
    {
     "data": {
      "text/plain": [
       "3"
      ]
     },
     "execution_count": 10,
     "metadata": {},
     "output_type": "execute_result"
    }
   ],
   "source": [
    "db.delete(indices=[1])\n",
    "len(db.documents)"
   ]
  },
  {
   "cell_type": "code",
   "execution_count": null,
   "metadata": {},
   "outputs": [
    {
     "data": {
      "text/plain": [
       "LocalDB(documents=[Document(id=b349a519-1139-42cb-9362-aa4a6a6919c4, text='Renewable energy technologies not only help in reducing greenhouse gas emissions but also contribute...', meta_data={'title': 'The Impact of Renewable Energy on the Economy'}, vector=[], parent_doc_id=None, order=None, score=None), Document(id=3ed98cb6-1ee2-4a96-b7fb-94bc5dcd3913, text='While solar energy offers substantial environmental benefits, such as reducing carbon footprints and...', meta_data={'title': 'Pros and Cons of Solar Energy'}, vector=[], parent_doc_id=None, order=None, score=None), Document(id=7e13dac8-3a2f-4dcb-aeba-2941d2249e1d, text='Renewable energy sources like wind, solar, and hydro power play a crucial role in combating climate ...', meta_data={'title': 'Renewable Energy and Its Effects'}, vector=[], parent_doc_id=None, order=None, score=None)], transformed_documents={}, mapped_documents={}, transformer_setups={})"
      ]
     },
     "execution_count": 11,
     "metadata": {},
     "output_type": "execute_result"
    }
   ],
   "source": [
    "db"
   ]
  },
  {
   "cell_type": "markdown",
   "metadata": {},
   "source": [
    "## data transformation (processing)"
   ]
  },
  {
   "cell_type": "code",
   "execution_count": null,
   "metadata": {},
   "outputs": [
    {
     "name": "stdout",
     "output_type": "stream",
     "text": [
      "{\n",
      "    \"text\": \"Renewable energy technologies not only help in reducing greenhouse gas emissions but also contribute significantly to the economy by creating jobs in the manufacturing and installation sectors. The growth in renewable energy usage boosts local economies through increased investment in technology and infrastructure.\",\n",
      "    \"meta_data\": {\n",
      "        \"title\": \"The Impact of Renewable Energy on the Economy\"\n",
      "    },\n",
      "    \"vector\": [],\n",
      "    \"id\": \"b349a519-1139-42cb-9362-aa4a6a6919c4\",\n",
      "    \"order\": \"None\",\n",
      "    \"score\": \"None\",\n",
      "    \"parent_doc_id\": \"None\",\n",
      "    \"estimated_num_tokens\": 47\n",
      "}\n"
     ]
    }
   ],
   "source": [
    "from lightrag.core.base_data_class import DataClassFormatType\n",
    "first_document = db.documents[0]\n",
    "json_str = first_document.format_example_str(DataClassFormatType.EXAMPLE_JSON)\n",
    "print(json_str)"
   ]
  },
  {
   "cell_type": "code",
   "execution_count": null,
   "metadata": {},
   "outputs": [
    {
     "name": "stdout",
     "output_type": "stream",
     "text": [
      "text: \"Renewable energy technologies not only help in reducing greenhouse gas emissions but also contribute significantly to the economy by creating jobs in the manufacturing and installation sectors. The growth in renewable energy usage boosts local economies through increased investment in technology and infrastructure.\"\n",
      "meta_data: title: The Impact of Renewable Energy on the Economy\n",
      "vector: []\n",
      "id: \"b349a519-1139-42cb-9362-aa4a6a6919c4\"\n",
      "order: null\n",
      "score: null\n",
      "parent_doc_id: null\n",
      "estimated_num_tokens: 47\n"
     ]
    }
   ],
   "source": [
    "yaml_str = first_document.format_example_str(DataClassFormatType.EXAMPLE_YAML)\n",
    "print(yaml_str)"
   ]
  }
 ],
 "metadata": {
  "kernelspec": {
   "display_name": "my-project-kernel",
   "language": "python",
   "name": "my-project-kernel"
  },
  "language_info": {
   "codemirror_mode": {
    "name": "ipython",
    "version": 3
   },
   "file_extension": ".py",
   "mimetype": "text/x-python",
   "name": "python",
   "nbconvert_exporter": "python",
   "pygments_lexer": "ipython3",
   "version": "3.11.6"
  }
 },
 "nbformat": 4,
 "nbformat_minor": 2
}
