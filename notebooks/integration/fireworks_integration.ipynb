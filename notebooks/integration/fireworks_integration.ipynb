{
 "cells": [
  {
   "cell_type": "markdown",
   "metadata": {},
   "source": [
    "# Welcome to AdalFlow 🤗\n",
    "AdalFlow is your go-to library for building and auto-optimizing LLM task pipelines. We're dedicated to providing an exceptional LLM application development experience.\n",
    "\n",
    "For questions or support, [join our Discord community](https://discord.gg/ezzszrRZvT).\n",
    "\n",
    "⭐ [Star us on GitHub!](https://github.com/SylphAI-Inc/AdalFlow) ⭐\n",
    "\n",
    "### Quick Links\n",
    "* [GitHub Repository](https://github.com/SylphAI-Inc/AdalFlow)\n",
    "* [Full Tutorials](https://adalflow.sylph.ai/index.html#)\n",
    "* [Developer Notes](https://adalflow.sylph.ai/tutorials/index.html)\n",
    "* [Use Cases](https://adalflow.sylph.ai/use_cases/index.html)\n",
    "\n",
    "### Authors\n",
    "This notebook was created by [Nicholas Fleischauer](https://www.linkedin.com/in/unobtainiumrock/).\n",
    "\n",
    "### Outline\n",
    "We will explore the usage of AdalFlow’s `FireworksClient` integration. \n",
    "\n",
    "Start by setting up your `Fireworks AI` account and obtaining your API key at [here](https://fireworks.ai/login).  \n"
   ]
  },
  {
   "cell_type": "code",
   "execution_count": 1,
   "metadata": {},
   "outputs": [],
   "source": [
    "from IPython.display import clear_output\n",
    "\n",
    "!pip install -U adalflow[fireworks-ai]\n",
    "\n",
    "clear_output()"
   ]
  },
  {
   "cell_type": "markdown",
   "metadata": {},
   "source": [
    "# 😇 Have Fun!\n",
    "\n",
    "Let's get started!  🚀\n",
    "\n"
   ]
  },
  {
   "cell_type": "code",
   "execution_count": 2,
   "metadata": {},
   "outputs": [
    {
     "name": "stdout",
     "output_type": "stream",
     "text": [
      "API keys have been set.\n"
     ]
    }
   ],
   "source": [
    "import os\n",
    "from getpass import getpass\n",
    "\n",
    "from adalflow.components.model_client.fireworks_client import FireworksClient\n",
    "from adalflow.core import Generator\n",
    "from adalflow.utils import setup_env, get_logger\n",
    "\n",
    "# Prompt user to enter their API keys securely\n",
    "FIREWORKS_API_KEY = getpass(\"Please enter your Mistral API key:\")\n",
    "\n",
    "# Set env variables\n",
    "os.environ[\"FIREWORKS_API_KEY\"] = FIREWORKS_API_KEY\n",
    "\n",
    "print(\"API keys have been set.\")"
   ]
  },
  {
   "cell_type": "code",
   "execution_count": 3,
   "metadata": {},
   "outputs": [
    {
     "name": "stdout",
     "output_type": "stream",
     "text": [
      "[Fireworks] LLM output:\n",
      "Welcome to Fireworks AI!\n",
      "\n",
      "Quantum mechanics is a branch of physics that studies the behavior of matter and energy at an atomic and subatomic level. It's a mind-bending concept that challenges our classical understanding of the world. Here's a simplified summary:\n",
      "\n",
      "**Main principles:**\n",
      "\n",
      "1. **Wave-particle duality**: Quantum objects, like electrons, can exhibit both wave-like and particle-like behavior depending on how they're observed.\n",
      "2. **Uncertainty principle**: It's impossible to know certain properties of a quantum object, like position and momentum, simultaneously with infinite precision.\n",
      "3. **Superposition**: Quantum objects can exist in multiple states simultaneously, like spinning both clockwise and counterclockwise at the same time.\n",
      "4. **Entanglement**: Quantum objects can become connected, allowing their properties to be correlated, even when separated by large distances.\n",
      "5. **Quantization**: Energy comes in discrete packets (quanta), rather than being continuous.\n",
      "\n",
      "**Key implications:**\n",
      "\n",
      "1. **Probabilistic nature**: Quantum mechanics is based on probabilities rather than definite outcomes.\n",
      "2. **Non-locality**: Quantum objects can instantaneously affect each other, regardless of distance.\n",
      "3. **Quantum computing**: Quantum mechanics forms the foundation for quantum computing, which uses quantum-mechanical phenomena to perform calculations and operations.\n",
      "\n",
      "**Real-world applications:**\n",
      "\n",
      "1. **Transistors**: The building blocks of modern electronics, transistors rely on quantum mechanics to control the flow of electrical current.\n",
      "2. **Lasers**: Quantum mechanics is responsible for the operation of lasers, which rely on the stimulated emission of photons.\n",
      "3. **Magnetic Resonance Imaging (MRI)**: MRI machines use quantum mechanics to create detailed images of the body.\n",
      "4. **Cryptography**: Quantum mechanics is used to develop secure encryption methods, like quantum key distribution.\n",
      "\n",
      "This is just a brief introduction to the fascinating world of quantum mechanics. If you have specific questions or topics you'd like me to expand on, feel free to ask!\n"
     ]
    }
   ],
   "source": [
    "client = FireworksClient()\n",
    "\n",
    "# Create the Generator with Fireworks client\n",
    "generator = Generator(\n",
    "    model_client=client,\n",
    "    model_kwargs={\n",
    "        \"model\": \"accounts/fireworks/models/llama-v3p1-8b-instruct\",\n",
    "        \"temperature\": 0.7,\n",
    "    },\n",
    ")\n",
    "\n",
    "# Provide a single prompt string\n",
    "prompt_kwargs = {\n",
    "    \"input_str\": \"Hello from Fireworks AI! Can you summarize the concept of quantum mechanics?\"\n",
    "}\n",
    "\n",
    "# Generate a response\n",
    "response = generator(prompt_kwargs)\n",
    "\n",
    "# Inspect/print the result\n",
    "if response.error:\n",
    "    print(f\"[Fireworks] Generator error: {response.error}\")\n",
    "else:\n",
    "    print(\"[Fireworks] LLM output:\")\n",
    "    print(response.data)"
   ]
  }
 ],
 "metadata": {
  "kernelspec": {
   "display_name": ".venv",
   "language": "python",
   "name": "python3"
  },
  "language_info": {
   "codemirror_mode": {
    "name": "ipython",
    "version": 3
   },
   "file_extension": ".py",
   "mimetype": "text/x-python",
   "name": "python",
   "nbconvert_exporter": "python",
   "pygments_lexer": "ipython3",
   "version": "3.12.3"
  }
 },
 "nbformat": 4,
 "nbformat_minor": 2
}
