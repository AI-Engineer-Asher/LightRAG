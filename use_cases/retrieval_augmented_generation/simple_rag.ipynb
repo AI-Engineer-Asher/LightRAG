{
 "cells": [
  {
   "cell_type": "markdown",
   "metadata": {},
   "source": [
    "# Build a Simple Retrieval-Augmented Generation (RAG) Pipeline"
   ]
  },
  {
   "cell_type": "markdown",
   "metadata": {},
   "source": [
    "In this use case, we show how to build and evaluate a simple RAG pipeline with LightRAG. RAG (Retrieval-Augmented Generation) pipelines leverage a retriever to fetch relevant context from a knowledge base (e.g., a document database) which is then fed to an LLM generator with the query to produce the answer. This allows the model to generate more contextually relevant answers."
   ]
  },
  {
   "cell_type": "code",
   "execution_count": 1,
   "metadata": {},
   "outputs": [],
   "source": [
    "# Import needed modules, including modules for loading datasets, constructing a RAG pipeline, and evaluating the performance of the RAG pipeline.\n",
    "import yaml\n",
    "from typing import Any, List, Optional, Union\n",
    "\n",
    "from datasets import load_dataset\n",
    "\n",
    "from lightrag.core.types import Document\n",
    "from lightrag.core.component import Component, Sequential\n",
    "from lightrag.core.embedder import Embedder\n",
    "from lightrag.core.document_splitter import DocumentSplitter\n",
    "from lightrag.core.data_components import (\n",
    "    RetrieverOutputToContextStr,\n",
    "    ToEmbeddings,\n",
    ")\n",
    "from lightrag.components.retriever import FAISSRetriever\n",
    "from lightrag.core.generator import Generator\n",
    "from lightrag.core.db import LocalDocumentDB\n",
    "from lightrag.core.string_parser import JsonParser"
   ]
  },
  {
   "cell_type": "code",
   "execution_count": 2,
   "metadata": {},
   "outputs": [],
   "source": [
    "# Here, we use the OpenAIClient in the Generator as an example, but you can use any other clients (with the corresponding API Key as needed)\n",
    "from lightrag.components.model_client import OpenAIClient\n",
    "OPENAI_API_KEY=\"YOUR_API_KEY\" # Replace with your OpenAI API Key, or you can put it in a .env file"
   ]
  },
  {
   "cell_type": "markdown",
   "metadata": {},
   "source": [
    "**Define the configuration for the RAG pipeline**. We load the configuration from a YAML file. This configuration specifies the components of the RAG pipeline, including the text_splitter, vectorizer, retriever, and generator."
   ]
  },
  {
   "cell_type": "code",
   "execution_count": 3,
   "metadata": {},
   "outputs": [
    {
     "name": "stdout",
     "output_type": "stream",
     "text": [
      "{'vectorizer': {'batch_size': 100, 'model_kwargs': {'model': 'text-embedding-3-small', 'dimensions': 256, 'encoding_format': 'float'}}, 'retriever': {'top_k': 2}, 'generator': {'model': 'gpt-3.5-turbo', 'temperature': 0.3, 'stream': False}, 'text_splitter': {'split_by': 'sentence', 'chunk_size': 1, 'chunk_overlap': 0}}\n"
     ]
    }
   ],
   "source": [
    "# Define the configuration settings for the RAG pipeline.\n",
    "with open(\"./simple_rag.yaml\", \"r\") as file:\n",
    "    settings = yaml.safe_load(file)\n",
    "print(settings)"
   ]
  },
  {
   "cell_type": "markdown",
   "metadata": {},
   "source": [
    "**Load a dataset**. Here, We use the [HotpotQA](https://huggingface.co/datasets/hotpotqa/hotpot_qa) dataset as an example. Each data sample in HotpotQA has *question*, *answer*, *context* and *supporting_facts* selected from the whole context."
   ]
  },
  {
   "cell_type": "code",
   "execution_count": 4,
   "metadata": {},
   "outputs": [
    {
     "name": "stdout",
     "output_type": "stream",
     "text": [
      "example: {'id': '5a7a06935542990198eaf050', 'question': \"Which magazine was started first Arthur's Magazine or First for Women?\", 'answer': \"Arthur's Magazine\", 'type': 'comparison', 'level': 'medium', 'supporting_facts': {'title': [\"Arthur's Magazine\", 'First for Women'], 'sent_id': [0, 0]}, 'context': {'title': ['Radio City (Indian radio station)', 'History of Albanian football', 'Echosmith', \"Women's colleges in the Southern United States\", 'First Arthur County Courthouse and Jail', \"Arthur's Magazine\", '2014–15 Ukrainian Hockey Championship', 'First for Women', 'Freeway Complex Fire', 'William Rast'], 'sentences': [[\"Radio City is India's first private FM radio station and was started on 3 July 2001.\", ' It broadcasts on 91.1 (earlier 91.0 in most cities) megahertz from Mumbai (where it was started in 2004), Bengaluru (started first in 2001), Lucknow and New Delhi (since 2003).', ' It plays Hindi, English and regional songs.', ' It was launched in Hyderabad in March 2006, in Chennai on 7 July 2006 and in Visakhapatnam October 2007.', ' Radio City recently forayed into New Media in May 2008 with the launch of a music portal - PlanetRadiocity.com that offers music related news, videos, songs, and other music-related features.', ' The Radio station currently plays a mix of Hindi and Regional music.', ' Abraham Thomas is the CEO of the company.'], ['Football in Albania existed before the Albanian Football Federation (FSHF) was created.', \" This was evidenced by the team's registration at the Balkan Cup tournament during 1929-1931, which started in 1929 (although Albania eventually had pressure from the teams because of competition, competition started first and was strong enough in the duels) .\", ' Albanian National Team was founded on June 6, 1930, but Albania had to wait 16 years to play its first international match and then defeated Yugoslavia in 1946.', ' In 1932, Albania joined FIFA (during the 12–16 June convention ) And in 1954 she was one of the founding members of UEFA.'], ['Echosmith is an American, Corporate indie pop band formed in February 2009 in Chino, California.', ' Originally formed as a quartet of siblings, the band currently consists of Sydney, Noah and Graham Sierota, following the departure of eldest sibling Jamie in late 2016.', ' Echosmith started first as \"Ready Set Go!\"', ' until they signed to Warner Bros.', ' Records in May 2012.', ' They are best known for their hit song \"Cool Kids\", which reached number 13 on the \"Billboard\" Hot 100 and was certified double platinum by the RIAA with over 1,200,000 sales in the United States and also double platinum by ARIA in Australia.', ' The song was Warner Bros.', \" Records' fifth-biggest-selling-digital song of 2014, with 1.3 million downloads sold.\", ' The band\\'s debut album, \"Talking Dreams\", was released on October 8, 2013.'], [\"Women's colleges in the Southern United States refers to undergraduate, bachelor's degree–granting institutions, often liberal arts colleges, whose student populations consist exclusively or almost exclusively of women, located in the Southern United States.\", \" Many started first as girls' seminaries or academies.\", ' Salem College is the oldest female educational institution in the South and Wesleyan College is the first that was established specifically as a college for women.', ' Some schools, such as Mary Baldwin University and Salem College, offer coeducational courses at the graduate level.'], ['The First Arthur County Courthouse and Jail, was perhaps the smallest court house in the United States, and serves now as a museum.'], [\"Arthur's Magazine (1844–1846) was an American literary periodical published in Philadelphia in the 19th century.\", ' Edited by T.S. Arthur, it featured work by Edgar A. Poe, J.H. Ingraham, Sarah Josepha Hale, Thomas G. Spear, and others.', ' In May 1846 it was merged into \"Godey\\'s Lady\\'s Book\".'], ['The 2014–15 Ukrainian Hockey Championship was the 23rd season of the Ukrainian Hockey Championship.', ' Only four teams participated in the league this season, because of the instability in Ukraine and that most of the clubs had economical issues.', ' Generals Kiev was the only team that participated in the league the previous season, and the season started first after the year-end of 2014.', ' The regular season included just 12 rounds, where all the teams went to the semifinals.', ' In the final, ATEK Kiev defeated the regular season winner HK Kremenchuk.'], [\"First for Women is a woman's magazine published by Bauer Media Group in the USA.\", ' The magazine was started in 1989.', ' It is based in Englewood Cliffs, New Jersey.', ' In 2011 the circulation of the magazine was 1,310,696 copies.'], ['The Freeway Complex Fire was a 2008 wildfire in the Santa Ana Canyon area of Orange County, California.', ' The fire started as two separate fires on November 15, 2008.', ' The \"Freeway Fire\" started first shortly after 9am with the \"Landfill Fire\" igniting approximately 2 hours later.', ' These two separate fires merged a day later and ultimately destroyed 314 residences in Anaheim Hills and Yorba Linda.'], ['William Rast is an American clothing line founded by Justin Timberlake and Trace Ayala.', ' It is most known for their premium jeans.', ' On October 17, 2006, Justin Timberlake and Trace Ayala put on their first fashion show to launch their new William Rast clothing line.', ' The label also produces other clothing items such as jackets and tops.', ' The company started first as a denim line, later evolving into a men’s and women’s clothing line.']]}}\n",
      "ground truth context: {'title': [\"Arthur's Magazine\", 'First for Women'], 'sent_id': [0, 0]}\n"
     ]
    },
    {
     "name": "stderr",
     "output_type": "stream",
     "text": [
      "/Users/mengliu/Library/Caches/pypoetry/virtualenvs/lightrag-project-OrKUABKc-py3.12/lib/python3.12/site-packages/datasets/table.py:1421: FutureWarning: promote has been superseded by promote_options='default'.\n",
      "  table = cls._concat_blocks(blocks, axis=0)\n"
     ]
    }
   ],
   "source": [
    "# Load the HotpotQA dataset. We select a subset of the dataset for demonstration purposes.\n",
    "dataset = load_dataset(path=\"hotpot_qa\", name=\"fullwiki\")\n",
    "dataset = dataset[\"train\"].select(range(5))\n",
    "print(f\"example: {dataset[0]}\")\n",
    "print(f\"ground truth context: {dataset[0]['supporting_facts']}\")"
   ]
  },
  {
   "cell_type": "markdown",
   "metadata": {},
   "source": [
    "**Define a simple RAG pipeline**. Define a RAG pipeline by specifying the key components, such as *vectorizer*, *retriever*, and *generator*. For more information on these components, refer to the developer notes."
   ]
  },
  {
   "cell_type": "code",
   "execution_count": 7,
   "metadata": {},
   "outputs": [],
   "source": [
    "# The defined RAG pipeline.\n",
    "class RAG(Component):\n",
    "\n",
    "    def __init__(self, settings: dict):\n",
    "        super().__init__()\n",
    "        self.vectorizer_settings = settings[\"vectorizer\"]\n",
    "        self.retriever_settings = settings[\"retriever\"]\n",
    "        self.generator_model_kwargs = settings[\"generator\"]\n",
    "        self.text_splitter_settings = settings[\"text_splitter\"]\n",
    "\n",
    "        vectorizer = Embedder(\n",
    "            model_client=OpenAIClient(),\n",
    "            model_kwargs=self.vectorizer_settings[\"model_kwargs\"],\n",
    "        )\n",
    "\n",
    "        text_splitter = DocumentSplitter(\n",
    "            split_by=self.text_splitter_settings[\"split_by\"],\n",
    "            split_length=self.text_splitter_settings[\"chunk_size\"],\n",
    "            split_overlap=self.text_splitter_settings[\"chunk_overlap\"],\n",
    "        )\n",
    "        self.data_transformer = Sequential(\n",
    "            text_splitter,\n",
    "            ToEmbeddings(\n",
    "                vectorizer=vectorizer,\n",
    "                batch_size=self.vectorizer_settings[\"batch_size\"],\n",
    "            ),\n",
    "        )\n",
    "        self.data_transformer_key = self.data_transformer._get_name()\n",
    "        # initialize retriever, which depends on the vectorizer too\n",
    "        self.retriever = FAISSRetriever(\n",
    "            top_k=self.retriever_settings[\"top_k\"],\n",
    "            dimensions=self.vectorizer_settings[\"model_kwargs\"][\"dimensions\"],\n",
    "            vectorizer=vectorizer,\n",
    "        )\n",
    "        self.retriever_output_processors = RetrieverOutputToContextStr(deduplicate=True)\n",
    "\n",
    "        self.db = LocalDocumentDB()\n",
    "\n",
    "        # initialize generator\n",
    "        self.generator = Generator(\n",
    "            preset_prompt_kwargs={\n",
    "                \"task_desc_str\": r\"\"\"\n",
    "                    You are a helpful assistant.\n",
    "\n",
    "                    Your task is to answer the query that may or may not come with context information.\n",
    "                    When context is provided, you should stick to the context and less on your prior knowledge to answer the query.\n",
    "\n",
    "                    Output JSON format:\n",
    "                    {\n",
    "                        \"answer\": \"The answer to the query\",\n",
    "                    }\"\"\"\n",
    "            },\n",
    "            model_client=OpenAIClient(),\n",
    "            model_kwargs=self.generator_model_kwargs,\n",
    "            output_processors=JsonParser(),\n",
    "        )\n",
    "        self.tracking = {\"vectorizer\": {\"num_calls\": 0, \"num_tokens\": 0}}\n",
    "\n",
    "    def build_index(self, documents: List[Document]):\n",
    "        self.db.load_documents(documents)\n",
    "        self.map_key = self.db.map_data()\n",
    "        print(f\"map_key: {self.map_key}\")\n",
    "        self.data_key = self.db.transform_data(self.data_transformer)\n",
    "        print(f\"data_key: {self.data_key}\")\n",
    "        self.transformed_documents = self.db.get_transformed_data(self.data_key)\n",
    "        self.retriever.build_index_from_documents(self.transformed_documents)\n",
    "\n",
    "    def generate(self, query: str, context: Optional[str] = None) -> Any:\n",
    "        if not self.generator:\n",
    "            raise ValueError(\"Generator is not set\")\n",
    "\n",
    "        prompt_kwargs = {\n",
    "            \"context_str\": context,\n",
    "            \"input_str\": query,\n",
    "        }\n",
    "        response = self.generator(prompt_kwargs=prompt_kwargs)\n",
    "        if response.error:\n",
    "            raise ValueError(f\"Error in generator: {response.error}\")\n",
    "        return response.data\n",
    "\n",
    "    def call(self, query: str) -> Any:\n",
    "        retrieved_documents = self.retriever(query)\n",
    "        # fill in the document\n",
    "        for i, retriever_output in enumerate(retrieved_documents):\n",
    "            retrieved_documents[i].documents = [\n",
    "                self.transformed_documents[doc_index]\n",
    "                for doc_index in retriever_output.doc_indexes\n",
    "            ]\n",
    "        # convert all the documents to context string\n",
    "        context_str = self.retriever_output_processors(retrieved_documents)\n",
    "\n",
    "        return self.generate(query, context=context_str), context_str"
   ]
  },
  {
   "cell_type": "markdown",
   "metadata": {},
   "source": [
    "To run the RAG piepline for each example in the dataset, we need to first **build the index** and then **call the pipeline**. For each sample in the dataset, we create a list of documents to retrieve from according to its corresponding *context* in the dataset. Each document has a title and a list of sentences. We use the `Document` class from `lightrag.core.types` to represent each document."
   ]
  },
  {
   "cell_type": "code",
   "execution_count": null,
   "metadata": {},
   "outputs": [
    {
     "name": "stdout",
     "output_type": "stream",
     "text": [
      "map_key: lightrag.core.db.<lambda>\n",
      "start to split documents\n",
      "splitted_doc: [Document(id=54e3ca94-8148-4c1a-8f00-57c3f5c0c074, text=Radio City is India's first private FM radio station and was started on 3 July 2001., meta_data={'title': 'Radio City (Indian radio station)'}, estimated_num_tokens=21, parent_doc_id=a69d50f7-6186-446a-9952-b9975da778ae), Document(id=858e5dba-30ad-4cee-9279-0b481ee14bd7, text=  It broadcasts on 91., meta_data={'title': 'Radio City (Indian radio station)'}, estimated_num_tokens=7, parent_doc_id=a69d50f7-6186-446a-9952-b9975da778ae), Document(id=9aa39091-bdcc-4a7c-9606-3cd816f95d94, text=1 (earlier 91., meta_data={'title': 'Radio City (Indian radio station)'}, estimated_num_tokens=7, parent_doc_id=a69d50f7-6186-446a-9952-b9975da778ae), Document(id=ac16cabd-223c-4f3c-85e0-eb35b83ca922, text=0 in most cities) megahertz from Mumbai (where it was started in 2004), Bengaluru (started first in 2001), Lucknow and New Delhi (since 2003)., meta_data={'title': 'Radio City (Indian radio station)'}, estimated_num_tokens=41, parent_doc_id=a69d50f7-6186-446a-9952-b9975da778ae), Document(id=2eda759e-d97c-4184-84fe-5db4550347ca, text=  It plays Hindi, English and regional songs., meta_data={'title': 'Radio City (Indian radio station)'}, estimated_num_tokens=10, parent_doc_id=a69d50f7-6186-446a-9952-b9975da778ae), Document(id=0e78080a-9235-49f1-bbcf-524b2ca34a09, text=  It was launched in Hyderabad in March 2006, in Chennai on 7 July 2006 and in Visakhapatnam October 2007., meta_data={'title': 'Radio City (Indian radio station)'}, estimated_num_tokens=32, parent_doc_id=a69d50f7-6186-446a-9952-b9975da778ae), Document(id=4c419002-253a-4235-a9a2-aa2ac64e3026, text=  Radio City recently forayed into New Media in May 2008 with the launch of a music portal - PlanetRadiocity., meta_data={'title': 'Radio City (Indian radio station)'}, estimated_num_tokens=26, parent_doc_id=a69d50f7-6186-446a-9952-b9975da778ae), Document(id=1db85923-cdef-4a24-9e3a-7f9e2ff053a7, text=com that offers music related news, videos, songs, and other music-related features., meta_data={'title': 'Radio City (Indian radio station)'}, estimated_num_tokens=17, parent_doc_id=a69d50f7-6186-446a-9952-b9975da778ae), Document(id=aef124ad-d406-48d1-8321-f68d0b3705e2, text=  The Radio station currently plays a mix of Hindi and Regional music., meta_data={'title': 'Radio City (Indian radio station)'}, estimated_num_tokens=14, parent_doc_id=a69d50f7-6186-446a-9952-b9975da778ae), Document(id=b2721c1b-0479-474e-b4ab-03e0c9aa9aca, text=  Abraham Thomas is the CEO of the company., meta_data={'title': 'Radio City (Indian radio station)'}, estimated_num_tokens=10, parent_doc_id=a69d50f7-6186-446a-9952-b9975da778ae), Document(id=1667c8d3-f75e-4f1b-a97f-70dfdeafdefb, text=Football in Albania existed before the Albanian Football Federation (FSHF) was created., meta_data={'title': 'History of Albanian football'}, estimated_num_tokens=17, parent_doc_id=5471d81d-0ef0-47a1-b683-899df5da9627), Document(id=affe3c50-0635-4db6-ada5-140031dd919d, text=  This was evidenced by the team's registration at the Balkan Cup tournament during 1929-1931, which started in 1929 (although Albania eventually had pressure from the teams because of competition, competition started first and was strong enough in the duels) ., meta_data={'title': 'History of Albanian football'}, estimated_num_tokens=55, parent_doc_id=5471d81d-0ef0-47a1-b683-899df5da9627), Document(id=2f6a73aa-f0e4-4e38-840c-8749718e09f7, text=  Albanian National Team was founded on June 6, 1930, but Albania had to wait 16 years to play its first international match and then defeated Yugoslavia in 1946., meta_data={'title': 'History of Albanian football'}, estimated_num_tokens=39, parent_doc_id=5471d81d-0ef0-47a1-b683-899df5da9627), Document(id=87caef3b-b4e9-4a35-9757-60eb8ece15c8, text=  In 1932, Albania joined FIFA (during the 12–16 June convention ) And in 1954 she was one of the founding members of UEFA., meta_data={'title': 'History of Albanian football'}, estimated_num_tokens=34, parent_doc_id=5471d81d-0ef0-47a1-b683-899df5da9627), Document(id=754203bf-51db-43d3-8480-e55f36d4436c, text=Echosmith is an American, Corporate indie pop band formed in February 2009 in Chino, California., meta_data={'title': 'Echosmith'}, estimated_num_tokens=23, parent_doc_id=5df4835f-8312-4c26-abac-71c5a2aa24c8), Document(id=e49ffc42-18bc-474d-b361-cefe3c89f288, text=  Originally formed as a quartet of siblings, the band currently consists of Sydney, Noah and Graham Sierota, following the departure of eldest sibling Jamie in late 2016., meta_data={'title': 'Echosmith'}, estimated_num_tokens=37, parent_doc_id=5df4835f-8312-4c26-abac-71c5a2aa24c8), Document(id=80dc23f0-b219-4f40-8ad1-4fb8ef1aa9cc, text=  Echosmith started first as \"Ready Set Go!\"  until they signed to Warner Bros., meta_data={'title': 'Echosmith'}, estimated_num_tokens=20, parent_doc_id=5df4835f-8312-4c26-abac-71c5a2aa24c8), Document(id=f910e6e9-2d31-42fb-85ac-793f05596351, text=  Records in May 2012., meta_data={'title': 'Echosmith'}, estimated_num_tokens=8, parent_doc_id=5df4835f-8312-4c26-abac-71c5a2aa24c8), Document(id=aeac71e5-0385-4d1f-9a8b-2d028a72c45a, text=  They are best known for their hit song \"Cool Kids\", which reached number 13 on the \"Billboard\" Hot 100 and was certified double platinum by the RIAA with over 1,200,000 sales in the United States and also double platinum by ARIA in Australia., meta_data={'title': 'Echosmith'}, estimated_num_tokens=60, parent_doc_id=5df4835f-8312-4c26-abac-71c5a2aa24c8), Document(id=b84d6161-4c5c-46e1-8821-141c6901ee41, text=  The song was Warner Bros., meta_data={'title': 'Echosmith'}, estimated_num_tokens=7, parent_doc_id=5df4835f-8312-4c26-abac-71c5a2aa24c8), Document(id=a3b12aaa-b5f9-482c-8d96-6e1cf3bc1022, text=  Records' fifth-biggest-selling-digital song of 2014, with 1., meta_data={'title': 'Echosmith'}, estimated_num_tokens=19, parent_doc_id=5df4835f-8312-4c26-abac-71c5a2aa24c8), Document(id=0c854314-7baf-4e65-b8d3-5c1f6b5a0eb6, text=3 million downloads sold., meta_data={'title': 'Echosmith'}, estimated_num_tokens=5, parent_doc_id=5df4835f-8312-4c26-abac-71c5a2aa24c8), Document(id=4ab4405f-9620-4e55-a62c-67afa651f866, text=  The band's debut album, \"Talking Dreams\", was released on October 8, 2013., meta_data={'title': 'Echosmith'}, estimated_num_tokens=22, parent_doc_id=5df4835f-8312-4c26-abac-71c5a2aa24c8), Document(id=31e4d4aa-c52b-4815-b7b9-dc428adaa172, text=Women's colleges in the Southern United States refers to undergraduate, bachelor's degree–granting institutions, often liberal arts colleges, whose student populations consist exclusively or almost exclusively of women, located in the Southern United States., meta_data={'title': \"Women's colleges in the Southern United States\"}, estimated_num_tokens=43, parent_doc_id=51700d62-4ef3-4473-a23d-ee44ea36c384), Document(id=7f4f34df-f4cf-42a4-bd6d-8f6023fab1c5, text=  Many started first as girls' seminaries or academies., meta_data={'title': \"Women's colleges in the Southern United States\"}, estimated_num_tokens=14, parent_doc_id=51700d62-4ef3-4473-a23d-ee44ea36c384), Document(id=9ae0bed3-570d-4e10-a95f-259476f677fb, text=  Salem College is the oldest female educational institution in the South and Wesleyan College is the first that was established specifically as a college for women., meta_data={'title': \"Women's colleges in the Southern United States\"}, estimated_num_tokens=29, parent_doc_id=51700d62-4ef3-4473-a23d-ee44ea36c384), Document(id=b2cca951-04c8-4601-a873-79b6744939b8, text=  Some schools, such as Mary Baldwin University and Salem College, offer coeducational courses at the graduate level., meta_data={'title': \"Women's colleges in the Southern United States\"}, estimated_num_tokens=23, parent_doc_id=51700d62-4ef3-4473-a23d-ee44ea36c384), Document(id=faa34193-9973-45f5-a7d5-788da8aa4d60, text=The First Arthur County Courthouse and Jail, was perhaps the smallest court house in the United States, and serves now as a museum., meta_data={'title': 'First Arthur County Courthouse and Jail'}, estimated_num_tokens=27, parent_doc_id=44543f35-9b5b-41dc-a4e9-6cadc4ecc9d5), Document(id=b1678550-4a22-44a0-8487-ab9e626189aa, text=Arthur's Magazine (1844–1846) was an American literary periodical published in Philadelphia in the 19th century., meta_data={'title': \"Arthur's Magazine\"}, estimated_num_tokens=26, parent_doc_id=6db097de-1c4f-410f-8777-cdca18fa67e5), Document(id=7ef7d4fe-5510-46ed-bd65-afa15ae5fc77, text=  Edited by T., meta_data={'title': \"Arthur's Magazine\"}, estimated_num_tokens=5, parent_doc_id=6db097de-1c4f-410f-8777-cdca18fa67e5), Document(id=ee831115-8460-44b3-ac8b-7e681dd3e6a1, text=S., meta_data={'title': \"Arthur's Magazine\"}, estimated_num_tokens=2, parent_doc_id=6db097de-1c4f-410f-8777-cdca18fa67e5), Document(id=a06d4866-6c5a-4264-bf00-5a4d2fef0e2c, text= Arthur, it featured work by Edgar A., meta_data={'title': \"Arthur's Magazine\"}, estimated_num_tokens=9, parent_doc_id=6db097de-1c4f-410f-8777-cdca18fa67e5), Document(id=9c672c7b-0f63-4c4c-a2a7-7af6b588c08f, text= Poe, J., meta_data={'title': \"Arthur's Magazine\"}, estimated_num_tokens=4, parent_doc_id=6db097de-1c4f-410f-8777-cdca18fa67e5), Document(id=15677695-c18a-46a2-a99e-f8a73db1bb99, text=H., meta_data={'title': \"Arthur's Magazine\"}, estimated_num_tokens=2, parent_doc_id=6db097de-1c4f-410f-8777-cdca18fa67e5), Document(id=7b9854c3-4174-4e11-babd-0f0c3510c84b, text= Ingraham, Sarah Josepha Hale, Thomas G., meta_data={'title': \"Arthur's Magazine\"}, estimated_num_tokens=13, parent_doc_id=6db097de-1c4f-410f-8777-cdca18fa67e5), Document(id=87e1f254-46ac-48f7-b073-b0bdeca754ec, text= Spear, and others., meta_data={'title': \"Arthur's Magazine\"}, estimated_num_tokens=5, parent_doc_id=6db097de-1c4f-410f-8777-cdca18fa67e5), Document(id=9795985e-b5f6-4aa7-8455-965a3dc11d6c, text=  In May 1846 it was merged into \"Godey's Lady's Book\"., meta_data={'title': \"Arthur's Magazine\"}, estimated_num_tokens=19, parent_doc_id=6db097de-1c4f-410f-8777-cdca18fa67e5), Document(id=0fcfd512-0155-4eec-bf2c-de1b0a6a654e, text=The 2014–15 Ukrainian Hockey Championship was the 23rd season of the Ukrainian Hockey Championship., meta_data={'title': '2014–15 Ukrainian Hockey Championship'}, estimated_num_tokens=21, parent_doc_id=c5ea8410-0200-4a87-8e5a-fe4b29cebdfe), Document(id=d9253bf0-fd55-4703-980e-6af4d21d29f8, text=  Only four teams participated in the league this season, because of the instability in Ukraine and that most of the clubs had economical issues., meta_data={'title': '2014–15 Ukrainian Hockey Championship'}, estimated_num_tokens=27, parent_doc_id=c5ea8410-0200-4a87-8e5a-fe4b29cebdfe), Document(id=5df4bbcc-9258-4239-ab5c-9f04b5d62d9a, text=  Generals Kiev was the only team that participated in the league the previous season, and the season started first after the year-end of 2014., meta_data={'title': '2014–15 Ukrainian Hockey Championship'}, estimated_num_tokens=31, parent_doc_id=c5ea8410-0200-4a87-8e5a-fe4b29cebdfe), Document(id=b0f067b0-3813-41a1-8241-45a628cf1ecf, text=  The regular season included just 12 rounds, where all the teams went to the semifinals., meta_data={'title': '2014–15 Ukrainian Hockey Championship'}, estimated_num_tokens=20, parent_doc_id=c5ea8410-0200-4a87-8e5a-fe4b29cebdfe), Document(id=23bfb91f-3bf6-4d8a-91c6-cbfbb82b9aee, text=  In the final, ATEK Kiev defeated the regular season winner HK Kremenchuk., meta_data={'title': '2014–15 Ukrainian Hockey Championship'}, estimated_num_tokens=20, parent_doc_id=c5ea8410-0200-4a87-8e5a-fe4b29cebdfe), Document(id=7a039ae2-cf6a-49b9-ada2-ebc496a2f8cf, text=First for Women is a woman's magazine published by Bauer Media Group in the USA., meta_data={'title': 'First for Women'}, estimated_num_tokens=17, parent_doc_id=35fc4eb7-7708-4e40-b045-4c73acb2204a), Document(id=52a20932-9738-4dc1-a9fb-895fba700879, text=  The magazine was started in 1989., meta_data={'title': 'First for Women'}, estimated_num_tokens=10, parent_doc_id=35fc4eb7-7708-4e40-b045-4c73acb2204a), Document(id=f062e075-512d-49dd-abe0-bafbebc9dc0c, text=  It is based in Englewood Cliffs, New Jersey., meta_data={'title': 'First for Women'}, estimated_num_tokens=14, parent_doc_id=35fc4eb7-7708-4e40-b045-4c73acb2204a), Document(id=213de99b-f082-4d32-a553-27611b97c78a, text=  In 2011 the circulation of the magazine was 1,310,696 copies., meta_data={'title': 'First for Women'}, estimated_num_tokens=19, parent_doc_id=35fc4eb7-7708-4e40-b045-4c73acb2204a), Document(id=708ae365-5f5d-400c-827e-7b48a12a938d, text=The Freeway Complex Fire was a 2008 wildfire in the Santa Ana Canyon area of Orange County, California., meta_data={'title': 'Freeway Complex Fire'}, estimated_num_tokens=23, parent_doc_id=1197b099-643e-45a2-89a3-4ecd0708a648), Document(id=c9513000-fca5-48cf-9f69-e7931d3fed6a, text=  The fire started as two separate fires on November 15, 2008., meta_data={'title': 'Freeway Complex Fire'}, estimated_num_tokens=17, parent_doc_id=1197b099-643e-45a2-89a3-4ecd0708a648), Document(id=bcf96704-624a-48f2-875c-8000ff2c55b4, text=  The \"Freeway Fire\" started first shortly after 9am with the \"Landfill Fire\" igniting approximately 2 hours later., meta_data={'title': 'Freeway Complex Fire'}, estimated_num_tokens=29, parent_doc_id=1197b099-643e-45a2-89a3-4ecd0708a648), Document(id=12980697-3246-4bbc-a076-10f7187c8bea, text=  These two separate fires merged a day later and ultimately destroyed 314 residences in Anaheim Hills and Yorba Linda., meta_data={'title': 'Freeway Complex Fire'}, estimated_num_tokens=24, parent_doc_id=1197b099-643e-45a2-89a3-4ecd0708a648), Document(id=f55ea350-85e5-4e1c-95a2-1f58baebfc8d, text=William Rast is an American clothing line founded by Justin Timberlake and Trace Ayala., meta_data={'title': 'William Rast'}, estimated_num_tokens=18, parent_doc_id=c16062a0-b92d-40ce-b8b1-7f98c5499aad), Document(id=456503d3-b061-4fdf-96ba-eb967f490f89, text=  It is most known for their premium jeans., meta_data={'title': 'William Rast'}, estimated_num_tokens=10, parent_doc_id=c16062a0-b92d-40ce-b8b1-7f98c5499aad), Document(id=7bb89815-0734-4977-8caf-7e1076e351ae, text=  On October 17, 2006, Justin Timberlake and Trace Ayala put on their first fashion show to launch their new William Rast clothing line., meta_data={'title': 'William Rast'}, estimated_num_tokens=33, parent_doc_id=c16062a0-b92d-40ce-b8b1-7f98c5499aad), Document(id=70e9204e-910d-496e-a200-dbba6764a345, text=  The label also produces other clothing items such as jackets and tops., meta_data={'title': 'William Rast'}, estimated_num_tokens=14, parent_doc_id=c16062a0-b92d-40ce-b8b1-7f98c5499aad), Document(id=b8c0f1df-c383-4ad7-bf7e-b9eef7c38bb7, text=  The company started first as a denim line, later evolving into a men’s and women’s clothing line., meta_data={'title': 'William Rast'}, estimated_num_tokens=22, parent_doc_id=c16062a0-b92d-40ce-b8b1-7f98c5499aad)]\n"
     ]
    },
    {
     "name": "stderr",
     "output_type": "stream",
     "text": [
      "100%|██████████| 1/1 [00:00<00:00,  1.84it/s]\n"
     ]
    },
    {
     "name": "stdout",
     "output_type": "stream",
     "text": [
      "data_key: Sequential_transformed\n"
     ]
    },
    {
     "ename": "",
     "evalue": "",
     "output_type": "error",
     "traceback": [
      "\u001b[1;31mThe Kernel crashed while executing code in the current cell or a previous cell. \n",
      "\u001b[1;31mPlease review the code in the cell(s) to identify a possible cause of the failure. \n",
      "\u001b[1;31mClick <a href='https://aka.ms/vscodeJupyterKernelCrash'>here</a> for more info. \n",
      "\u001b[1;31mView Jupyter <a href='command:jupyter.viewOutput'>log</a> for further details."
     ]
    }
   ],
   "source": [
    "# To get the ground truth context string from the supporting_facts filed in HotpotQA. This function is specific to the HotpotQA dataset.\n",
    "def get_supporting_sentences(\n",
    "    supporting_facts: dict[str, list[Union[str, int]]], context: dict[str, list[str]]\n",
    ") -> List[str]:\n",
    "    \"\"\"\n",
    "    Extract the supporting sentences from the context based on the supporting facts.\n",
    "    \"\"\"\n",
    "    extracted_sentences = []\n",
    "    for title, sent_id in zip(supporting_facts[\"title\"], supporting_facts[\"sent_id\"]):\n",
    "        if title in context[\"title\"]:\n",
    "            index = context[\"title\"].index(title)\n",
    "            sentence = context[\"sentences\"][index][sent_id]\n",
    "            extracted_sentences.append(sentence)\n",
    "    return extracted_sentences\n",
    "\n",
    "\n",
    "all_questions = []\n",
    "all_retrieved_context = []\n",
    "all_gt_context = []\n",
    "all_pred_answer = []\n",
    "all_gt_answer = []\n",
    "for data in dataset:\n",
    "    # build the document list\n",
    "    num_docs = len(data[\"context\"][\"title\"])\n",
    "    doc_list = [\n",
    "        Document(\n",
    "            meta_data={\"title\": data[\"context\"][\"title\"][i]},\n",
    "            text=\" \".join(data[\"context\"][\"sentences\"][i]),\n",
    "        )\n",
    "        for i in range(num_docs)\n",
    "    ]\n",
    "    # rag = RAG(settings)\n",
    "    # # build the index\n",
    "    # rag.build_index(doc_list)\n",
    "    # # call the pipeline\n",
    "    # query = data[\"question\"]\n",
    "    # response, context_str = rag.call(query)\n",
    "    # import ipdb; ipdb.set_trace()\n",
    "    # gt_context_sentence_list = get_supporting_sentences(\n",
    "    #     data[\"supporting_facts\"], data[\"context\"]\n",
    "    # )\n",
    "    # all_questions.append(query)\n",
    "    # all_retrieved_context.append(context_str)\n",
    "    # all_gt_context.append(gt_context_sentence_list)\n",
    "    # all_pred_answer.append(response[\"answer\"])\n",
    "    # all_gt_answer.append(data[\"answer\"])\n",
    "    # print(f\"query: {query}\")\n",
    "    # print(f\"response: {response['answer']}\")\n",
    "    # print(f\"ground truth response: {data['answer']}\")\n",
    "    # print(f\"context_str: {context_str}\")\n",
    "    # print(f\"ground truth context_str: {gt_context_sentence_list}\")\n"
   ]
  }
 ],
 "metadata": {
  "kernelspec": {
   "display_name": "lightrag-project",
   "language": "python",
   "name": "light-rag-project"
  },
  "language_info": {
   "codemirror_mode": {
    "name": "ipython",
    "version": 3
   },
   "file_extension": ".py",
   "mimetype": "text/x-python",
   "name": "python",
   "nbconvert_exporter": "python",
   "pygments_lexer": "ipython3",
   "version": "3.12.3"
  }
 },
 "nbformat": 4,
 "nbformat_minor": 2
}
